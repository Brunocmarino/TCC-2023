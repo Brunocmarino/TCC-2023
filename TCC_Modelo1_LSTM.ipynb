{
  "nbformat": 4,
  "nbformat_minor": 0,
  "metadata": {
    "colab": {
      "provenance": [],
      "authorship_tag": "ABX9TyPlqmFZBUetAAvSYf+cqpog"
    },
    "kernelspec": {
      "name": "python3",
      "display_name": "Python 3"
    },
    "language_info": {
      "name": "python"
    }
  },
  "cells": [
    {
      "cell_type": "code",
      "source": [
        "#pip install tensorflow"
      ],
      "metadata": {
        "id": "tv8hksk9EiSD"
      },
      "execution_count": null,
      "outputs": []
    },
    {
      "cell_type": "code",
      "execution_count": null,
      "metadata": {
        "id": "i8nnpjk8Vo2p"
      },
      "outputs": [],
      "source": [
        "# Importar as bibliotecas necessárias\n",
        "import os\n",
        "import pandas as pd\n",
        "import numpy as np\n",
        "import math\n",
        "import datetime\n",
        "import time\n",
        "\n",
        "# Importar sklearn para avaliar o modelo\n",
        "from sklearn.metrics import mean_squared_error, mean_absolute_error, explained_variance_score, r2_score\n",
        "from sklearn.metrics import mean_poisson_deviance, mean_gamma_deviance, accuracy_score\n",
        "from sklearn.preprocessing  import MinMaxScaler\n",
        "from sklearn.model_selection import train_test_split\n",
        "from sklearn.linear_model import LinearRegression\n",
        "from sklearn.metrics import confusion_matrix\n",
        "\n",
        "\n",
        "# Importar tensorflow para construir o modelo\n",
        "import tensorflow as tf\n",
        "import keras\n",
        "from keras import optimizers\n",
        "from keras.models import Sequential, Model\n",
        "from keras.layers import *\n",
        "from keras.callbacks import ModelCheckpoint, History\n",
        "from keras.losses import MeanSquaredError\n",
        "from keras.metrics import RootMeanSquaredError\n",
        "from keras.optimizers import Adam\n",
        "\n",
        "# Importar bibliotecas para plotar gráficos\n",
        "\n",
        "import matplotlib.pyplot as plt\n",
        "from itertools import cycle\n",
        "import plotly.graph_objects as go\n",
        "import plotly.express as px\n",
        "from plotly.subplots import make_subplots\n",
        "\n"
      ]
    },
    {
      "cell_type": "markdown",
      "source": [
        "## Variaveis Globais"
      ],
      "metadata": {
        "id": "N_nI01hq-LBl"
      }
    },
    {
      "cell_type": "code",
      "source": [
        "TIME_STEP = 15\n",
        "JUMP_STEP = 1\n",
        "NUM_FEATURES = 5\n",
        "THRESHOLD = 1\n",
        "# usando apenas o Close\n"
      ],
      "metadata": {
        "id": "2zbng1cT-UhW"
      },
      "execution_count": null,
      "outputs": []
    },
    {
      "cell_type": "markdown",
      "source": [
        "## Importar a Base de Dados"
      ],
      "metadata": {
        "id": "syo9xluyeRry"
      }
    },
    {
      "cell_type": "code",
      "source": [
        "ticker = 'BTC-USD'\n",
        "#1410825600\n",
        "initial_period = int(time.mktime(datetime.datetime(2014, 9, 16, 0, 0).timetuple()))\n",
        "\n",
        "#1675814400\n",
        "final_period = int(time.mktime(datetime.datetime(2023, 2, 8, 0, 0).timetuple()))\n",
        "# 3067 valores. 2300 é 75%\n",
        "interval = '1d' # 1d, 1wk, 1m\n",
        "\n",
        "query_string = f'https://query1.finance.yahoo.com/v7/finance/download/{ticker}?period1={initial_period}&period2={final_period}&interval={interval}&events=history&includeAdjustedClose=true'\n",
        "\n",
        "data = pd.read_csv(query_string)\n",
        "df = pd.DataFrame(data, columns=['Date', 'Open', 'High', 'Low', 'Close', 'Volume'])\n",
        "df.index = pd.to_datetime(df['Date'], format='%Y-%m-%d')\n",
        "\n",
        "df.head()"
      ],
      "metadata": {
        "id": "Dmlyft24aP-0",
        "colab": {
          "base_uri": "https://localhost:8080/",
          "height": 237
        },
        "outputId": "e06acff3-baf4-4ee3-cc58-17baf2da5c2e"
      },
      "execution_count": null,
      "outputs": [
        {
          "output_type": "execute_result",
          "data": {
            "text/plain": [
              "                  Date        Open        High         Low       Close  \\\n",
              "Date                                                                     \n",
              "2014-09-17  2014-09-17  465.864014  468.174011  452.421997  457.334015   \n",
              "2014-09-18  2014-09-18  456.859985  456.859985  413.104004  424.440002   \n",
              "2014-09-19  2014-09-19  424.102997  427.834991  384.532013  394.795990   \n",
              "2014-09-20  2014-09-20  394.673004  423.295990  389.882996  408.903992   \n",
              "2014-09-21  2014-09-21  408.084991  412.425995  393.181000  398.821014   \n",
              "\n",
              "              Volume  \n",
              "Date                  \n",
              "2014-09-17  21056800  \n",
              "2014-09-18  34483200  \n",
              "2014-09-19  37919700  \n",
              "2014-09-20  36863600  \n",
              "2014-09-21  26580100  "
            ],
            "text/html": [
              "\n",
              "  <div id=\"df-959c2ec0-8aa9-4462-9bee-a57d37801bb4\">\n",
              "    <div class=\"colab-df-container\">\n",
              "      <div>\n",
              "<style scoped>\n",
              "    .dataframe tbody tr th:only-of-type {\n",
              "        vertical-align: middle;\n",
              "    }\n",
              "\n",
              "    .dataframe tbody tr th {\n",
              "        vertical-align: top;\n",
              "    }\n",
              "\n",
              "    .dataframe thead th {\n",
              "        text-align: right;\n",
              "    }\n",
              "</style>\n",
              "<table border=\"1\" class=\"dataframe\">\n",
              "  <thead>\n",
              "    <tr style=\"text-align: right;\">\n",
              "      <th></th>\n",
              "      <th>Date</th>\n",
              "      <th>Open</th>\n",
              "      <th>High</th>\n",
              "      <th>Low</th>\n",
              "      <th>Close</th>\n",
              "      <th>Volume</th>\n",
              "    </tr>\n",
              "    <tr>\n",
              "      <th>Date</th>\n",
              "      <th></th>\n",
              "      <th></th>\n",
              "      <th></th>\n",
              "      <th></th>\n",
              "      <th></th>\n",
              "      <th></th>\n",
              "    </tr>\n",
              "  </thead>\n",
              "  <tbody>\n",
              "    <tr>\n",
              "      <th>2014-09-17</th>\n",
              "      <td>2014-09-17</td>\n",
              "      <td>465.864014</td>\n",
              "      <td>468.174011</td>\n",
              "      <td>452.421997</td>\n",
              "      <td>457.334015</td>\n",
              "      <td>21056800</td>\n",
              "    </tr>\n",
              "    <tr>\n",
              "      <th>2014-09-18</th>\n",
              "      <td>2014-09-18</td>\n",
              "      <td>456.859985</td>\n",
              "      <td>456.859985</td>\n",
              "      <td>413.104004</td>\n",
              "      <td>424.440002</td>\n",
              "      <td>34483200</td>\n",
              "    </tr>\n",
              "    <tr>\n",
              "      <th>2014-09-19</th>\n",
              "      <td>2014-09-19</td>\n",
              "      <td>424.102997</td>\n",
              "      <td>427.834991</td>\n",
              "      <td>384.532013</td>\n",
              "      <td>394.795990</td>\n",
              "      <td>37919700</td>\n",
              "    </tr>\n",
              "    <tr>\n",
              "      <th>2014-09-20</th>\n",
              "      <td>2014-09-20</td>\n",
              "      <td>394.673004</td>\n",
              "      <td>423.295990</td>\n",
              "      <td>389.882996</td>\n",
              "      <td>408.903992</td>\n",
              "      <td>36863600</td>\n",
              "    </tr>\n",
              "    <tr>\n",
              "      <th>2014-09-21</th>\n",
              "      <td>2014-09-21</td>\n",
              "      <td>408.084991</td>\n",
              "      <td>412.425995</td>\n",
              "      <td>393.181000</td>\n",
              "      <td>398.821014</td>\n",
              "      <td>26580100</td>\n",
              "    </tr>\n",
              "  </tbody>\n",
              "</table>\n",
              "</div>\n",
              "      <button class=\"colab-df-convert\" onclick=\"convertToInteractive('df-959c2ec0-8aa9-4462-9bee-a57d37801bb4')\"\n",
              "              title=\"Convert this dataframe to an interactive table.\"\n",
              "              style=\"display:none;\">\n",
              "        \n",
              "  <svg xmlns=\"http://www.w3.org/2000/svg\" height=\"24px\"viewBox=\"0 0 24 24\"\n",
              "       width=\"24px\">\n",
              "    <path d=\"M0 0h24v24H0V0z\" fill=\"none\"/>\n",
              "    <path d=\"M18.56 5.44l.94 2.06.94-2.06 2.06-.94-2.06-.94-.94-2.06-.94 2.06-2.06.94zm-11 1L8.5 8.5l.94-2.06 2.06-.94-2.06-.94L8.5 2.5l-.94 2.06-2.06.94zm10 10l.94 2.06.94-2.06 2.06-.94-2.06-.94-.94-2.06-.94 2.06-2.06.94z\"/><path d=\"M17.41 7.96l-1.37-1.37c-.4-.4-.92-.59-1.43-.59-.52 0-1.04.2-1.43.59L10.3 9.45l-7.72 7.72c-.78.78-.78 2.05 0 2.83L4 21.41c.39.39.9.59 1.41.59.51 0 1.02-.2 1.41-.59l7.78-7.78 2.81-2.81c.8-.78.8-2.07 0-2.86zM5.41 20L4 18.59l7.72-7.72 1.47 1.35L5.41 20z\"/>\n",
              "  </svg>\n",
              "      </button>\n",
              "      \n",
              "  <style>\n",
              "    .colab-df-container {\n",
              "      display:flex;\n",
              "      flex-wrap:wrap;\n",
              "      gap: 12px;\n",
              "    }\n",
              "\n",
              "    .colab-df-convert {\n",
              "      background-color: #E8F0FE;\n",
              "      border: none;\n",
              "      border-radius: 50%;\n",
              "      cursor: pointer;\n",
              "      display: none;\n",
              "      fill: #1967D2;\n",
              "      height: 32px;\n",
              "      padding: 0 0 0 0;\n",
              "      width: 32px;\n",
              "    }\n",
              "\n",
              "    .colab-df-convert:hover {\n",
              "      background-color: #E2EBFA;\n",
              "      box-shadow: 0px 1px 2px rgba(60, 64, 67, 0.3), 0px 1px 3px 1px rgba(60, 64, 67, 0.15);\n",
              "      fill: #174EA6;\n",
              "    }\n",
              "\n",
              "    [theme=dark] .colab-df-convert {\n",
              "      background-color: #3B4455;\n",
              "      fill: #D2E3FC;\n",
              "    }\n",
              "\n",
              "    [theme=dark] .colab-df-convert:hover {\n",
              "      background-color: #434B5C;\n",
              "      box-shadow: 0px 1px 3px 1px rgba(0, 0, 0, 0.15);\n",
              "      filter: drop-shadow(0px 1px 2px rgba(0, 0, 0, 0.3));\n",
              "      fill: #FFFFFF;\n",
              "    }\n",
              "  </style>\n",
              "\n",
              "      <script>\n",
              "        const buttonEl =\n",
              "          document.querySelector('#df-959c2ec0-8aa9-4462-9bee-a57d37801bb4 button.colab-df-convert');\n",
              "        buttonEl.style.display =\n",
              "          google.colab.kernel.accessAllowed ? 'block' : 'none';\n",
              "\n",
              "        async function convertToInteractive(key) {\n",
              "          const element = document.querySelector('#df-959c2ec0-8aa9-4462-9bee-a57d37801bb4');\n",
              "          const dataTable =\n",
              "            await google.colab.kernel.invokeFunction('convertToInteractive',\n",
              "                                                     [key], {});\n",
              "          if (!dataTable) return;\n",
              "\n",
              "          const docLinkHtml = 'Like what you see? Visit the ' +\n",
              "            '<a target=\"_blank\" href=https://colab.research.google.com/notebooks/data_table.ipynb>data table notebook</a>'\n",
              "            + ' to learn more about interactive tables.';\n",
              "          element.innerHTML = '';\n",
              "          dataTable['output_type'] = 'display_data';\n",
              "          await google.colab.output.renderOutput(dataTable, element);\n",
              "          const docLink = document.createElement('div');\n",
              "          docLink.innerHTML = docLinkHtml;\n",
              "          element.appendChild(docLink);\n",
              "        }\n",
              "      </script>\n",
              "    </div>\n",
              "  </div>\n",
              "  "
            ]
          },
          "metadata": {},
          "execution_count": 4
        }
      ]
    },
    {
      "cell_type": "markdown",
      "source": [
        "Função para escolher os dados utilizados de forma sequencial. A cada t valores\n"
      ],
      "metadata": {
        "id": "XL9rvrxc--7_"
      }
    },
    {
      "cell_type": "code",
      "source": [
        "def selecionaValores(df, jump_step):\n",
        "  return df[0::jump_step]\n",
        "\n",
        "df = selecionaValores(df, JUMP_STEP)"
      ],
      "metadata": {
        "id": "Q_vBUR_C_PA1"
      },
      "execution_count": null,
      "outputs": []
    },
    {
      "cell_type": "markdown",
      "source": [
        "Preparação dos Dados:"
      ],
      "metadata": {
        "id": "7ntbbIvr59kR"
      }
    },
    {
      "cell_type": "code",
      "source": [
        "# Retira a Data e coloca como Index\n",
        "df.index = df.pop('Date')\n",
        "\n",
        "# Adição da coluna de variação\n",
        "df['TargetChange'] = df.Close.shift(-1) - df['Close']\n",
        "# Adição da coluna de variação percentual\n",
        "df['TargetVariation'] = (df['TargetChange'] / df['Close'])*100\n",
        "# Adição da coluna de classificação\n",
        "df['TargetClass'] = [0 if df.TargetVariation[i] >= THRESHOLD else 1 if df.TargetVariation[i] <= (-THRESHOLD) else 2 for i in range(len(df))]\n",
        "# Adição da coluna de Valor Final\n",
        "df['TargetClose'] = df['Close'].shift(-1)\n",
        "\n",
        "# df.pop('TargetVariation')\n",
        "# df.pop('TargetClass')\n",
        "# df.pop('TargetClose')\n",
        "data.dropna(inplace=True)\n",
        "data.reset_index(inplace = True)\n"
      ],
      "metadata": {
        "id": "1eGnvTzf6Czd"
      },
      "execution_count": null,
      "outputs": []
    },
    {
      "cell_type": "code",
      "source": [
        "df.head()"
      ],
      "metadata": {
        "id": "MFJDEReCl6zL",
        "colab": {
          "base_uri": "https://localhost:8080/",
          "height": 237
        },
        "outputId": "d24a5b7c-e644-432d-ad31-599df7a54ac4"
      },
      "execution_count": null,
      "outputs": [
        {
          "output_type": "execute_result",
          "data": {
            "text/plain": [
              "                  Open        High         Low       Close    Volume  \\\n",
              "Date                                                                   \n",
              "2014-09-17  465.864014  468.174011  452.421997  457.334015  21056800   \n",
              "2014-09-18  456.859985  456.859985  413.104004  424.440002  34483200   \n",
              "2014-09-19  424.102997  427.834991  384.532013  394.795990  37919700   \n",
              "2014-09-20  394.673004  423.295990  389.882996  408.903992  36863600   \n",
              "2014-09-21  408.084991  412.425995  393.181000  398.821014  26580100   \n",
              "\n",
              "            TargetChange  TargetVariation  TargetClass  TargetClose  \n",
              "Date                                                                 \n",
              "2014-09-17    -32.894013        -7.192558            1   424.440002  \n",
              "2014-09-18    -29.644012        -6.984264            1   394.795990  \n",
              "2014-09-19     14.108002         3.573492            0   408.903992  \n",
              "2014-09-20    -10.082978        -2.465855            1   398.821014  \n",
              "2014-09-21      3.330994         0.835210            2   402.152008  "
            ],
            "text/html": [
              "\n",
              "  <div id=\"df-150a34b4-3be2-4988-8f8a-0ec5632c2aa6\">\n",
              "    <div class=\"colab-df-container\">\n",
              "      <div>\n",
              "<style scoped>\n",
              "    .dataframe tbody tr th:only-of-type {\n",
              "        vertical-align: middle;\n",
              "    }\n",
              "\n",
              "    .dataframe tbody tr th {\n",
              "        vertical-align: top;\n",
              "    }\n",
              "\n",
              "    .dataframe thead th {\n",
              "        text-align: right;\n",
              "    }\n",
              "</style>\n",
              "<table border=\"1\" class=\"dataframe\">\n",
              "  <thead>\n",
              "    <tr style=\"text-align: right;\">\n",
              "      <th></th>\n",
              "      <th>Open</th>\n",
              "      <th>High</th>\n",
              "      <th>Low</th>\n",
              "      <th>Close</th>\n",
              "      <th>Volume</th>\n",
              "      <th>TargetChange</th>\n",
              "      <th>TargetVariation</th>\n",
              "      <th>TargetClass</th>\n",
              "      <th>TargetClose</th>\n",
              "    </tr>\n",
              "    <tr>\n",
              "      <th>Date</th>\n",
              "      <th></th>\n",
              "      <th></th>\n",
              "      <th></th>\n",
              "      <th></th>\n",
              "      <th></th>\n",
              "      <th></th>\n",
              "      <th></th>\n",
              "      <th></th>\n",
              "      <th></th>\n",
              "    </tr>\n",
              "  </thead>\n",
              "  <tbody>\n",
              "    <tr>\n",
              "      <th>2014-09-17</th>\n",
              "      <td>465.864014</td>\n",
              "      <td>468.174011</td>\n",
              "      <td>452.421997</td>\n",
              "      <td>457.334015</td>\n",
              "      <td>21056800</td>\n",
              "      <td>-32.894013</td>\n",
              "      <td>-7.192558</td>\n",
              "      <td>1</td>\n",
              "      <td>424.440002</td>\n",
              "    </tr>\n",
              "    <tr>\n",
              "      <th>2014-09-18</th>\n",
              "      <td>456.859985</td>\n",
              "      <td>456.859985</td>\n",
              "      <td>413.104004</td>\n",
              "      <td>424.440002</td>\n",
              "      <td>34483200</td>\n",
              "      <td>-29.644012</td>\n",
              "      <td>-6.984264</td>\n",
              "      <td>1</td>\n",
              "      <td>394.795990</td>\n",
              "    </tr>\n",
              "    <tr>\n",
              "      <th>2014-09-19</th>\n",
              "      <td>424.102997</td>\n",
              "      <td>427.834991</td>\n",
              "      <td>384.532013</td>\n",
              "      <td>394.795990</td>\n",
              "      <td>37919700</td>\n",
              "      <td>14.108002</td>\n",
              "      <td>3.573492</td>\n",
              "      <td>0</td>\n",
              "      <td>408.903992</td>\n",
              "    </tr>\n",
              "    <tr>\n",
              "      <th>2014-09-20</th>\n",
              "      <td>394.673004</td>\n",
              "      <td>423.295990</td>\n",
              "      <td>389.882996</td>\n",
              "      <td>408.903992</td>\n",
              "      <td>36863600</td>\n",
              "      <td>-10.082978</td>\n",
              "      <td>-2.465855</td>\n",
              "      <td>1</td>\n",
              "      <td>398.821014</td>\n",
              "    </tr>\n",
              "    <tr>\n",
              "      <th>2014-09-21</th>\n",
              "      <td>408.084991</td>\n",
              "      <td>412.425995</td>\n",
              "      <td>393.181000</td>\n",
              "      <td>398.821014</td>\n",
              "      <td>26580100</td>\n",
              "      <td>3.330994</td>\n",
              "      <td>0.835210</td>\n",
              "      <td>2</td>\n",
              "      <td>402.152008</td>\n",
              "    </tr>\n",
              "  </tbody>\n",
              "</table>\n",
              "</div>\n",
              "      <button class=\"colab-df-convert\" onclick=\"convertToInteractive('df-150a34b4-3be2-4988-8f8a-0ec5632c2aa6')\"\n",
              "              title=\"Convert this dataframe to an interactive table.\"\n",
              "              style=\"display:none;\">\n",
              "        \n",
              "  <svg xmlns=\"http://www.w3.org/2000/svg\" height=\"24px\"viewBox=\"0 0 24 24\"\n",
              "       width=\"24px\">\n",
              "    <path d=\"M0 0h24v24H0V0z\" fill=\"none\"/>\n",
              "    <path d=\"M18.56 5.44l.94 2.06.94-2.06 2.06-.94-2.06-.94-.94-2.06-.94 2.06-2.06.94zm-11 1L8.5 8.5l.94-2.06 2.06-.94-2.06-.94L8.5 2.5l-.94 2.06-2.06.94zm10 10l.94 2.06.94-2.06 2.06-.94-2.06-.94-.94-2.06-.94 2.06-2.06.94z\"/><path d=\"M17.41 7.96l-1.37-1.37c-.4-.4-.92-.59-1.43-.59-.52 0-1.04.2-1.43.59L10.3 9.45l-7.72 7.72c-.78.78-.78 2.05 0 2.83L4 21.41c.39.39.9.59 1.41.59.51 0 1.02-.2 1.41-.59l7.78-7.78 2.81-2.81c.8-.78.8-2.07 0-2.86zM5.41 20L4 18.59l7.72-7.72 1.47 1.35L5.41 20z\"/>\n",
              "  </svg>\n",
              "      </button>\n",
              "      \n",
              "  <style>\n",
              "    .colab-df-container {\n",
              "      display:flex;\n",
              "      flex-wrap:wrap;\n",
              "      gap: 12px;\n",
              "    }\n",
              "\n",
              "    .colab-df-convert {\n",
              "      background-color: #E8F0FE;\n",
              "      border: none;\n",
              "      border-radius: 50%;\n",
              "      cursor: pointer;\n",
              "      display: none;\n",
              "      fill: #1967D2;\n",
              "      height: 32px;\n",
              "      padding: 0 0 0 0;\n",
              "      width: 32px;\n",
              "    }\n",
              "\n",
              "    .colab-df-convert:hover {\n",
              "      background-color: #E2EBFA;\n",
              "      box-shadow: 0px 1px 2px rgba(60, 64, 67, 0.3), 0px 1px 3px 1px rgba(60, 64, 67, 0.15);\n",
              "      fill: #174EA6;\n",
              "    }\n",
              "\n",
              "    [theme=dark] .colab-df-convert {\n",
              "      background-color: #3B4455;\n",
              "      fill: #D2E3FC;\n",
              "    }\n",
              "\n",
              "    [theme=dark] .colab-df-convert:hover {\n",
              "      background-color: #434B5C;\n",
              "      box-shadow: 0px 1px 3px 1px rgba(0, 0, 0, 0.15);\n",
              "      filter: drop-shadow(0px 1px 2px rgba(0, 0, 0, 0.3));\n",
              "      fill: #FFFFFF;\n",
              "    }\n",
              "  </style>\n",
              "\n",
              "      <script>\n",
              "        const buttonEl =\n",
              "          document.querySelector('#df-150a34b4-3be2-4988-8f8a-0ec5632c2aa6 button.colab-df-convert');\n",
              "        buttonEl.style.display =\n",
              "          google.colab.kernel.accessAllowed ? 'block' : 'none';\n",
              "\n",
              "        async function convertToInteractive(key) {\n",
              "          const element = document.querySelector('#df-150a34b4-3be2-4988-8f8a-0ec5632c2aa6');\n",
              "          const dataTable =\n",
              "            await google.colab.kernel.invokeFunction('convertToInteractive',\n",
              "                                                     [key], {});\n",
              "          if (!dataTable) return;\n",
              "\n",
              "          const docLinkHtml = 'Like what you see? Visit the ' +\n",
              "            '<a target=\"_blank\" href=https://colab.research.google.com/notebooks/data_table.ipynb>data table notebook</a>'\n",
              "            + ' to learn more about interactive tables.';\n",
              "          element.innerHTML = '';\n",
              "          dataTable['output_type'] = 'display_data';\n",
              "          await google.colab.output.renderOutput(dataTable, element);\n",
              "          const docLink = document.createElement('div');\n",
              "          docLink.innerHTML = docLinkHtml;\n",
              "          element.appendChild(docLink);\n",
              "        }\n",
              "      </script>\n",
              "    </div>\n",
              "  </div>\n",
              "  "
            ]
          },
          "metadata": {},
          "execution_count": 7
        }
      ]
    },
    {
      "cell_type": "code",
      "source": [
        "#plt.plot(df.index, df['Close'])"
      ],
      "metadata": {
        "id": "kYaFYGojLbfG"
      },
      "execution_count": null,
      "outputs": []
    },
    {
      "cell_type": "code",
      "source": [
        "# Separa as Features do Valor Final\n",
        "# Separa X de Y e Retira a última linha\n",
        "y_array = np.array(df.TargetClass)[:-1].copy()\n",
        "#df.pop('Open')\n",
        "#df.pop('High')\n",
        "#df.pop('Low')\n",
        "#df.pop('Volume')\n",
        "df.pop('TargetChange')\n",
        "df.pop('TargetVariation')\n",
        "df.pop('TargetClass')\n",
        "df.pop('TargetClose')\n",
        "x_array = np.array(df)[:-1].copy()\n"
      ],
      "metadata": {
        "id": "iSj1CwbZsIpg"
      },
      "execution_count": null,
      "outputs": []
    },
    {
      "cell_type": "code",
      "source": [
        "#Transforma os dados para suavizar as variações em escala absoluta\n",
        "scaler = MinMaxScaler(feature_range=(0, 1))\n",
        "x_scaled_data = scaler.fit_transform(x_array)\n",
        "#Talvez usar apenas transform em teste e não fit_transform"
      ],
      "metadata": {
        "id": "0cj30FewVA38"
      },
      "execution_count": null,
      "outputs": []
    },
    {
      "cell_type": "code",
      "source": [
        "# n = timestep = 3 no exemplo abaixo\n",
        "# [[[1], [2], [3]]] => [4]\n",
        "# [[[2], [3], [4]]] => [5]\n",
        "# [[[3], [4], [5]]] => [6]\n",
        "\n",
        "def createDataset(x, y, time_step=1):\n",
        "  input = []\n",
        "  output = []\n",
        "  for i in range(len(x) - time_step):\n",
        "    row = [e for e in x[i : i + time_step]]\n",
        "    input.append(row)\n",
        "    output.append([y[i]])\n",
        "  return np.array(input), np.array(output)\n",
        "\n",
        "x_data, y_data = createDataset(x_scaled_data, y_array, TIME_STEP)\n",
        "print(df.shape)\n",
        "print(x_data.shape, y_data.shape)"
      ],
      "metadata": {
        "colab": {
          "base_uri": "https://localhost:8080/"
        },
        "id": "hkOFLEGQ6E6Z",
        "outputId": "935c613a-6853-4860-ff74-c90bb4aae7ca"
      },
      "execution_count": null,
      "outputs": [
        {
          "output_type": "stream",
          "name": "stdout",
          "text": [
            "(3067, 5)\n",
            "(3051, 15, 5) (3051, 1)\n"
          ]
        }
      ]
    },
    {
      "cell_type": "code",
      "source": [
        "print(\"Data\")\n",
        "data_count = [0, 0, 0]\n",
        "for i in range(y_data.shape[0]):\n",
        "  if(y_data[i]==1):\n",
        "    data_count[1]+=1\n",
        "  elif(y_data[i]==2):\n",
        "    data_count[2]+=1\n",
        "  else:\n",
        "    data_count[0]+=1\n",
        "print(data_count)"
      ],
      "metadata": {
        "colab": {
          "base_uri": "https://localhost:8080/"
        },
        "id": "WFv1MHI2bP9a",
        "outputId": "468163a7-a33a-4e5c-ce26-140e1b03cfe3"
      },
      "execution_count": null,
      "outputs": [
        {
          "output_type": "stream",
          "name": "stdout",
          "text": [
            "Data\n",
            "[1049, 871, 1131]\n"
          ]
        }
      ]
    },
    {
      "cell_type": "markdown",
      "source": [
        "## Preparar os dados para Treino e Teste\n",
        "\n"
      ],
      "metadata": {
        "id": "SHj7ga8Hji3C"
      }
    },
    {
      "cell_type": "code",
      "source": [
        "# Divisão entre 70% treino, 10% validação e 20% teste\n",
        "size = len(df-1) - TIME_STEP\n",
        "train_size = int(size * 0.7)\n",
        "validation_size = int(size * 0.1)\n",
        "test_size = size - train_size - validation_size\n",
        "\n",
        "x_train, y_train = x_data[: train_size], y_data[: train_size]\n",
        "x_val, y_val = x_data[train_size : (train_size + validation_size)], y_data[train_size : (train_size + validation_size)]\n",
        "x_test, y_test = x_data[(train_size + validation_size) :], y_data[(train_size + validation_size) :]\n",
        "\n",
        "print(x_train.shape, y_train.shape)\n",
        "print(x_val.shape, y_val.shape)\n",
        "print(x_test.shape, y_test.shape)\n",
        "\n",
        "#[samples, time steps, features]"
      ],
      "metadata": {
        "colab": {
          "base_uri": "https://localhost:8080/"
        },
        "id": "cN1vXbqXzgjh",
        "outputId": "b5351991-7369-44a9-8c9b-df7d307093f5"
      },
      "execution_count": null,
      "outputs": [
        {
          "output_type": "stream",
          "name": "stdout",
          "text": [
            "(2136, 15, 5) (2136, 1)\n",
            "(305, 15, 5) (305, 1)\n",
            "(610, 15, 5) (610, 1)\n"
          ]
        }
      ]
    },
    {
      "cell_type": "markdown",
      "source": [
        "#### Imprime informações sobre os dados"
      ],
      "metadata": {
        "id": "Mpqd1OjXhLXQ"
      }
    },
    {
      "cell_type": "code",
      "source": [
        "# Quantos valores temos de cada classe\n",
        "# Lateralizou, Subiu, Caiu\n",
        "\n",
        "print(\"Train\")\n",
        "train_count = [0, 0, 0]\n",
        "for i in range(train_size):\n",
        "  if(y_train[i]==1):\n",
        "    train_count[1]+=1\n",
        "  elif(y_train[i]==2):\n",
        "    train_count[2]+=1\n",
        "  else:\n",
        "    train_count[0]+=1\n",
        "print(train_count)\n",
        "\n",
        "print(\"Test\")\n",
        "test_count = [0, 0, 0]\n",
        "for i in range(test_size-1):\n",
        "  if(y_test[i]==1):\n",
        "    test_count[1]+=1\n",
        "  elif(y_test[i]==2):\n",
        "    test_count[2]+=1\n",
        "  else:\n",
        "    test_count[0]+=1\n",
        "print(test_count)\n",
        "\n",
        "print(\"Validation\")\n",
        "val_count = [0, 0, 0]\n",
        "for i in range(validation_size):\n",
        "  if(y_val[i]==1):\n",
        "    val_count[1]+=1\n",
        "  elif(y_val[i]==2):\n",
        "    val_count[2]+=1\n",
        "  else:\n",
        "    val_count[0]+=1\n",
        "print(val_count)"
      ],
      "metadata": {
        "colab": {
          "base_uri": "https://localhost:8080/"
        },
        "id": "vrc1CowJV56M",
        "outputId": "71e4667f-9906-47bb-b630-b04c1b4d3aa6"
      },
      "execution_count": null,
      "outputs": [
        {
          "output_type": "stream",
          "name": "stdout",
          "text": [
            "Train\n",
            "[723, 583, 830]\n",
            "Test\n",
            "[197, 199, 214]\n",
            "Validation\n",
            "[129, 89, 87]\n"
          ]
        }
      ]
    },
    {
      "cell_type": "markdown",
      "source": [
        "## Construção do Modelo LSTM"
      ],
      "metadata": {
        "id": "5FjYMbeLgA7H"
      }
    },
    {
      "cell_type": "markdown",
      "source": [
        "### Modelo: LSTM\n",
        "\n"
      ],
      "metadata": {
        "id": "DJ54UplFDQZG"
      }
    },
    {
      "cell_type": "code",
      "source": [
        "# To One-Hot\n",
        "y_train = keras.utils.to_categorical(y_train, num_classes=3)\n",
        "y_val = keras.utils.to_categorical(y_val, num_classes=3)\n",
        "y_test = keras.utils.to_categorical(y_test, num_classes=3)\n"
      ],
      "metadata": {
        "id": "OoP6ZV_K9wFI"
      },
      "execution_count": null,
      "outputs": []
    },
    {
      "cell_type": "code",
      "source": [
        "print(x_train.shape,y_train.shape)"
      ],
      "metadata": {
        "colab": {
          "base_uri": "https://localhost:8080/"
        },
        "id": "7vklTZX2ISaN",
        "outputId": "26af12b6-6aaf-4e9f-f3da-b463217054b3"
      },
      "execution_count": null,
      "outputs": [
        {
          "output_type": "stream",
          "name": "stdout",
          "text": [
            "(2136, 15, 5) (2136, 3)\n"
          ]
        }
      ]
    },
    {
      "cell_type": "code",
      "source": [
        "#create the sequence model\n",
        "def create_model():\n",
        "    model = Sequential()\n",
        "    model.add(LSTM(units=64, activation=\"softmax\", return_sequences=True, input_shape=(x_train.shape[1], x_train.shape[2])))\n",
        "    model.add(LSTM(units=32, activation=\"softmax\", return_sequences=False))\n",
        "    model.add(Dropout(0.2))\n",
        "\n",
        "    model.add(Dense(units=3,activation=\"softmax\"))\n",
        "    model.summary()\n",
        "    return model"
      ],
      "metadata": {
        "id": "76_OIh_iSBVr"
      },
      "execution_count": null,
      "outputs": []
    },
    {
      "cell_type": "code",
      "source": [
        "# Classificação\n",
        "\n",
        "model = create_model()\n",
        "#https://keras.io/api/losses/probabilistic_losses/#sparsecategoricalcrossentropy-class\n",
        "model.compile(loss='categorical_crossentropy', optimizer='adam', metrics=['accuracy'])\n",
        "history = model.fit(x_train, y_train, validation_data=(x_val, y_val), epochs=200, batch_size=32)\n",
        "\n",
        "\n"
      ],
      "metadata": {
        "id": "HP32S8oOc-5O",
        "colab": {
          "base_uri": "https://localhost:8080/"
        },
        "outputId": "875869b0-478f-43d4-b0a5-1f7d5d1a3064"
      },
      "execution_count": null,
      "outputs": [
        {
          "output_type": "stream",
          "name": "stdout",
          "text": [
            "Model: \"sequential_1\"\n",
            "_________________________________________________________________\n",
            " Layer (type)                Output Shape              Param #   \n",
            "=================================================================\n",
            " lstm_2 (LSTM)               (None, 15, 64)            17920     \n",
            "                                                                 \n",
            " lstm_3 (LSTM)               (None, 32)                12416     \n",
            "                                                                 \n",
            " dropout_1 (Dropout)         (None, 32)                0         \n",
            "                                                                 \n",
            " dense_1 (Dense)             (None, 3)                 99        \n",
            "                                                                 \n",
            "=================================================================\n",
            "Total params: 30,435\n",
            "Trainable params: 30,435\n",
            "Non-trainable params: 0\n",
            "_________________________________________________________________\n",
            "Epoch 1/200\n",
            "67/67 [==============================] - 6s 33ms/step - loss: 1.0965 - accuracy: 0.3652 - val_loss: 1.1001 - val_accuracy: 0.2852\n",
            "Epoch 2/200\n",
            "67/67 [==============================] - 1s 17ms/step - loss: 1.0921 - accuracy: 0.3890 - val_loss: 1.1010 - val_accuracy: 0.2852\n",
            "Epoch 3/200\n",
            "67/67 [==============================] - 1s 17ms/step - loss: 1.0905 - accuracy: 0.3886 - val_loss: 1.1029 - val_accuracy: 0.2852\n",
            "Epoch 4/200\n",
            "67/67 [==============================] - 2s 24ms/step - loss: 1.0893 - accuracy: 0.3886 - val_loss: 1.1031 - val_accuracy: 0.2852\n",
            "Epoch 5/200\n",
            "67/67 [==============================] - 1s 18ms/step - loss: 1.0889 - accuracy: 0.3886 - val_loss: 1.1047 - val_accuracy: 0.2852\n",
            "Epoch 6/200\n",
            "67/67 [==============================] - 1s 17ms/step - loss: 1.0886 - accuracy: 0.3886 - val_loss: 1.1055 - val_accuracy: 0.2852\n",
            "Epoch 7/200\n",
            "67/67 [==============================] - 1s 18ms/step - loss: 1.0888 - accuracy: 0.3886 - val_loss: 1.1062 - val_accuracy: 0.2852\n",
            "Epoch 8/200\n",
            "67/67 [==============================] - 2s 24ms/step - loss: 1.0885 - accuracy: 0.3886 - val_loss: 1.1066 - val_accuracy: 0.2852\n",
            "Epoch 9/200\n",
            "67/67 [==============================] - 2s 27ms/step - loss: 1.0884 - accuracy: 0.3886 - val_loss: 1.1064 - val_accuracy: 0.2852\n",
            "Epoch 10/200\n",
            "67/67 [==============================] - 1s 18ms/step - loss: 1.0883 - accuracy: 0.3886 - val_loss: 1.1067 - val_accuracy: 0.2852\n",
            "Epoch 11/200\n",
            "67/67 [==============================] - 2s 30ms/step - loss: 1.0887 - accuracy: 0.3886 - val_loss: 1.1060 - val_accuracy: 0.2852\n",
            "Epoch 12/200\n",
            "67/67 [==============================] - 1s 18ms/step - loss: 1.0886 - accuracy: 0.3886 - val_loss: 1.1063 - val_accuracy: 0.2852\n",
            "Epoch 13/200\n",
            "67/67 [==============================] - 1s 17ms/step - loss: 1.0886 - accuracy: 0.3886 - val_loss: 1.1062 - val_accuracy: 0.2852\n",
            "Epoch 14/200\n",
            "67/67 [==============================] - 1s 18ms/step - loss: 1.0887 - accuracy: 0.3886 - val_loss: 1.1064 - val_accuracy: 0.2852\n",
            "Epoch 15/200\n",
            "67/67 [==============================] - 1s 17ms/step - loss: 1.0881 - accuracy: 0.3886 - val_loss: 1.1064 - val_accuracy: 0.2852\n",
            "Epoch 16/200\n",
            "67/67 [==============================] - 1s 17ms/step - loss: 1.0884 - accuracy: 0.3886 - val_loss: 1.1065 - val_accuracy: 0.2852\n",
            "Epoch 17/200\n",
            "67/67 [==============================] - 1s 22ms/step - loss: 1.0889 - accuracy: 0.3886 - val_loss: 1.1063 - val_accuracy: 0.2852\n",
            "Epoch 18/200\n",
            "67/67 [==============================] - 2s 31ms/step - loss: 1.0888 - accuracy: 0.3886 - val_loss: 1.1070 - val_accuracy: 0.2852\n",
            "Epoch 19/200\n",
            "67/67 [==============================] - 1s 20ms/step - loss: 1.0883 - accuracy: 0.3886 - val_loss: 1.1068 - val_accuracy: 0.2852\n",
            "Epoch 20/200\n",
            "67/67 [==============================] - 1s 18ms/step - loss: 1.0886 - accuracy: 0.3886 - val_loss: 1.1070 - val_accuracy: 0.2852\n",
            "Epoch 21/200\n",
            "67/67 [==============================] - 1s 17ms/step - loss: 1.0888 - accuracy: 0.3886 - val_loss: 1.1059 - val_accuracy: 0.2852\n",
            "Epoch 22/200\n",
            "67/67 [==============================] - 1s 17ms/step - loss: 1.0887 - accuracy: 0.3886 - val_loss: 1.1068 - val_accuracy: 0.2852\n",
            "Epoch 23/200\n",
            "67/67 [==============================] - 1s 17ms/step - loss: 1.0887 - accuracy: 0.3886 - val_loss: 1.1064 - val_accuracy: 0.2852\n",
            "Epoch 24/200\n",
            "67/67 [==============================] - 1s 17ms/step - loss: 1.0887 - accuracy: 0.3886 - val_loss: 1.1070 - val_accuracy: 0.2852\n",
            "Epoch 25/200\n",
            "67/67 [==============================] - 1s 19ms/step - loss: 1.0883 - accuracy: 0.3886 - val_loss: 1.1071 - val_accuracy: 0.2852\n",
            "Epoch 26/200\n",
            "67/67 [==============================] - 1s 18ms/step - loss: 1.0885 - accuracy: 0.3886 - val_loss: 1.1063 - val_accuracy: 0.2852\n",
            "Epoch 27/200\n",
            "67/67 [==============================] - 2s 31ms/step - loss: 1.0888 - accuracy: 0.3886 - val_loss: 1.1060 - val_accuracy: 0.2852\n",
            "Epoch 28/200\n",
            "67/67 [==============================] - 3s 48ms/step - loss: 1.0885 - accuracy: 0.3886 - val_loss: 1.1065 - val_accuracy: 0.2852\n",
            "Epoch 29/200\n",
            "67/67 [==============================] - 3s 43ms/step - loss: 1.0883 - accuracy: 0.3886 - val_loss: 1.1063 - val_accuracy: 0.2852\n",
            "Epoch 30/200\n",
            "67/67 [==============================] - 2s 27ms/step - loss: 1.0886 - accuracy: 0.3886 - val_loss: 1.1066 - val_accuracy: 0.2852\n",
            "Epoch 31/200\n",
            "67/67 [==============================] - 1s 18ms/step - loss: 1.0885 - accuracy: 0.3886 - val_loss: 1.1067 - val_accuracy: 0.2852\n",
            "Epoch 32/200\n",
            "67/67 [==============================] - 1s 18ms/step - loss: 1.0884 - accuracy: 0.3886 - val_loss: 1.1069 - val_accuracy: 0.2852\n",
            "Epoch 33/200\n",
            "67/67 [==============================] - 1s 21ms/step - loss: 1.0886 - accuracy: 0.3886 - val_loss: 1.1072 - val_accuracy: 0.2852\n",
            "Epoch 34/200\n",
            "67/67 [==============================] - 2s 29ms/step - loss: 1.0882 - accuracy: 0.3886 - val_loss: 1.1063 - val_accuracy: 0.2852\n",
            "Epoch 35/200\n",
            "67/67 [==============================] - 1s 21ms/step - loss: 1.0886 - accuracy: 0.3886 - val_loss: 1.1066 - val_accuracy: 0.2852\n",
            "Epoch 36/200\n",
            "67/67 [==============================] - 1s 17ms/step - loss: 1.0888 - accuracy: 0.3886 - val_loss: 1.1065 - val_accuracy: 0.2852\n",
            "Epoch 37/200\n",
            "67/67 [==============================] - 1s 17ms/step - loss: 1.0880 - accuracy: 0.3886 - val_loss: 1.1069 - val_accuracy: 0.2852\n",
            "Epoch 38/200\n",
            "67/67 [==============================] - 1s 17ms/step - loss: 1.0888 - accuracy: 0.3886 - val_loss: 1.1062 - val_accuracy: 0.2852\n",
            "Epoch 39/200\n",
            "67/67 [==============================] - 1s 17ms/step - loss: 1.0888 - accuracy: 0.3886 - val_loss: 1.1070 - val_accuracy: 0.2852\n",
            "Epoch 40/200\n",
            "67/67 [==============================] - 1s 18ms/step - loss: 1.0882 - accuracy: 0.3886 - val_loss: 1.1068 - val_accuracy: 0.2852\n",
            "Epoch 41/200\n",
            "67/67 [==============================] - 1s 18ms/step - loss: 1.0888 - accuracy: 0.3886 - val_loss: 1.1062 - val_accuracy: 0.2852\n",
            "Epoch 42/200\n",
            "67/67 [==============================] - 1s 17ms/step - loss: 1.0885 - accuracy: 0.3886 - val_loss: 1.1064 - val_accuracy: 0.2852\n",
            "Epoch 43/200\n",
            "67/67 [==============================] - 1s 18ms/step - loss: 1.0887 - accuracy: 0.3886 - val_loss: 1.1061 - val_accuracy: 0.2852\n",
            "Epoch 44/200\n",
            "67/67 [==============================] - 2s 29ms/step - loss: 1.0882 - accuracy: 0.3886 - val_loss: 1.1059 - val_accuracy: 0.2852\n",
            "Epoch 45/200\n",
            "67/67 [==============================] - 1s 22ms/step - loss: 1.0885 - accuracy: 0.3886 - val_loss: 1.1066 - val_accuracy: 0.2852\n",
            "Epoch 46/200\n",
            "67/67 [==============================] - 1s 18ms/step - loss: 1.0890 - accuracy: 0.3886 - val_loss: 1.1067 - val_accuracy: 0.2852\n",
            "Epoch 47/200\n",
            "67/67 [==============================] - 1s 19ms/step - loss: 1.0886 - accuracy: 0.3886 - val_loss: 1.1062 - val_accuracy: 0.2852\n",
            "Epoch 48/200\n",
            "67/67 [==============================] - 1s 18ms/step - loss: 1.0887 - accuracy: 0.3886 - val_loss: 1.1065 - val_accuracy: 0.2852\n",
            "Epoch 49/200\n",
            "67/67 [==============================] - 1s 17ms/step - loss: 1.0882 - accuracy: 0.3886 - val_loss: 1.1067 - val_accuracy: 0.2852\n",
            "Epoch 50/200\n",
            "67/67 [==============================] - 1s 18ms/step - loss: 1.0884 - accuracy: 0.3886 - val_loss: 1.1066 - val_accuracy: 0.2852\n",
            "Epoch 51/200\n",
            "67/67 [==============================] - 1s 17ms/step - loss: 1.0883 - accuracy: 0.3886 - val_loss: 1.1063 - val_accuracy: 0.2852\n",
            "Epoch 52/200\n",
            "67/67 [==============================] - 1s 18ms/step - loss: 1.0883 - accuracy: 0.3886 - val_loss: 1.1066 - val_accuracy: 0.2852\n",
            "Epoch 53/200\n",
            "67/67 [==============================] - 1s 22ms/step - loss: 1.0882 - accuracy: 0.3886 - val_loss: 1.1058 - val_accuracy: 0.2852\n",
            "Epoch 54/200\n",
            "67/67 [==============================] - 2s 29ms/step - loss: 1.0886 - accuracy: 0.3886 - val_loss: 1.1060 - val_accuracy: 0.2852\n",
            "Epoch 55/200\n",
            "67/67 [==============================] - 1s 19ms/step - loss: 1.0884 - accuracy: 0.3886 - val_loss: 1.1065 - val_accuracy: 0.2852\n",
            "Epoch 56/200\n",
            "67/67 [==============================] - 1s 17ms/step - loss: 1.0882 - accuracy: 0.3886 - val_loss: 1.1061 - val_accuracy: 0.2852\n",
            "Epoch 57/200\n",
            "67/67 [==============================] - 1s 17ms/step - loss: 1.0886 - accuracy: 0.3886 - val_loss: 1.1057 - val_accuracy: 0.2852\n",
            "Epoch 58/200\n",
            "67/67 [==============================] - 1s 17ms/step - loss: 1.0883 - accuracy: 0.3886 - val_loss: 1.1060 - val_accuracy: 0.2852\n",
            "Epoch 59/200\n",
            "67/67 [==============================] - 1s 18ms/step - loss: 1.0886 - accuracy: 0.3886 - val_loss: 1.1063 - val_accuracy: 0.2852\n",
            "Epoch 60/200\n",
            "67/67 [==============================] - 1s 18ms/step - loss: 1.0887 - accuracy: 0.3886 - val_loss: 1.1060 - val_accuracy: 0.2852\n",
            "Epoch 61/200\n",
            "67/67 [==============================] - 1s 18ms/step - loss: 1.0886 - accuracy: 0.3886 - val_loss: 1.1065 - val_accuracy: 0.2852\n",
            "Epoch 62/200\n",
            "67/67 [==============================] - 1s 19ms/step - loss: 1.0887 - accuracy: 0.3886 - val_loss: 1.1064 - val_accuracy: 0.2852\n",
            "Epoch 63/200\n",
            "67/67 [==============================] - 2s 24ms/step - loss: 1.0887 - accuracy: 0.3886 - val_loss: 1.1057 - val_accuracy: 0.2852\n",
            "Epoch 64/200\n",
            "67/67 [==============================] - 2s 28ms/step - loss: 1.0882 - accuracy: 0.3886 - val_loss: 1.1066 - val_accuracy: 0.2852\n",
            "Epoch 65/200\n",
            "67/67 [==============================] - 1s 17ms/step - loss: 1.0879 - accuracy: 0.3886 - val_loss: 1.1060 - val_accuracy: 0.2852\n",
            "Epoch 66/200\n",
            "67/67 [==============================] - 1s 18ms/step - loss: 1.0887 - accuracy: 0.3886 - val_loss: 1.1056 - val_accuracy: 0.2852\n",
            "Epoch 67/200\n",
            "67/67 [==============================] - 1s 18ms/step - loss: 1.0881 - accuracy: 0.3886 - val_loss: 1.1064 - val_accuracy: 0.2852\n",
            "Epoch 68/200\n",
            "67/67 [==============================] - 1s 18ms/step - loss: 1.0886 - accuracy: 0.3886 - val_loss: 1.1055 - val_accuracy: 0.2852\n",
            "Epoch 69/200\n",
            "67/67 [==============================] - 1s 18ms/step - loss: 1.0885 - accuracy: 0.3886 - val_loss: 1.1067 - val_accuracy: 0.2852\n",
            "Epoch 70/200\n",
            "67/67 [==============================] - 1s 18ms/step - loss: 1.0886 - accuracy: 0.3886 - val_loss: 1.1064 - val_accuracy: 0.2852\n",
            "Epoch 71/200\n",
            "67/67 [==============================] - 1s 18ms/step - loss: 1.0881 - accuracy: 0.3886 - val_loss: 1.1057 - val_accuracy: 0.2852\n",
            "Epoch 72/200\n",
            "67/67 [==============================] - 1s 18ms/step - loss: 1.0882 - accuracy: 0.3886 - val_loss: 1.1059 - val_accuracy: 0.2852\n",
            "Epoch 73/200\n",
            "67/67 [==============================] - 2s 26ms/step - loss: 1.0881 - accuracy: 0.3886 - val_loss: 1.1059 - val_accuracy: 0.2852\n",
            "Epoch 74/200\n",
            "67/67 [==============================] - 2s 27ms/step - loss: 1.0877 - accuracy: 0.3886 - val_loss: 1.1053 - val_accuracy: 0.2852\n",
            "Epoch 75/200\n",
            "67/67 [==============================] - 1s 18ms/step - loss: 1.0885 - accuracy: 0.3886 - val_loss: 1.1057 - val_accuracy: 0.2852\n",
            "Epoch 76/200\n",
            "67/67 [==============================] - 1s 18ms/step - loss: 1.0880 - accuracy: 0.3886 - val_loss: 1.1050 - val_accuracy: 0.2852\n",
            "Epoch 77/200\n",
            "67/67 [==============================] - 1s 19ms/step - loss: 1.0883 - accuracy: 0.3886 - val_loss: 1.1061 - val_accuracy: 0.2852\n",
            "Epoch 78/200\n",
            "67/67 [==============================] - 2s 27ms/step - loss: 1.0884 - accuracy: 0.3886 - val_loss: 1.1049 - val_accuracy: 0.2852\n",
            "Epoch 79/200\n",
            "67/67 [==============================] - 2s 27ms/step - loss: 1.0888 - accuracy: 0.3886 - val_loss: 1.1059 - val_accuracy: 0.2852\n",
            "Epoch 80/200\n",
            "67/67 [==============================] - 1s 18ms/step - loss: 1.0884 - accuracy: 0.3886 - val_loss: 1.1053 - val_accuracy: 0.2852\n",
            "Epoch 81/200\n",
            "67/67 [==============================] - 1s 19ms/step - loss: 1.0883 - accuracy: 0.3886 - val_loss: 1.1056 - val_accuracy: 0.2852\n",
            "Epoch 82/200\n",
            "67/67 [==============================] - 2s 30ms/step - loss: 1.0881 - accuracy: 0.3886 - val_loss: 1.1047 - val_accuracy: 0.2852\n",
            "Epoch 83/200\n",
            "67/67 [==============================] - 1s 20ms/step - loss: 1.0881 - accuracy: 0.3886 - val_loss: 1.1055 - val_accuracy: 0.2852\n",
            "Epoch 84/200\n",
            "67/67 [==============================] - 1s 18ms/step - loss: 1.0881 - accuracy: 0.3886 - val_loss: 1.1061 - val_accuracy: 0.2852\n",
            "Epoch 85/200\n",
            "67/67 [==============================] - 1s 18ms/step - loss: 1.0886 - accuracy: 0.3886 - val_loss: 1.1051 - val_accuracy: 0.2852\n",
            "Epoch 86/200\n",
            "67/67 [==============================] - 1s 18ms/step - loss: 1.0879 - accuracy: 0.3886 - val_loss: 1.1049 - val_accuracy: 0.2852\n",
            "Epoch 87/200\n",
            "67/67 [==============================] - 1s 17ms/step - loss: 1.0883 - accuracy: 0.3886 - val_loss: 1.1049 - val_accuracy: 0.2852\n",
            "Epoch 88/200\n",
            "67/67 [==============================] - 1s 18ms/step - loss: 1.0887 - accuracy: 0.3886 - val_loss: 1.1046 - val_accuracy: 0.2852\n",
            "Epoch 89/200\n",
            "67/67 [==============================] - 1s 17ms/step - loss: 1.0880 - accuracy: 0.3886 - val_loss: 1.1045 - val_accuracy: 0.2852\n",
            "Epoch 90/200\n",
            "67/67 [==============================] - 1s 17ms/step - loss: 1.0876 - accuracy: 0.3886 - val_loss: 1.1041 - val_accuracy: 0.2852\n",
            "Epoch 91/200\n",
            "67/67 [==============================] - 3s 38ms/step - loss: 1.0878 - accuracy: 0.3886 - val_loss: 1.1047 - val_accuracy: 0.2852\n",
            "Epoch 92/200\n",
            "67/67 [==============================] - 2s 25ms/step - loss: 1.0879 - accuracy: 0.3886 - val_loss: 1.1046 - val_accuracy: 0.2852\n",
            "Epoch 93/200\n",
            "67/67 [==============================] - 1s 17ms/step - loss: 1.0878 - accuracy: 0.3886 - val_loss: 1.1043 - val_accuracy: 0.2852\n",
            "Epoch 94/200\n",
            "67/67 [==============================] - 1s 19ms/step - loss: 1.0877 - accuracy: 0.3886 - val_loss: 1.1034 - val_accuracy: 0.2852\n",
            "Epoch 95/200\n",
            "67/67 [==============================] - 1s 18ms/step - loss: 1.0883 - accuracy: 0.3886 - val_loss: 1.1039 - val_accuracy: 0.2852\n",
            "Epoch 96/200\n",
            "67/67 [==============================] - 1s 18ms/step - loss: 1.0876 - accuracy: 0.3886 - val_loss: 1.1037 - val_accuracy: 0.2852\n",
            "Epoch 97/200\n",
            "67/67 [==============================] - 1s 18ms/step - loss: 1.0876 - accuracy: 0.3886 - val_loss: 1.1041 - val_accuracy: 0.2852\n",
            "Epoch 98/200\n",
            "67/67 [==============================] - 2s 25ms/step - loss: 1.0869 - accuracy: 0.3886 - val_loss: 1.1024 - val_accuracy: 0.2852\n",
            "Epoch 99/200\n",
            "67/67 [==============================] - 2s 25ms/step - loss: 1.0874 - accuracy: 0.3886 - val_loss: 1.1023 - val_accuracy: 0.2852\n",
            "Epoch 100/200\n",
            "67/67 [==============================] - 2s 29ms/step - loss: 1.0868 - accuracy: 0.3886 - val_loss: 1.1018 - val_accuracy: 0.2852\n",
            "Epoch 101/200\n",
            "67/67 [==============================] - 2s 23ms/step - loss: 1.0863 - accuracy: 0.3886 - val_loss: 1.1002 - val_accuracy: 0.2852\n",
            "Epoch 102/200\n",
            "67/67 [==============================] - 1s 18ms/step - loss: 1.0858 - accuracy: 0.3886 - val_loss: 1.0987 - val_accuracy: 0.2852\n",
            "Epoch 103/200\n",
            "67/67 [==============================] - 1s 17ms/step - loss: 1.0855 - accuracy: 0.3895 - val_loss: 1.0974 - val_accuracy: 0.2852\n",
            "Epoch 104/200\n",
            "67/67 [==============================] - 1s 18ms/step - loss: 1.0863 - accuracy: 0.3886 - val_loss: 1.0969 - val_accuracy: 0.2852\n",
            "Epoch 105/200\n",
            "67/67 [==============================] - 1s 18ms/step - loss: 1.0844 - accuracy: 0.3895 - val_loss: 1.0962 - val_accuracy: 0.2852\n",
            "Epoch 106/200\n",
            "67/67 [==============================] - 1s 18ms/step - loss: 1.0851 - accuracy: 0.3886 - val_loss: 1.0949 - val_accuracy: 0.2852\n",
            "Epoch 107/200\n",
            "67/67 [==============================] - 1s 18ms/step - loss: 1.0864 - accuracy: 0.3844 - val_loss: 1.0941 - val_accuracy: 0.4000\n",
            "Epoch 108/200\n",
            "67/67 [==============================] - 1s 18ms/step - loss: 1.0872 - accuracy: 0.3834 - val_loss: 1.0940 - val_accuracy: 0.4033\n",
            "Epoch 109/200\n",
            "67/67 [==============================] - 1s 20ms/step - loss: 1.0863 - accuracy: 0.3825 - val_loss: 1.0935 - val_accuracy: 0.4131\n",
            "Epoch 110/200\n",
            "67/67 [==============================] - 2s 28ms/step - loss: 1.0861 - accuracy: 0.3890 - val_loss: 1.0938 - val_accuracy: 0.4033\n",
            "Epoch 111/200\n",
            "67/67 [==============================] - 1s 22ms/step - loss: 1.0836 - accuracy: 0.3900 - val_loss: 1.0939 - val_accuracy: 0.4033\n",
            "Epoch 112/200\n",
            "67/67 [==============================] - 1s 18ms/step - loss: 1.0852 - accuracy: 0.3867 - val_loss: 1.0925 - val_accuracy: 0.4230\n",
            "Epoch 113/200\n",
            "67/67 [==============================] - 1s 17ms/step - loss: 1.0854 - accuracy: 0.3834 - val_loss: 1.0924 - val_accuracy: 0.4230\n",
            "Epoch 114/200\n",
            "67/67 [==============================] - 1s 18ms/step - loss: 1.0855 - accuracy: 0.3942 - val_loss: 1.0920 - val_accuracy: 0.4230\n",
            "Epoch 115/200\n",
            "67/67 [==============================] - 1s 18ms/step - loss: 1.0835 - accuracy: 0.4082 - val_loss: 1.0921 - val_accuracy: 0.4230\n",
            "Epoch 116/200\n",
            "67/67 [==============================] - 2s 28ms/step - loss: 1.0859 - accuracy: 0.3806 - val_loss: 1.0915 - val_accuracy: 0.4230\n",
            "Epoch 117/200\n",
            "67/67 [==============================] - 2s 26ms/step - loss: 1.0849 - accuracy: 0.3919 - val_loss: 1.0922 - val_accuracy: 0.4230\n",
            "Epoch 118/200\n",
            "67/67 [==============================] - 2s 23ms/step - loss: 1.0838 - accuracy: 0.3951 - val_loss: 1.0914 - val_accuracy: 0.4230\n",
            "Epoch 119/200\n",
            "67/67 [==============================] - 2s 29ms/step - loss: 1.0857 - accuracy: 0.3848 - val_loss: 1.0912 - val_accuracy: 0.4230\n",
            "Epoch 120/200\n",
            "67/67 [==============================] - 1s 19ms/step - loss: 1.0833 - accuracy: 0.4017 - val_loss: 1.0912 - val_accuracy: 0.4230\n",
            "Epoch 121/200\n",
            "67/67 [==============================] - 1s 18ms/step - loss: 1.0857 - accuracy: 0.3965 - val_loss: 1.0909 - val_accuracy: 0.4230\n",
            "Epoch 122/200\n",
            "67/67 [==============================] - 1s 18ms/step - loss: 1.0838 - accuracy: 0.3942 - val_loss: 1.0907 - val_accuracy: 0.4230\n",
            "Epoch 123/200\n",
            "67/67 [==============================] - 1s 18ms/step - loss: 1.0826 - accuracy: 0.4059 - val_loss: 1.0901 - val_accuracy: 0.4230\n",
            "Epoch 124/200\n",
            "67/67 [==============================] - 1s 18ms/step - loss: 1.0843 - accuracy: 0.3998 - val_loss: 1.0901 - val_accuracy: 0.4230\n",
            "Epoch 125/200\n",
            "67/67 [==============================] - 1s 18ms/step - loss: 1.0870 - accuracy: 0.3844 - val_loss: 1.0898 - val_accuracy: 0.4230\n",
            "Epoch 126/200\n",
            "67/67 [==============================] - 1s 18ms/step - loss: 1.0830 - accuracy: 0.4007 - val_loss: 1.0905 - val_accuracy: 0.4230\n",
            "Epoch 127/200\n",
            "67/67 [==============================] - 1s 18ms/step - loss: 1.0827 - accuracy: 0.4031 - val_loss: 1.0900 - val_accuracy: 0.4230\n",
            "Epoch 128/200\n",
            "67/67 [==============================] - 2s 26ms/step - loss: 1.0826 - accuracy: 0.4022 - val_loss: 1.0895 - val_accuracy: 0.4230\n",
            "Epoch 129/200\n",
            "67/67 [==============================] - 2s 27ms/step - loss: 1.0842 - accuracy: 0.3867 - val_loss: 1.0896 - val_accuracy: 0.4230\n",
            "Epoch 130/200\n",
            "67/67 [==============================] - 1s 18ms/step - loss: 1.0852 - accuracy: 0.3998 - val_loss: 1.0897 - val_accuracy: 0.4230\n",
            "Epoch 131/200\n",
            "67/67 [==============================] - 1s 18ms/step - loss: 1.0819 - accuracy: 0.4148 - val_loss: 1.0893 - val_accuracy: 0.4230\n",
            "Epoch 132/200\n",
            "67/67 [==============================] - 1s 18ms/step - loss: 1.0840 - accuracy: 0.3904 - val_loss: 1.0895 - val_accuracy: 0.4230\n",
            "Epoch 133/200\n",
            "67/67 [==============================] - 1s 18ms/step - loss: 1.0837 - accuracy: 0.3998 - val_loss: 1.0891 - val_accuracy: 0.4230\n",
            "Epoch 134/200\n",
            "67/67 [==============================] - 1s 18ms/step - loss: 1.0835 - accuracy: 0.4031 - val_loss: 1.0890 - val_accuracy: 0.4230\n",
            "Epoch 135/200\n",
            "67/67 [==============================] - 1s 18ms/step - loss: 1.0856 - accuracy: 0.3947 - val_loss: 1.0895 - val_accuracy: 0.4230\n",
            "Epoch 136/200\n",
            "67/67 [==============================] - 1s 19ms/step - loss: 1.0841 - accuracy: 0.3904 - val_loss: 1.0885 - val_accuracy: 0.4230\n",
            "Epoch 137/200\n",
            "67/67 [==============================] - 1s 18ms/step - loss: 1.0825 - accuracy: 0.3970 - val_loss: 1.0893 - val_accuracy: 0.4230\n",
            "Epoch 138/200\n",
            "67/67 [==============================] - 2s 29ms/step - loss: 1.0807 - accuracy: 0.4017 - val_loss: 1.0888 - val_accuracy: 0.4230\n",
            "Epoch 139/200\n",
            "67/67 [==============================] - 2s 28ms/step - loss: 1.0844 - accuracy: 0.3989 - val_loss: 1.0887 - val_accuracy: 0.4230\n",
            "Epoch 140/200\n",
            "67/67 [==============================] - 1s 18ms/step - loss: 1.0837 - accuracy: 0.4022 - val_loss: 1.0887 - val_accuracy: 0.4230\n",
            "Epoch 141/200\n",
            "67/67 [==============================] - 1s 18ms/step - loss: 1.0810 - accuracy: 0.4134 - val_loss: 1.0887 - val_accuracy: 0.4230\n",
            "Epoch 142/200\n",
            "67/67 [==============================] - 1s 18ms/step - loss: 1.0837 - accuracy: 0.3890 - val_loss: 1.0881 - val_accuracy: 0.4230\n",
            "Epoch 143/200\n",
            "67/67 [==============================] - 1s 18ms/step - loss: 1.0845 - accuracy: 0.3975 - val_loss: 1.0881 - val_accuracy: 0.4230\n",
            "Epoch 144/200\n",
            "67/67 [==============================] - 1s 21ms/step - loss: 1.0851 - accuracy: 0.3844 - val_loss: 1.0883 - val_accuracy: 0.4230\n",
            "Epoch 145/200\n",
            "67/67 [==============================] - 1s 18ms/step - loss: 1.0842 - accuracy: 0.3956 - val_loss: 1.0887 - val_accuracy: 0.4230\n",
            "Epoch 146/200\n",
            "67/67 [==============================] - 1s 18ms/step - loss: 1.0847 - accuracy: 0.4059 - val_loss: 1.0893 - val_accuracy: 0.4230\n",
            "Epoch 147/200\n",
            "67/67 [==============================] - 2s 30ms/step - loss: 1.0843 - accuracy: 0.4003 - val_loss: 1.0889 - val_accuracy: 0.4230\n",
            "Epoch 148/200\n",
            "67/67 [==============================] - 2s 27ms/step - loss: 1.0813 - accuracy: 0.4036 - val_loss: 1.0884 - val_accuracy: 0.4230\n",
            "Epoch 149/200\n",
            "67/67 [==============================] - 1s 18ms/step - loss: 1.0814 - accuracy: 0.4171 - val_loss: 1.0883 - val_accuracy: 0.4230\n",
            "Epoch 150/200\n",
            "67/67 [==============================] - 1s 18ms/step - loss: 1.0836 - accuracy: 0.3993 - val_loss: 1.0880 - val_accuracy: 0.4230\n",
            "Epoch 151/200\n",
            "67/67 [==============================] - 1s 18ms/step - loss: 1.0842 - accuracy: 0.4073 - val_loss: 1.0881 - val_accuracy: 0.4230\n",
            "Epoch 152/200\n",
            "67/67 [==============================] - 1s 18ms/step - loss: 1.0842 - accuracy: 0.3979 - val_loss: 1.0885 - val_accuracy: 0.4230\n",
            "Epoch 153/200\n",
            "67/67 [==============================] - 1s 18ms/step - loss: 1.0842 - accuracy: 0.4050 - val_loss: 1.0882 - val_accuracy: 0.4230\n",
            "Epoch 154/200\n",
            "67/67 [==============================] - 1s 18ms/step - loss: 1.0835 - accuracy: 0.3965 - val_loss: 1.0878 - val_accuracy: 0.4230\n",
            "Epoch 155/200\n",
            "67/67 [==============================] - 1s 18ms/step - loss: 1.0838 - accuracy: 0.3989 - val_loss: 1.0881 - val_accuracy: 0.4230\n",
            "Epoch 156/200\n",
            "67/67 [==============================] - 1s 19ms/step - loss: 1.0809 - accuracy: 0.4050 - val_loss: 1.0880 - val_accuracy: 0.4230\n",
            "Epoch 157/200\n",
            "67/67 [==============================] - 2s 29ms/step - loss: 1.0828 - accuracy: 0.4040 - val_loss: 1.0881 - val_accuracy: 0.4230\n",
            "Epoch 158/200\n",
            "67/67 [==============================] - 2s 24ms/step - loss: 1.0825 - accuracy: 0.4167 - val_loss: 1.0879 - val_accuracy: 0.4230\n",
            "Epoch 159/200\n",
            "67/67 [==============================] - 1s 18ms/step - loss: 1.0842 - accuracy: 0.4017 - val_loss: 1.0881 - val_accuracy: 0.4230\n",
            "Epoch 160/200\n",
            "67/67 [==============================] - 1s 20ms/step - loss: 1.0818 - accuracy: 0.4036 - val_loss: 1.0876 - val_accuracy: 0.4230\n",
            "Epoch 161/200\n",
            "67/67 [==============================] - 1s 19ms/step - loss: 1.0828 - accuracy: 0.4087 - val_loss: 1.0875 - val_accuracy: 0.4230\n",
            "Epoch 162/200\n",
            "67/67 [==============================] - 1s 20ms/step - loss: 1.0846 - accuracy: 0.3989 - val_loss: 1.0879 - val_accuracy: 0.4230\n",
            "Epoch 163/200\n",
            "67/67 [==============================] - 1s 18ms/step - loss: 1.0839 - accuracy: 0.4078 - val_loss: 1.0876 - val_accuracy: 0.4230\n",
            "Epoch 164/200\n",
            "67/67 [==============================] - 1s 19ms/step - loss: 1.0824 - accuracy: 0.4031 - val_loss: 1.0878 - val_accuracy: 0.4230\n",
            "Epoch 165/200\n",
            "67/67 [==============================] - 1s 18ms/step - loss: 1.0834 - accuracy: 0.3993 - val_loss: 1.0875 - val_accuracy: 0.4230\n",
            "Epoch 166/200\n",
            "67/67 [==============================] - 2s 27ms/step - loss: 1.0837 - accuracy: 0.4054 - val_loss: 1.0880 - val_accuracy: 0.4230\n",
            "Epoch 167/200\n",
            "67/67 [==============================] - 2s 28ms/step - loss: 1.0832 - accuracy: 0.3965 - val_loss: 1.0877 - val_accuracy: 0.4230\n",
            "Epoch 168/200\n",
            "67/67 [==============================] - 1s 20ms/step - loss: 1.0826 - accuracy: 0.3993 - val_loss: 1.0874 - val_accuracy: 0.4230\n",
            "Epoch 169/200\n",
            "67/67 [==============================] - 1s 19ms/step - loss: 1.0851 - accuracy: 0.4078 - val_loss: 1.0875 - val_accuracy: 0.4230\n",
            "Epoch 170/200\n",
            "67/67 [==============================] - 1s 19ms/step - loss: 1.0844 - accuracy: 0.4064 - val_loss: 1.0873 - val_accuracy: 0.4230\n",
            "Epoch 171/200\n",
            "67/67 [==============================] - 1s 18ms/step - loss: 1.0821 - accuracy: 0.4054 - val_loss: 1.0872 - val_accuracy: 0.4230\n",
            "Epoch 172/200\n",
            "67/67 [==============================] - 1s 19ms/step - loss: 1.0839 - accuracy: 0.4003 - val_loss: 1.0876 - val_accuracy: 0.4230\n",
            "Epoch 173/200\n",
            "67/67 [==============================] - 1s 19ms/step - loss: 1.0838 - accuracy: 0.4064 - val_loss: 1.0871 - val_accuracy: 0.4230\n",
            "Epoch 174/200\n",
            "67/67 [==============================] - 1s 18ms/step - loss: 1.0832 - accuracy: 0.4017 - val_loss: 1.0874 - val_accuracy: 0.4230\n",
            "Epoch 175/200\n",
            "67/67 [==============================] - 2s 24ms/step - loss: 1.0812 - accuracy: 0.4115 - val_loss: 1.0871 - val_accuracy: 0.4230\n",
            "Epoch 176/200\n",
            "67/67 [==============================] - 2s 28ms/step - loss: 1.0824 - accuracy: 0.3975 - val_loss: 1.0876 - val_accuracy: 0.4230\n",
            "Epoch 177/200\n",
            "67/67 [==============================] - 1s 19ms/step - loss: 1.0823 - accuracy: 0.4101 - val_loss: 1.0869 - val_accuracy: 0.4230\n",
            "Epoch 178/200\n",
            "67/67 [==============================] - 1s 18ms/step - loss: 1.0824 - accuracy: 0.4096 - val_loss: 1.0867 - val_accuracy: 0.4230\n",
            "Epoch 179/200\n",
            "67/67 [==============================] - 1s 19ms/step - loss: 1.0830 - accuracy: 0.4040 - val_loss: 1.0865 - val_accuracy: 0.4230\n",
            "Epoch 180/200\n",
            "67/67 [==============================] - 1s 19ms/step - loss: 1.0821 - accuracy: 0.4036 - val_loss: 1.0871 - val_accuracy: 0.4230\n",
            "Epoch 181/200\n",
            "67/67 [==============================] - 1s 20ms/step - loss: 1.0835 - accuracy: 0.4031 - val_loss: 1.0868 - val_accuracy: 0.4230\n",
            "Epoch 182/200\n",
            "67/67 [==============================] - 1s 18ms/step - loss: 1.0836 - accuracy: 0.4054 - val_loss: 1.0867 - val_accuracy: 0.4230\n",
            "Epoch 183/200\n",
            "67/67 [==============================] - 1s 18ms/step - loss: 1.0809 - accuracy: 0.3993 - val_loss: 1.0865 - val_accuracy: 0.4230\n",
            "Epoch 184/200\n",
            "67/67 [==============================] - 1s 18ms/step - loss: 1.0814 - accuracy: 0.4082 - val_loss: 1.0863 - val_accuracy: 0.4230\n",
            "Epoch 185/200\n",
            "67/67 [==============================] - 2s 28ms/step - loss: 1.0815 - accuracy: 0.4059 - val_loss: 1.0861 - val_accuracy: 0.4230\n",
            "Epoch 186/200\n",
            "67/67 [==============================] - 2s 26ms/step - loss: 1.0809 - accuracy: 0.4026 - val_loss: 1.0863 - val_accuracy: 0.4230\n",
            "Epoch 187/200\n",
            "67/67 [==============================] - 1s 18ms/step - loss: 1.0809 - accuracy: 0.3947 - val_loss: 1.0856 - val_accuracy: 0.4230\n",
            "Epoch 188/200\n",
            "67/67 [==============================] - 1s 19ms/step - loss: 1.0826 - accuracy: 0.4012 - val_loss: 1.0855 - val_accuracy: 0.4230\n",
            "Epoch 189/200\n",
            "67/67 [==============================] - 1s 18ms/step - loss: 1.0823 - accuracy: 0.4078 - val_loss: 1.0855 - val_accuracy: 0.4230\n",
            "Epoch 190/200\n",
            "67/67 [==============================] - 1s 18ms/step - loss: 1.0821 - accuracy: 0.4022 - val_loss: 1.0856 - val_accuracy: 0.4230\n",
            "Epoch 191/200\n",
            "67/67 [==============================] - 1s 20ms/step - loss: 1.0832 - accuracy: 0.4110 - val_loss: 1.0859 - val_accuracy: 0.4230\n",
            "Epoch 192/200\n",
            "67/67 [==============================] - 1s 19ms/step - loss: 1.0819 - accuracy: 0.4007 - val_loss: 1.0858 - val_accuracy: 0.4230\n",
            "Epoch 193/200\n",
            "67/67 [==============================] - 1s 19ms/step - loss: 1.0825 - accuracy: 0.4040 - val_loss: 1.0856 - val_accuracy: 0.4230\n",
            "Epoch 194/200\n",
            "67/67 [==============================] - 2s 26ms/step - loss: 1.0822 - accuracy: 0.4007 - val_loss: 1.0854 - val_accuracy: 0.4230\n",
            "Epoch 195/200\n",
            "67/67 [==============================] - 2s 30ms/step - loss: 1.0833 - accuracy: 0.3993 - val_loss: 1.0857 - val_accuracy: 0.4230\n",
            "Epoch 196/200\n",
            "67/67 [==============================] - 1s 19ms/step - loss: 1.0821 - accuracy: 0.3979 - val_loss: 1.0853 - val_accuracy: 0.4230\n",
            "Epoch 197/200\n",
            "67/67 [==============================] - 1s 20ms/step - loss: 1.0819 - accuracy: 0.3979 - val_loss: 1.0855 - val_accuracy: 0.4230\n",
            "Epoch 198/200\n",
            "67/67 [==============================] - 1s 18ms/step - loss: 1.0808 - accuracy: 0.4045 - val_loss: 1.0854 - val_accuracy: 0.4230\n",
            "Epoch 199/200\n",
            "67/67 [==============================] - 1s 18ms/step - loss: 1.0828 - accuracy: 0.3909 - val_loss: 1.0854 - val_accuracy: 0.4230\n",
            "Epoch 200/200\n",
            "67/67 [==============================] - 1s 18ms/step - loss: 1.0809 - accuracy: 0.4026 - val_loss: 1.0851 - val_accuracy: 0.4230\n"
          ]
        }
      ]
    },
    {
      "cell_type": "code",
      "source": [
        "loss = history.history['loss']\n",
        "val_loss = history.history['val_loss']\n",
        "epochs = range(len(loss))\n",
        "\n",
        "plt.plot(epochs, loss, 'r', label='Training loss')\n",
        "plt.plot(epochs, val_loss, 'b', label='Validation loss')\n",
        "plt.title('Training and validation loss')\n",
        "plt.legend(loc=0)\n",
        "plt.figure()\n",
        "\n",
        "\n",
        "plt.show()"
      ],
      "metadata": {
        "id": "x0Cumz7bHhzt",
        "colab": {
          "base_uri": "https://localhost:8080/",
          "height": 469
        },
        "outputId": "bb3b62b8-b933-4bd4-9105-35257bb2b722"
      },
      "execution_count": null,
      "outputs": [
        {
          "output_type": "display_data",
          "data": {
            "text/plain": [
              "<Figure size 640x480 with 1 Axes>"
            ],
            "image/png": "[encoded data removed]"
          },
          "metadata": {}
        },
        {
          "output_type": "display_data",
          "data": {
            "text/plain": [
              "<Figure size 640x480 with 0 Axes>"
            ]
          },
          "metadata": {}
        }
      ]
    },
    {
      "cell_type": "markdown",
      "source": [
        "## Previsões"
      ],
      "metadata": {
        "id": "EFWMq8xTHkOH"
      }
    },
    {
      "cell_type": "code",
      "source": [
        "loss,accuracy = model.evaluate(x_test, y_test, batch_size=32)"
      ],
      "metadata": {
        "colab": {
          "base_uri": "https://localhost:8080/"
        },
        "id": "WZuC2Z_2X84J",
        "outputId": "7459fba8-15b8-454b-a168-060b119ea356"
      },
      "execution_count": null,
      "outputs": [
        {
          "output_type": "stream",
          "name": "stdout",
          "text": [
            "20/20 [==============================] - 0s 8ms/step - loss: 1.1047 - accuracy: 0.3508\n"
          ]
        }
      ]
    },
    {
      "cell_type": "code",
      "source": [
        "train_predict_probs = model.predict(x_train)\n",
        "val_predict_probs = model.predict(x_val)\n",
        "test_predict_probs = model.predict(x_test)\n",
        "\n",
        "train_predict = np.argmax(train_predict_probs, axis=1)\n",
        "val_predict = np.argmax(val_predict_probs, axis=1)\n",
        "test_predict = np.argmax(test_predict_probs, axis=1)\n",
        "\n",
        "print(train_predict.shape, val_predict.shape, test_predict.shape)\n",
        "print(train_predict)"
      ],
      "metadata": {
        "id": "yfAgKfbvHmUx",
        "colab": {
          "base_uri": "https://localhost:8080/"
        },
        "outputId": "3ecc3952-403d-4c9e-b638-1a5a56a1fc8d"
      },
      "execution_count": null,
      "outputs": [
        {
          "output_type": "stream",
          "name": "stdout",
          "text": [
            "67/67 [==============================] - 1s 5ms/step\n",
            "10/10 [==============================] - 0s 7ms/step\n",
            "20/20 [==============================] - 0s 5ms/step\n",
            "(2136,) (305,) (610,)\n",
            "[2 2 2 ... 2 2 2]\n"
          ]
        }
      ]
    },
    {
      "cell_type": "code",
      "source": [
        "train_predict_probs"
      ],
      "metadata": {
        "id": "HozPNVRat1Tk",
        "outputId": "596001d6-3613-4cb8-d190-31d51a7af2fa",
        "colab": {
          "base_uri": "https://localhost:8080/"
        }
      },
      "execution_count": null,
      "outputs": [
        {
          "output_type": "execute_result",
          "data": {
            "text/plain": [
              "array([[0.3387776 , 0.2740084 , 0.387214  ],\n",
              "       [0.3387776 , 0.2740084 , 0.38721403],\n",
              "       [0.33877757, 0.2740083 , 0.38721403],\n",
              "       ...,\n",
              "       [0.33877343, 0.27406427, 0.38716227],\n",
              "       [0.3387734 , 0.27406454, 0.38716206],\n",
              "       [0.33877334, 0.2740659 , 0.38716084]], dtype=float32)"
            ]
          },
          "metadata": {},
          "execution_count": 25
        }
      ]
    },
    {
      "cell_type": "code",
      "source": [
        "conf_matrix = confusion_matrix(y_true=np.argmax(y_test, axis=1), y_pred=test_predict)\n",
        "conf_matrix"
      ],
      "metadata": {
        "colab": {
          "base_uri": "https://localhost:8080/"
        },
        "id": "JAkLOxGv9bgf",
        "outputId": "02a574d2-7b06-482e-8462-c40242fd3526"
      },
      "execution_count": null,
      "outputs": [
        {
          "output_type": "execute_result",
          "data": {
            "text/plain": [
              "array([[  0,   0, 197],\n",
              "       [  0,   0, 199],\n",
              "       [  0,   0, 214]])"
            ]
          },
          "metadata": {},
          "execution_count": 22
        }
      ]
    },
    {
      "cell_type": "markdown",
      "source": [
        "Plotar o Gráfico"
      ],
      "metadata": {
        "id": "BlOdoJmVYwYB"
      }
    }
  ]
}