{
  "cells": [
    {
      "cell_type": "markdown",
      "metadata": {
        "id": "vRUz8KL04LTY"
      },
      "source": [
        "Nesse projeto uso LSTM para descobrir qual é o preço de fechamento do bitcoin. Uso 5 features relativas ao candle de negociação diária e prevejo o preço de fechamento do dia seguinte\n",
        "\n"
      ]
    },
    {
      "cell_type": "code",
      "execution_count": null,
      "metadata": {
        "colab": {
          "base_uri": "https://localhost:8080/"
        },
        "id": "bU43rs7ceXXw",
        "outputId": "78f7e587-6773-4db3-ac2d-f92c10db46e9"
      },
      "outputs": [],
      "source": [
        "# !pip install keras-tuner\n",
        "# !pip install tensorflow\n",
        "# !pip install numpy\n",
        "# !pip install pandas"
      ]
    },
    {
      "cell_type": "code",
      "execution_count": null,
      "metadata": {
        "id": "i8nnpjk8Vo2p"
      },
      "outputs": [],
      "source": [
        "#Importar as bibliotecas necessárias\n",
        "import os\n",
        "import pandas as pd\n",
        "import numpy as np\n",
        "import math\n",
        "import datetime\n",
        "import time\n",
        "\n",
        "# Importar sklearn para avaliar o modelo\n",
        "from sklearn.metrics import mean_squared_error, mean_absolute_error, explained_variance_score, r2_score\n",
        "from sklearn.metrics import mean_poisson_deviance, mean_gamma_deviance, accuracy_score\n",
        "from sklearn.preprocessing  import MinMaxScaler\n",
        "from sklearn.model_selection import train_test_split\n",
        "from sklearn.linear_model import LinearRegression\n",
        "from sklearn.metrics import confusion_matrix\n",
        "# from scikeras.wrappers import KerasRegressor\n",
        "# from tensorflow.keras.wrappers.scikit_learn import KerasRegressor\n",
        "\n",
        "\n",
        "from sklearn.model_selection import RandomizedSearchCV\n",
        "from scipy.stats import randint as sp_randint\n",
        "from sklearn.metrics import mean_squared_error, mean_absolute_error, r2_score\n",
        "\n",
        "from sklearn.model_selection import RandomizedSearchCV\n",
        "from scipy.stats import randint as sp_randint\n",
        "# Importar tensorflow para construir o modelo\n",
        "import tensorflow as tf\n",
        "import keras\n",
        "from keras import optimizers\n",
        "from keras.optimizers import Adam\n",
        "from keras.models import Sequential, Model, load_model\n",
        "from keras.layers import *\n",
        "from keras.callbacks import ModelCheckpoint, History, EarlyStopping\n",
        "from keras.losses import MeanSquaredError\n",
        "from keras.metrics import RootMeanSquaredError\n",
        "from keras.optimizers import Adam\n",
        "\n",
        "# Importar bibliotecas para plotar gráficos\n",
        "\n",
        "import matplotlib.pyplot as plt\n",
        "from itertools import cycle\n",
        "import plotly.graph_objects as go\n",
        "import plotly.express as px\n",
        "from plotly.subplots import make_subplots\n",
        "\n"
      ]
    },
    {
      "cell_type": "markdown",
      "metadata": {
        "id": "N_nI01hq-LBl"
      },
      "source": [
        "## Variaveis Globais"
      ]
    },
    {
      "cell_type": "code",
      "execution_count": null,
      "metadata": {
        "id": "2zbng1cT-UhW"
      },
      "outputs": [],
      "source": [
        "TIME_STEP = 30              #número de dias usados para prever o futuro\n",
        "JUMP_STEP = 1\n",
        "NUM_FEATURES = 5\n",
        "NUM_PREDICT_FUTURE = 1      #número do dia a serem preditos no futuro (prever o próximo dia? Prever o 7º dia?)\n"
      ]
    },
    {
      "cell_type": "markdown",
      "metadata": {
        "id": "QSb1Jl9xgwv-"
      },
      "source": [
        "## Definição das Seeds\n"
      ]
    },
    {
      "cell_type": "code",
      "execution_count": null,
      "metadata": {
        "id": "23WPAtowgzKW"
      },
      "outputs": [],
      "source": [
        "import tensorflow as tf\n",
        "import numpy as np\n",
        "\n",
        "# Defina a semente do TensorFlow\n",
        "tf.random.set_seed(190011106)\n",
        "\n",
        "# Defina a semente do NumPy\n",
        "np.random.seed(190011106)\n"
      ]
    },
    {
      "cell_type": "markdown",
      "metadata": {
        "id": "syo9xluyeRry"
      },
      "source": [
        "## Importar a Base de Dados"
      ]
    },
    {
      "cell_type": "markdown",
      "metadata": {
        "id": "s59ijNrFgwLj"
      },
      "source": []
    },
    {
      "cell_type": "code",
      "execution_count": null,
      "metadata": {
        "id": "Dmlyft24aP-0"
      },
      "outputs": [],
      "source": [
        "ticker = 'BTC-USD'\n",
        "#1410825600\n",
        "initial_period = int(time.mktime(datetime.datetime(2014, 9, 16, 0, 0).timetuple()))\n",
        "\n",
        "#1675814400\n",
        "final_period = int(time.mktime(datetime.datetime(2023, 2, 8, 0, 0).timetuple()))\n",
        "# 3067 valores. 2300 é 75%\n",
        "interval = '1d' # 1d, 1wk, 1m\n",
        "\n",
        "query_string = f'https://query1.finance.yahoo.com/v7/finance/download/{ticker}?period1={initial_period}&period2={final_period}&interval={interval}&events=history&includeAdjustedClose=true'\n",
        "\n",
        "data = pd.read_csv(query_string)\n",
        "df = pd.DataFrame(data, columns=['Date', 'Open', 'High', 'Low', 'Close', 'Volume'])\n",
        "df.index = pd.to_datetime(df['Date'], format='%Y-%m-%d')\n"
      ]
    },
    {
      "cell_type": "markdown",
      "metadata": {
        "id": "XL9rvrxc--7_"
      },
      "source": [
        "Função para escolher os dados utilizados de forma sequencial. A cada t valores\n"
      ]
    },
    {
      "cell_type": "code",
      "execution_count": null,
      "metadata": {
        "id": "Q_vBUR_C_PA1"
      },
      "outputs": [],
      "source": [
        "# def selecionaValores(df, jump_step):\n",
        "#   return df[0::jump_step]\n",
        "\n",
        "# df = selecionaValores(df, JUMP_STEP)"
      ]
    },
    {
      "cell_type": "markdown",
      "metadata": {
        "id": "7ntbbIvr59kR"
      },
      "source": [
        "Preparação dos Dados:"
      ]
    },
    {
      "cell_type": "code",
      "execution_count": null,
      "metadata": {
        "id": "1eGnvTzf6Czd"
      },
      "outputs": [],
      "source": [
        "# Retira a Data e coloca como Index\n",
        "df.index = df.pop('Date')\n",
        "\n",
        "data.dropna(inplace=True)\n",
        "data.reset_index(inplace = True)\n"
      ]
    },
    {
      "cell_type": "markdown",
      "metadata": {},
      "source": [
        "Definir os dataframes dos objetivos a serem alcançados pelo modelo. O Y. Baseados no TimeStep e numero do dia a ser predito\n"
      ]
    },
    {
      "cell_type": "code",
      "execution_count": null,
      "metadata": {
        "id": "pujg45GZKCY7"
      },
      "outputs": [],
      "source": [
        "# Definir os dataframes dos objetivos a serem alcançados pelo modelo. O Y. Baseados no TimeStep e numero do dia a ser predito\n",
        "\n",
        "ignoreDays = TIME_STEP + NUM_PREDICT_FUTURE - 1\n",
        "index = np.array(df.index)[ignoreDays:]\n",
        "\n",
        "# Dataframe com o valor de fechamento\n",
        "target_df_Close = pd.DataFrame(df['Close'], index, ['Close']).rename(columns={'Close':'YClose'})\n",
        "\n",
        "# Dataframe com a variação nominal entre os dias\n",
        "array_change = np.array(target_df_Close.YClose) - np.array(df['Close'])[TIME_STEP-1 : -NUM_PREDICT_FUTURE]\n",
        "target_df_Change = pd.DataFrame(array_change, index, columns=['Close']).rename(columns={'Close':'YChange'})\n",
        "\n",
        "# Dataframe com a variação percentual entre os dias\n",
        "array_variation = np.array(target_df_Change.YChange) / np.array(df['Close'])[TIME_STEP-1 : -NUM_PREDICT_FUTURE]\n",
        "target_df_Variation = pd.DataFrame(array_variation*100, index, ['Close']).rename(columns={'Close':'YVariation'})"
      ]
    },
    {
      "cell_type": "code",
      "execution_count": null,
      "metadata": {
        "colab": {
          "base_uri": "https://localhost:8080/"
        },
        "id": "BQX50Kd9NWj7",
        "outputId": "2d56752c-8b32-40d5-cf23-5c55af71c368"
      },
      "outputs": [
        {
          "data": {
            "text/plain": [
              "(3067, 3037, 3037, 3037)"
            ]
          },
          "execution_count": 16,
          "metadata": {},
          "output_type": "execute_result"
        }
      ],
      "source": [
        "df.Close.size, target_df_Close.size, target_df_Change.size, target_df_Variation.size"
      ]
    },
    {
      "cell_type": "code",
      "execution_count": null,
      "metadata": {
        "id": "kYaFYGojLbfG"
      },
      "outputs": [],
      "source": [
        "#plt.plot(df.index, df['Close'])"
      ]
    },
    {
      "cell_type": "markdown",
      "metadata": {
        "id": "kjJefGIhIzqA"
      },
      "source": [
        "## Divisão em Treino, Validação e Teste"
      ]
    },
    {
      "cell_type": "code",
      "execution_count": null,
      "metadata": {
        "id": "cN1vXbqXzgjh"
      },
      "outputs": [],
      "source": [
        "# Divisão entre 70% treino, 10% validação e 20% teste\n",
        "size = len(target_df_Close)\n",
        "train_size = int(size * 0.7)\n",
        "validation_size = int(size * 0.1)\n",
        "test_size = size - train_size - validation_size\n",
        "\n",
        "x_train_data = df[: train_size + TIME_STEP - 1]\n",
        "x_val_data = df[ train_size : (train_size + validation_size + TIME_STEP - 1)]\n",
        "x_test_data = df[train_size + validation_size : -NUM_PREDICT_FUTURE]\n",
        "\n",
        "y_train_data = target_df_Close[: train_size]\n",
        "y_val_data = target_df_Close[train_size : (train_size + validation_size)]\n",
        "y_test_data = target_df_Close[(train_size + validation_size) :]\n"
      ]
    },
    {
      "cell_type": "code",
      "execution_count": null,
      "metadata": {
        "colab": {
          "base_uri": "https://localhost:8080/"
        },
        "id": "N6C8hIkYxebm",
        "outputId": "3c2aa321-0d76-4b98-f287-a983f77a06ae"
      },
      "outputs": [
        {
          "data": {
            "text/plain": [
              "(3037, 2125, 303, 609)"
            ]
          },
          "execution_count": 19,
          "metadata": {},
          "output_type": "execute_result"
        }
      ],
      "source": [
        "size, train_size, validation_size, test_size"
      ]
    },
    {
      "cell_type": "code",
      "execution_count": null,
      "metadata": {
        "colab": {
          "base_uri": "https://localhost:8080/"
        },
        "id": "4I3dvcayVlXI",
        "outputId": "08db1487-b318-4fb5-983e-bc355f92ff75"
      },
      "outputs": [
        {
          "data": {
            "text/plain": [
              "((2154, 5), (332, 5), (638, 5), (2125, 1), (303, 1), (609, 1))"
            ]
          },
          "execution_count": 20,
          "metadata": {},
          "output_type": "execute_result"
        }
      ],
      "source": [
        "x_train_data.shape, x_val_data.shape, x_test_data.shape, y_train_data.shape, y_val_data.shape, y_test_data.shape"
      ]
    },
    {
      "cell_type": "markdown",
      "metadata": {},
      "source": [
        "Transforma os Dados, para que as features do X sejam normalizadas de acordo com o conjunto de teste.\n",
        "Usa o Log do preço de fechamento como Y\n"
      ]
    },
    {
      "cell_type": "code",
      "execution_count": null,
      "metadata": {
        "id": "0cj30FewVA38"
      },
      "outputs": [],
      "source": [
        "#Transforma os dados para suavizar as variações em escala absoluta\n",
        "# Transforma input data\n",
        "scaler_train_input = MinMaxScaler(feature_range=(0, 1))\n",
        "scaled_train_input = scaler_train_input.fit_transform(x_train_data)\n",
        "\n",
        "scaled_val_input = scaler_train_input.transform(x_val_data)\n",
        "scaled_test_input = scaler_train_input.transform(x_test_data)\n",
        "\n",
        "# Transforma output data para o log do resultado\n",
        "# scaled_train_output = np.array(y_train_data)\n",
        "# scaled_val_output = np.array(y_val_data)\n",
        "# scaled_test_output = np.array(y_test_data)\n",
        "scaled_train_output = np.log10(np.array(y_train_data))\n",
        "scaled_val_output = np.log10(np.array(y_val_data))\n",
        "scaled_test_output = np.log10(np.array(y_test_data))"
      ]
    },
    {
      "cell_type": "markdown",
      "metadata": {},
      "source": [
        "Cria o Conjunto de dados para ser usado no modelo LSTM, conjuntos de n dias para prever o dia seguinte\n",
        "Após essa etapa, os conjuntos X de treino, validação e teste ficam com as quantidades corretas definidas anteriormente\n"
      ]
    },
    {
      "cell_type": "code",
      "execution_count": null,
      "metadata": {
        "colab": {
          "base_uri": "https://localhost:8080/"
        },
        "id": "hkOFLEGQ6E6Z",
        "outputId": "03c2fd6f-2ab1-410f-a300-7b76afa0f391"
      },
      "outputs": [
        {
          "name": "stdout",
          "output_type": "stream",
          "text": [
            "(3067, 5)\n",
            "(2125, 30, 5) (2125, 1)\n",
            "(303, 30, 5) (303, 1)\n",
            "(609, 30, 5) (609, 1)\n"
          ]
        }
      ],
      "source": [
        "def createDataset(x, y, time_step=1):\n",
        "  input = []\n",
        "  output = []\n",
        "  for i in range(len(y)):\n",
        "    row = np.array([e for e in x[i : i + time_step]])\n",
        "    input.append(row)\n",
        "    output.append(y[i])\n",
        "  return np.array(input), np.array(output)\n",
        "\n",
        "x_train, y_train = createDataset(scaled_train_input, scaled_train_output, TIME_STEP)\n",
        "x_val, y_val = createDataset(scaled_val_input, scaled_val_output, TIME_STEP)\n",
        "x_test, y_test = createDataset(scaled_test_input, scaled_test_output, TIME_STEP)\n",
        "\n",
        "print(df.shape)\n",
        "print(x_train.shape, y_train.shape)\n",
        "print(x_val.shape, y_val.shape)\n",
        "print(x_test.shape, y_test.shape)"
      ]
    },
    {
      "cell_type": "code",
      "execution_count": null,
      "metadata": {
        "colab": {
          "base_uri": "https://localhost:8080/"
        },
        "id": "4Gt8ZKxyjeQM",
        "outputId": "ffdfb1f2-aaf2-4096-c942-dd6cd2f31d32"
      },
      "outputs": [
        {
          "data": {
            "text/plain": [
              "(2125, 303, 609)"
            ]
          },
          "execution_count": 23,
          "metadata": {},
          "output_type": "execute_result"
        }
      ],
      "source": [
        "train_size, validation_size, test_size"
      ]
    },
    {
      "cell_type": "markdown",
      "metadata": {
        "id": "5FjYMbeLgA7H"
      },
      "source": [
        "## Construção do Modelo LSTM"
      ]
    },
    {
      "cell_type": "markdown",
      "metadata": {
        "id": "DJ54UplFDQZG"
      },
      "source": [
        "### Random Search com LSTM\n",
        "\n"
      ]
    },
    {
      "cell_type": "markdown",
      "metadata": {},
      "source": [
        "Uso de Random Search para escolher em 100 opções, com duas tentativas cada, o melhor conjunto de hiperparâmetros.\n",
        "\n",
        "Foram pesquisados:\n",
        " - Camadas de LSTM1: 1 2, 3 ou 4;\n",
        " - Células em cada camada LSTM: 16, 32, 64, 80, 76, 92 ou 128;\n",
        " - Dropout entre as camadas: entre 0,2 e 0,4\n",
        " - Taxa de aprendizado do otimizador Adam: entre 0,001 e 0,1"
      ]
    },
    {
      "cell_type": "code",
      "execution_count": null,
      "metadata": {
        "colab": {
          "base_uri": "https://localhost:8080/"
        },
        "id": "hf-A4bxufqUG",
        "outputId": "caf8d24f-0158-42c5-9a16-65db510eb0b1"
      },
      "outputs": [
        {
          "name": "stdout",
          "output_type": "stream",
          "text": [
            "Trial 100 Complete [00h 04m 03s]\n",
            "val_loss: 0.1093660406768322\n",
            "\n",
            "Best val_loss So Far: 0.016184943728148937\n",
            "Total elapsed time: 04h 27m 36s\n",
            "Results summary\n",
            "Results in ./drive/MyDrive/TCC/lstm_regression2/lstm_tuning\n",
            "Showing 10 best trials\n",
            "Objective(name=\"val_loss\", direction=\"min\")\n",
            "\n",
            "Trial 084 summary\n",
            "Hyperparameters:\n",
            "num_lstm_layers: 1\n",
            "num_lstm_units: 48\n",
            "dropout_rate: 0.2047778725655428\n",
            "learning_rate: 0.05486272562976355\n",
            "Score: 0.016184943728148937\n",
            "\n",
            "Trial 055 summary\n",
            "Hyperparameters:\n",
            "num_lstm_layers: 1\n",
            "num_lstm_units: 48\n",
            "dropout_rate: 0.3036382369226458\n",
            "learning_rate: 0.044711760735721605\n",
            "Score: 0.016764204017817974\n",
            "\n",
            "Trial 024 summary\n",
            "Hyperparameters:\n",
            "num_lstm_layers: 1\n",
            "num_lstm_units: 48\n",
            "dropout_rate: 0.3370683516591675\n",
            "learning_rate: 0.028149024750815634\n",
            "Score: 0.018632004968822002\n",
            "\n",
            "Trial 029 summary\n",
            "Hyperparameters:\n",
            "num_lstm_layers: 1\n",
            "num_lstm_units: 32\n",
            "dropout_rate: 0.2175417396617746\n",
            "learning_rate: 0.06452326133676373\n",
            "Score: 0.018849167972803116\n",
            "\n",
            "Trial 094 summary\n",
            "Hyperparameters:\n",
            "num_lstm_layers: 1\n",
            "num_lstm_units: 48\n",
            "dropout_rate: 0.3372959084307936\n",
            "learning_rate: 0.028044885468120458\n",
            "Score: 0.02401842176914215\n",
            "\n",
            "Trial 059 summary\n",
            "Hyperparameters:\n",
            "num_lstm_layers: 2\n",
            "num_lstm_units: 16\n",
            "dropout_rate: 0.39383241440567107\n",
            "learning_rate: 0.0017663033432175526\n",
            "Score: 0.026372701860964298\n",
            "\n",
            "Trial 011 summary\n",
            "Hyperparameters:\n",
            "num_lstm_layers: 2\n",
            "num_lstm_units: 16\n",
            "dropout_rate: 0.20861905448089324\n",
            "learning_rate: 0.00226969017456497\n",
            "Score: 0.027673710137605667\n",
            "\n",
            "Trial 053 summary\n",
            "Hyperparameters:\n",
            "num_lstm_layers: 1\n",
            "num_lstm_units: 112\n",
            "dropout_rate: 0.21271376204036382\n",
            "learning_rate: 0.0517044329308119\n",
            "Score: 0.029340431559830904\n",
            "\n",
            "Trial 072 summary\n",
            "Hyperparameters:\n",
            "num_lstm_layers: 2\n",
            "num_lstm_units: 96\n",
            "dropout_rate: 0.25863839581418246\n",
            "learning_rate: 0.011695529042992333\n",
            "Score: 0.029362695291638374\n",
            "\n",
            "Trial 065 summary\n",
            "Hyperparameters:\n",
            "num_lstm_layers: 2\n",
            "num_lstm_units: 32\n",
            "dropout_rate: 0.3463530210653363\n",
            "learning_rate: 0.006384825574016378\n",
            "Score: 0.036062086932361126\n",
            "Model: \"sequential\"\n",
            "_________________________________________________________________\n",
            " Layer (type)                Output Shape              Param #   \n",
            "=================================================================\n",
            " lstm (LSTM)                 (None, 30, 48)            10368     \n",
            "                                                                 \n",
            " dropout (Dropout)           (None, 30, 48)            0         \n",
            "                                                                 \n",
            " dense (Dense)               (None, 30, 1)             49        \n",
            "                                                                 \n",
            "=================================================================\n",
            "Total params: 10417 (40.69 KB)\n",
            "Trainable params: 10417 (40.69 KB)\n",
            "Non-trainable params: 0 (0.00 Byte)\n",
            "_________________________________________________________________\n"
          ]
        },
        {
          "name": "stderr",
          "output_type": "stream",
          "text": [
            "/usr/local/lib/python3.10/dist-packages/keras/src/engine/training.py:3079: UserWarning: You are saving your model as an HDF5 file via `model.save()`. This file format is considered legacy. We recommend using instead the native Keras format, e.g. `model.save('my_model.keras')`.\n",
            "  saving_api.save_model(\n"
          ]
        }
      ],
      "source": [
        "import keras_tuner as kt\n",
        "def build_lstm_model(hp):\n",
        "  model = keras.Sequential()\n",
        "  for _ in range(hp.Int('num_lstm_layers', min_value=1, max_value=4)):\n",
        "      model.add(LSTM(units=hp.Int('num_lstm_units', min_value=16, max_value=128, step=16), return_sequences=True, input_shape = (x_train.shape[1], x_train.shape[2])))\n",
        "      model.add(Dropout(hp.Float('dropout_rate', min_value=0.2, max_value=0.4)))\n",
        "  model.add(Dense(1))\n",
        "\n",
        "  optimizer = Adam(learning_rate=hp.Float('learning_rate', min_value=0.001, max_value=0.1, sampling='log'))\n",
        "  model.compile(loss='mean_squared_error', optimizer=optimizer)\n",
        "\n",
        "  return model\n",
        "\n",
        "earlystopping = EarlyStopping(monitor='val_loss', patience=25, restore_best_weights=True)\n",
        "\n",
        "tuner = kt.RandomSearch(\n",
        "    build_lstm_model,\n",
        "    objective='val_loss',\n",
        "    max_trials=100,\n",
        "    executions_per_trial=2,\n",
        "    directory='./drive/MyDrive/TCC/lstm_regression2/',\n",
        "    overwrite=True,\n",
        "    project_name='lstm_tuning')\n",
        "\n",
        "tuner.search_space_summary()\n",
        "\n",
        "tuner.search(x_train, y_train, epochs=25, validation_data=(x_val, y_val), callbacks=[earlystopping], batch_size=32, verbose=2)\n",
        "tuner.results_summary()\n",
        "\n",
        "#Get the best model and hyperparameters\n",
        "best_model = tuner.get_best_models(num_models=1)[0];\n",
        "best_model.save('./drive/MyDrive/TCC/lstm_regression2/best_model_tunner.hdf5');\n",
        "best_model.build(x_train.shape);\n",
        "best_model.summary();\n",
        "best_hyperparameters = tuner.get_best_hyperparameters(num_trials=1)[0];\n"
      ]
    },
    {
      "cell_type": "code",
      "execution_count": 1,
      "metadata": {
        "id": "2xErCJ5a3sqd"
      },
      "outputs": [],
      "source": [
        "\n",
        "# No teste anterior:\n",
        "# print(\"Rodei 300 cenários, mas tive problema de conexão e apenas foram testados 288. Com isso apenas peguei os melhores parâmetros e não o modelo\")\n",
        "# print(\"val_loss: 0.011150936596095562\\n\"+\n",
        "#       \"tempo total: 6h 28min 14s\\n\"+\n",
        "#       \"Cenários abordados: 288\\n\"+\n",
        "#       \"Melhor Cenário:\\n\"+\n",
        "#       \"  - Número de Camadas: 1\\n\"+\n",
        "#       \"  - Número de Células por Camada: 128\\n\"+\n",
        "#       \"  - Taxa de Dropout: 0.21235\\n\"+\n",
        "#       \"  - Taxa de Aprendizado: 0.018102\\n\"\n",
        "#       )"
      ]
    },
    {
      "cell_type": "markdown",
      "metadata": {
        "id": "hFjUKD3Ehmha"
      },
      "source": [
        "## Mostra Treina o melhor modelo com EarlyStop"
      ]
    },
    {
      "cell_type": "markdown",
      "metadata": {},
      "source": [
        "Carrega o melhor modelo e o treina com um máximo de 500 épocas, mas com EarlyStop com patience de 100 "
      ]
    },
    {
      "cell_type": "code",
      "execution_count": null,
      "metadata": {
        "colab": {
          "base_uri": "https://localhost:8080/"
        },
        "id": "SyDedD8z0WM3",
        "outputId": "e5dd6212-fae1-45e6-c4c0-c98d4a9120d9"
      },
      "outputs": [
        {
          "name": "stdout",
          "output_type": "stream",
          "text": [
            "Model: \"sequential\"\n",
            "_________________________________________________________________\n",
            " Layer (type)                Output Shape              Param #   \n",
            "=================================================================\n",
            " lstm (LSTM)                 (None, 30, 48)            10368     \n",
            "                                                                 \n",
            " dropout (Dropout)           (None, 30, 48)            0         \n",
            "                                                                 \n",
            " dense (Dense)               (None, 30, 1)             49        \n",
            "                                                                 \n",
            "=================================================================\n",
            "Total params: 10417 (40.69 KB)\n",
            "Trainable params: 10417 (40.69 KB)\n",
            "Non-trainable params: 0 (0.00 Byte)\n",
            "_________________________________________________________________\n",
            "Epoch 1/500\n"
          ]
        },
        {
          "name": "stderr",
          "output_type": "stream",
          "text": [
            "/usr/local/lib/python3.10/dist-packages/keras/src/engine/training.py:3079: UserWarning: You are saving your model as an HDF5 file via `model.save()`. This file format is considered legacy. We recommend using instead the native Keras format, e.g. `model.save('my_model.keras')`.\n",
            "  saving_api.save_model(\n"
          ]
        },
        {
          "name": "stdout",
          "output_type": "stream",
          "text": [
            "67/67 - 8s - loss: 0.3284 - val_loss: 0.0404 - 8s/epoch - 113ms/step\n",
            "Epoch 2/500\n",
            "67/67 - 1s - loss: 0.0685 - val_loss: 0.0335 - 1s/epoch - 15ms/step\n",
            "Epoch 3/500\n",
            "67/67 - 1s - loss: 0.0447 - val_loss: 0.0502 - 709ms/epoch - 11ms/step\n",
            "Epoch 4/500\n",
            "67/67 - 1s - loss: 0.0299 - val_loss: 0.0690 - 713ms/epoch - 11ms/step\n",
            "Epoch 5/500\n",
            "67/67 - 1s - loss: 0.0228 - val_loss: 0.1193 - 692ms/epoch - 10ms/step\n",
            "Epoch 6/500\n",
            "67/67 - 1s - loss: 0.0182 - val_loss: 0.1075 - 655ms/epoch - 10ms/step\n",
            "Epoch 7/500\n",
            "67/67 - 1s - loss: 0.0169 - val_loss: 0.1087 - 696ms/epoch - 10ms/step\n",
            "Epoch 8/500\n",
            "67/67 - 1s - loss: 0.0156 - val_loss: 0.1602 - 722ms/epoch - 11ms/step\n",
            "Epoch 9/500\n",
            "67/67 - 1s - loss: 0.0139 - val_loss: 0.1010 - 697ms/epoch - 10ms/step\n",
            "Epoch 10/500\n",
            "67/67 - 1s - loss: 0.0140 - val_loss: 0.0982 - 756ms/epoch - 11ms/step\n",
            "Epoch 11/500\n",
            "67/67 - 1s - loss: 0.0131 - val_loss: 0.0962 - 717ms/epoch - 11ms/step\n",
            "Epoch 12/500\n",
            "67/67 - 1s - loss: 0.0126 - val_loss: 0.0852 - 715ms/epoch - 11ms/step\n",
            "Epoch 13/500\n",
            "67/67 - 1s - loss: 0.0123 - val_loss: 0.1234 - 689ms/epoch - 10ms/step\n",
            "Epoch 14/500\n",
            "67/67 - 1s - loss: 0.0130 - val_loss: 0.0959 - 874ms/epoch - 13ms/step\n",
            "Epoch 15/500\n",
            "67/67 - 1s - loss: 0.0126 - val_loss: 0.1141 - 959ms/epoch - 14ms/step\n",
            "Epoch 16/500\n",
            "67/67 - 1s - loss: 0.0117 - val_loss: 0.1402 - 896ms/epoch - 13ms/step\n",
            "Epoch 17/500\n",
            "67/67 - 1s - loss: 0.0111 - val_loss: 0.0955 - 849ms/epoch - 13ms/step\n",
            "Epoch 18/500\n",
            "67/67 - 1s - loss: 0.0117 - val_loss: 0.1045 - 699ms/epoch - 10ms/step\n",
            "Epoch 19/500\n",
            "67/67 - 1s - loss: 0.0112 - val_loss: 0.1155 - 729ms/epoch - 11ms/step\n",
            "Epoch 20/500\n",
            "67/67 - 1s - loss: 0.0113 - val_loss: 0.1030 - 734ms/epoch - 11ms/step\n",
            "Epoch 21/500\n",
            "67/67 - 1s - loss: 0.0101 - val_loss: 0.1062 - 736ms/epoch - 11ms/step\n",
            "Epoch 22/500\n",
            "67/67 - 1s - loss: 0.0101 - val_loss: 0.1475 - 722ms/epoch - 11ms/step\n",
            "Epoch 23/500\n",
            "67/67 - 1s - loss: 0.0099 - val_loss: 0.1003 - 739ms/epoch - 11ms/step\n",
            "Epoch 24/500\n",
            "67/67 - 1s - loss: 0.0097 - val_loss: 0.1053 - 712ms/epoch - 11ms/step\n",
            "Epoch 25/500\n",
            "67/67 - 1s - loss: 0.0096 - val_loss: 0.1055 - 757ms/epoch - 11ms/step\n",
            "Epoch 26/500\n",
            "67/67 - 1s - loss: 0.0096 - val_loss: 0.1146 - 740ms/epoch - 11ms/step\n",
            "Epoch 27/500\n",
            "67/67 - 1s - loss: 0.0092 - val_loss: 0.0838 - 726ms/epoch - 11ms/step\n",
            "Epoch 28/500\n",
            "67/67 - 1s - loss: 0.0097 - val_loss: 0.1458 - 746ms/epoch - 11ms/step\n",
            "Epoch 29/500\n",
            "67/67 - 1s - loss: 0.0098 - val_loss: 0.0815 - 720ms/epoch - 11ms/step\n",
            "Epoch 30/500\n",
            "67/67 - 1s - loss: 0.0095 - val_loss: 0.0548 - 736ms/epoch - 11ms/step\n",
            "Epoch 31/500\n",
            "67/67 - 1s - loss: 0.0095 - val_loss: 0.1203 - 935ms/epoch - 14ms/step\n",
            "Epoch 32/500\n",
            "67/67 - 1s - loss: 0.0101 - val_loss: 0.0341 - 959ms/epoch - 14ms/step\n",
            "Epoch 33/500\n",
            "67/67 - 1s - loss: 0.0119 - val_loss: 0.0284 - 1s/epoch - 17ms/step\n",
            "Epoch 34/500\n",
            "67/67 - 1s - loss: 0.0096 - val_loss: 0.0621 - 793ms/epoch - 12ms/step\n",
            "Epoch 35/500\n",
            "67/67 - 1s - loss: 0.0093 - val_loss: 0.0846 - 673ms/epoch - 10ms/step\n",
            "Epoch 36/500\n",
            "67/67 - 1s - loss: 0.0092 - val_loss: 0.0939 - 732ms/epoch - 11ms/step\n",
            "Epoch 37/500\n",
            "67/67 - 1s - loss: 0.0093 - val_loss: 0.0671 - 722ms/epoch - 11ms/step\n",
            "Epoch 38/500\n",
            "67/67 - 1s - loss: 0.0092 - val_loss: 0.0783 - 713ms/epoch - 11ms/step\n",
            "Epoch 39/500\n",
            "67/67 - 1s - loss: 0.0100 - val_loss: 0.0763 - 704ms/epoch - 11ms/step\n",
            "Epoch 40/500\n",
            "67/67 - 1s - loss: 0.0094 - val_loss: 0.0745 - 674ms/epoch - 10ms/step\n",
            "Epoch 41/500\n",
            "67/67 - 1s - loss: 0.0095 - val_loss: 0.0738 - 713ms/epoch - 11ms/step\n",
            "Epoch 42/500\n",
            "67/67 - 1s - loss: 0.0090 - val_loss: 0.0749 - 728ms/epoch - 11ms/step\n",
            "Epoch 43/500\n",
            "67/67 - 1s - loss: 0.0093 - val_loss: 0.0681 - 709ms/epoch - 11ms/step\n",
            "Epoch 44/500\n",
            "67/67 - 1s - loss: 0.0096 - val_loss: 0.0448 - 720ms/epoch - 11ms/step\n",
            "Epoch 45/500\n",
            "67/67 - 1s - loss: 0.0104 - val_loss: 0.0610 - 715ms/epoch - 11ms/step\n",
            "Epoch 46/500\n",
            "67/67 - 1s - loss: 0.0089 - val_loss: 0.0731 - 713ms/epoch - 11ms/step\n",
            "Epoch 47/500\n",
            "67/67 - 1s - loss: 0.0089 - val_loss: 0.0313 - 752ms/epoch - 11ms/step\n",
            "Epoch 48/500\n",
            "67/67 - 1s - loss: 0.0096 - val_loss: 0.0363 - 902ms/epoch - 13ms/step\n",
            "Epoch 49/500\n",
            "67/67 - 1s - loss: 0.0090 - val_loss: 0.0714 - 804ms/epoch - 12ms/step\n",
            "Epoch 50/500\n",
            "67/67 - 1s - loss: 0.0087 - val_loss: 0.1014 - 948ms/epoch - 14ms/step\n",
            "Epoch 51/500\n",
            "67/67 - 1s - loss: 0.0091 - val_loss: 0.0867 - 871ms/epoch - 13ms/step\n",
            "Epoch 52/500\n",
            "67/67 - 1s - loss: 0.0093 - val_loss: 0.0696 - 713ms/epoch - 11ms/step\n",
            "Epoch 53/500\n",
            "67/67 - 1s - loss: 0.0093 - val_loss: 0.1093 - 748ms/epoch - 11ms/step\n",
            "Epoch 54/500\n",
            "67/67 - 1s - loss: 0.0088 - val_loss: 0.0475 - 688ms/epoch - 10ms/step\n",
            "Epoch 55/500\n",
            "67/67 - 1s - loss: 0.0090 - val_loss: 0.0579 - 706ms/epoch - 11ms/step\n",
            "Epoch 56/500\n",
            "67/67 - 1s - loss: 0.0084 - val_loss: 0.0572 - 890ms/epoch - 13ms/step\n",
            "Epoch 57/500\n",
            "67/67 - 1s - loss: 0.0088 - val_loss: 0.0749 - 878ms/epoch - 13ms/step\n",
            "Epoch 58/500\n",
            "67/67 - 1s - loss: 0.0089 - val_loss: 0.0548 - 848ms/epoch - 13ms/step\n",
            "Epoch 59/500\n",
            "67/67 - 1s - loss: 0.0086 - val_loss: 0.0533 - 719ms/epoch - 11ms/step\n",
            "Epoch 60/500\n",
            "67/67 - 1s - loss: 0.0084 - val_loss: 0.0860 - 733ms/epoch - 11ms/step\n",
            "Epoch 61/500\n",
            "67/67 - 1s - loss: 0.0084 - val_loss: 0.0769 - 733ms/epoch - 11ms/step\n",
            "Epoch 62/500\n",
            "67/67 - 1s - loss: 0.0083 - val_loss: 0.0669 - 731ms/epoch - 11ms/step\n",
            "Epoch 63/500\n",
            "67/67 - 1s - loss: 0.0081 - val_loss: 0.1006 - 723ms/epoch - 11ms/step\n",
            "Epoch 64/500\n",
            "67/67 - 1s - loss: 0.0082 - val_loss: 0.1175 - 802ms/epoch - 12ms/step\n",
            "Epoch 65/500\n",
            "67/67 - 1s - loss: 0.0087 - val_loss: 0.0478 - 868ms/epoch - 13ms/step\n",
            "Epoch 66/500\n",
            "67/67 - 1s - loss: 0.0081 - val_loss: 0.1085 - 928ms/epoch - 14ms/step\n",
            "Epoch 67/500\n",
            "67/67 - 1s - loss: 0.0084 - val_loss: 0.0821 - 1s/epoch - 15ms/step\n",
            "Epoch 68/500\n",
            "67/67 - 1s - loss: 0.0083 - val_loss: 0.0637 - 716ms/epoch - 11ms/step\n",
            "Epoch 69/500\n",
            "67/67 - 1s - loss: 0.0081 - val_loss: 0.0854 - 770ms/epoch - 11ms/step\n",
            "Epoch 70/500\n",
            "67/67 - 1s - loss: 0.0084 - val_loss: 0.1036 - 750ms/epoch - 11ms/step\n",
            "Epoch 71/500\n",
            "67/67 - 1s - loss: 0.0084 - val_loss: 0.0890 - 741ms/epoch - 11ms/step\n",
            "Epoch 72/500\n",
            "67/67 - 1s - loss: 0.0083 - val_loss: 0.1110 - 753ms/epoch - 11ms/step\n",
            "Epoch 73/500\n",
            "67/67 - 1s - loss: 0.0085 - val_loss: 0.0339 - 773ms/epoch - 12ms/step\n",
            "Epoch 74/500\n",
            "67/67 - 1s - loss: 0.0081 - val_loss: 0.0722 - 762ms/epoch - 11ms/step\n",
            "Epoch 75/500\n",
            "67/67 - 1s - loss: 0.0080 - val_loss: 0.0384 - 697ms/epoch - 10ms/step\n",
            "Epoch 76/500\n",
            "67/67 - 1s - loss: 0.0081 - val_loss: 0.0885 - 708ms/epoch - 11ms/step\n",
            "Epoch 77/500\n",
            "67/67 - 1s - loss: 0.0078 - val_loss: 0.0631 - 689ms/epoch - 10ms/step\n",
            "Epoch 78/500\n",
            "67/67 - 1s - loss: 0.0079 - val_loss: 0.0448 - 718ms/epoch - 11ms/step\n",
            "Epoch 79/500\n",
            "67/67 - 1s - loss: 0.0079 - val_loss: 0.0688 - 724ms/epoch - 11ms/step\n",
            "Epoch 80/500\n",
            "67/67 - 1s - loss: 0.0076 - val_loss: 0.0661 - 720ms/epoch - 11ms/step\n",
            "Epoch 81/500\n",
            "67/67 - 1s - loss: 0.0080 - val_loss: 0.0608 - 736ms/epoch - 11ms/step\n",
            "Epoch 82/500\n",
            "67/67 - 1s - loss: 0.0084 - val_loss: 0.0358 - 901ms/epoch - 13ms/step\n",
            "Epoch 83/500\n",
            "67/67 - 1s - loss: 0.0081 - val_loss: 0.0703 - 951ms/epoch - 14ms/step\n",
            "Epoch 84/500\n",
            "67/67 - 1s - loss: 0.0075 - val_loss: 0.0561 - 973ms/epoch - 15ms/step\n",
            "Epoch 85/500\n",
            "67/67 - 1s - loss: 0.0079 - val_loss: 0.0665 - 723ms/epoch - 11ms/step\n",
            "Epoch 86/500\n",
            "67/67 - 1s - loss: 0.0083 - val_loss: 0.0525 - 703ms/epoch - 10ms/step\n",
            "Epoch 87/500\n",
            "67/67 - 1s - loss: 0.0080 - val_loss: 0.0324 - 733ms/epoch - 11ms/step\n",
            "Epoch 88/500\n",
            "67/67 - 1s - loss: 0.0077 - val_loss: 0.0296 - 711ms/epoch - 11ms/step\n",
            "Epoch 89/500\n",
            "67/67 - 1s - loss: 0.0075 - val_loss: 0.0663 - 751ms/epoch - 11ms/step\n",
            "Epoch 90/500\n",
            "67/67 - 1s - loss: 0.0079 - val_loss: 0.0195 - 904ms/epoch - 13ms/step\n",
            "Epoch 91/500\n",
            "67/67 - 1s - loss: 0.0080 - val_loss: 0.0696 - 695ms/epoch - 10ms/step\n",
            "Epoch 92/500\n",
            "67/67 - 1s - loss: 0.0074 - val_loss: 0.0347 - 711ms/epoch - 11ms/step\n",
            "Epoch 93/500\n",
            "67/67 - 1s - loss: 0.0074 - val_loss: 0.0369 - 754ms/epoch - 11ms/step\n",
            "Epoch 94/500\n",
            "67/67 - 1s - loss: 0.0072 - val_loss: 0.0682 - 751ms/epoch - 11ms/step\n",
            "Epoch 95/500\n",
            "67/67 - 1s - loss: 0.0075 - val_loss: 0.0321 - 719ms/epoch - 11ms/step\n",
            "Epoch 96/500\n",
            "67/67 - 1s - loss: 0.0079 - val_loss: 0.0256 - 731ms/epoch - 11ms/step\n",
            "Epoch 97/500\n",
            "67/67 - 1s - loss: 0.0079 - val_loss: 0.0377 - 718ms/epoch - 11ms/step\n",
            "Epoch 98/500\n",
            "67/67 - 1s - loss: 0.0073 - val_loss: 0.0872 - 854ms/epoch - 13ms/step\n",
            "Epoch 99/500\n",
            "67/67 - 1s - loss: 0.0075 - val_loss: 0.1262 - 940ms/epoch - 14ms/step\n",
            "Epoch 100/500\n",
            "67/67 - 1s - loss: 0.0077 - val_loss: 0.0521 - 905ms/epoch - 14ms/step\n",
            "Epoch 101/500\n",
            "67/67 - 1s - loss: 0.0074 - val_loss: 0.0295 - 938ms/epoch - 14ms/step\n",
            "Epoch 102/500\n",
            "67/67 - 1s - loss: 0.0073 - val_loss: 0.0534 - 726ms/epoch - 11ms/step\n",
            "Epoch 103/500\n",
            "67/67 - 1s - loss: 0.0076 - val_loss: 0.0714 - 723ms/epoch - 11ms/step\n",
            "Epoch 104/500\n",
            "67/67 - 1s - loss: 0.0073 - val_loss: 0.0796 - 731ms/epoch - 11ms/step\n",
            "Epoch 105/500\n",
            "67/67 - 1s - loss: 0.0076 - val_loss: 0.1206 - 706ms/epoch - 11ms/step\n",
            "Epoch 106/500\n",
            "67/67 - 1s - loss: 0.0072 - val_loss: 0.1120 - 728ms/epoch - 11ms/step\n",
            "Epoch 107/500\n",
            "67/67 - 1s - loss: 0.0071 - val_loss: 0.0531 - 710ms/epoch - 11ms/step\n",
            "Epoch 108/500\n",
            "67/67 - 1s - loss: 0.0072 - val_loss: 0.0424 - 724ms/epoch - 11ms/step\n",
            "Epoch 109/500\n",
            "67/67 - 1s - loss: 0.0094 - val_loss: 0.0358 - 747ms/epoch - 11ms/step\n",
            "Epoch 110/500\n",
            "67/67 - 1s - loss: 0.0089 - val_loss: 0.0667 - 691ms/epoch - 10ms/step\n",
            "Epoch 111/500\n",
            "67/67 - 1s - loss: 0.0079 - val_loss: 0.0357 - 740ms/epoch - 11ms/step\n",
            "Epoch 112/500\n",
            "67/67 - 1s - loss: 0.0079 - val_loss: 0.0293 - 707ms/epoch - 11ms/step\n",
            "Epoch 113/500\n",
            "67/67 - 1s - loss: 0.0079 - val_loss: 0.0463 - 710ms/epoch - 11ms/step\n",
            "Epoch 114/500\n",
            "67/67 - 1s - loss: 0.0076 - val_loss: 0.0437 - 732ms/epoch - 11ms/step\n",
            "Epoch 115/500\n",
            "67/67 - 1s - loss: 0.0077 - val_loss: 0.0531 - 875ms/epoch - 13ms/step\n",
            "Epoch 116/500\n",
            "67/67 - 1s - loss: 0.0076 - val_loss: 0.0442 - 967ms/epoch - 14ms/step\n",
            "Epoch 117/500\n",
            "67/67 - 1s - loss: 0.0075 - val_loss: 0.0590 - 946ms/epoch - 14ms/step\n",
            "Epoch 118/500\n",
            "67/67 - 1s - loss: 0.0075 - val_loss: 0.1055 - 878ms/epoch - 13ms/step\n",
            "Epoch 119/500\n",
            "67/67 - 1s - loss: 0.0077 - val_loss: 0.0587 - 750ms/epoch - 11ms/step\n",
            "Epoch 120/500\n",
            "67/67 - 1s - loss: 0.0074 - val_loss: 0.1015 - 674ms/epoch - 10ms/step\n",
            "Epoch 121/500\n",
            "67/67 - 1s - loss: 0.0074 - val_loss: 0.0472 - 667ms/epoch - 10ms/step\n",
            "Epoch 122/500\n",
            "67/67 - 1s - loss: 0.0075 - val_loss: 0.0887 - 684ms/epoch - 10ms/step\n",
            "Epoch 123/500\n",
            "67/67 - 1s - loss: 0.0076 - val_loss: 0.0715 - 741ms/epoch - 11ms/step\n",
            "Epoch 124/500\n",
            "67/67 - 1s - loss: 0.0073 - val_loss: 0.0531 - 736ms/epoch - 11ms/step\n",
            "Epoch 125/500\n",
            "67/67 - 1s - loss: 0.0074 - val_loss: 0.0323 - 735ms/epoch - 11ms/step\n",
            "Epoch 126/500\n",
            "67/67 - 1s - loss: 0.0072 - val_loss: 0.0705 - 755ms/epoch - 11ms/step\n",
            "Epoch 127/500\n",
            "67/67 - 1s - loss: 0.0071 - val_loss: 0.0440 - 736ms/epoch - 11ms/step\n",
            "Epoch 128/500\n",
            "67/67 - 1s - loss: 0.0072 - val_loss: 0.0707 - 732ms/epoch - 11ms/step\n",
            "Epoch 129/500\n",
            "67/67 - 1s - loss: 0.0073 - val_loss: 0.0803 - 735ms/epoch - 11ms/step\n",
            "Epoch 130/500\n",
            "67/67 - 1s - loss: 0.0074 - val_loss: 0.0489 - 714ms/epoch - 11ms/step\n",
            "Epoch 131/500\n",
            "67/67 - 1s - loss: 0.0069 - val_loss: 0.1298 - 706ms/epoch - 11ms/step\n",
            "Epoch 132/500\n",
            "67/67 - 1s - loss: 0.0071 - val_loss: 0.0582 - 821ms/epoch - 12ms/step\n",
            "Epoch 133/500\n",
            "67/67 - 1s - loss: 0.0071 - val_loss: 0.1277 - 899ms/epoch - 13ms/step\n",
            "Epoch 134/500\n",
            "67/67 - 1s - loss: 0.0071 - val_loss: 0.0987 - 915ms/epoch - 14ms/step\n",
            "Epoch 135/500\n",
            "67/67 - 1s - loss: 0.0070 - val_loss: 0.0516 - 968ms/epoch - 14ms/step\n",
            "Epoch 136/500\n",
            "67/67 - 1s - loss: 0.0070 - val_loss: 0.0736 - 744ms/epoch - 11ms/step\n",
            "Epoch 137/500\n",
            "67/67 - 1s - loss: 0.0069 - val_loss: 0.0971 - 748ms/epoch - 11ms/step\n",
            "Epoch 138/500\n",
            "67/67 - 1s - loss: 0.0076 - val_loss: 0.1056 - 801ms/epoch - 12ms/step\n",
            "Epoch 139/500\n",
            "67/67 - 1s - loss: 0.0072 - val_loss: 0.0602 - 749ms/epoch - 11ms/step\n",
            "Epoch 140/500\n",
            "67/67 - 1s - loss: 0.0069 - val_loss: 0.0555 - 711ms/epoch - 11ms/step\n",
            "Epoch 141/500\n",
            "67/67 - 1s - loss: 0.0072 - val_loss: 0.0482 - 738ms/epoch - 11ms/step\n",
            "Epoch 142/500\n",
            "67/67 - 1s - loss: 0.0069 - val_loss: 0.0477 - 716ms/epoch - 11ms/step\n",
            "Epoch 143/500\n",
            "67/67 - 1s - loss: 0.0070 - val_loss: 0.0885 - 709ms/epoch - 11ms/step\n",
            "Epoch 144/500\n",
            "67/67 - 1s - loss: 0.0069 - val_loss: 0.0770 - 718ms/epoch - 11ms/step\n",
            "Epoch 145/500\n",
            "67/67 - 1s - loss: 0.0071 - val_loss: 0.1019 - 708ms/epoch - 11ms/step\n",
            "Epoch 146/500\n",
            "67/67 - 1s - loss: 0.0070 - val_loss: 0.0762 - 712ms/epoch - 11ms/step\n",
            "Epoch 147/500\n",
            "67/67 - 1s - loss: 0.0069 - val_loss: 0.0694 - 726ms/epoch - 11ms/step\n",
            "Epoch 148/500\n",
            "67/67 - 1s - loss: 0.0071 - val_loss: 0.0524 - 750ms/epoch - 11ms/step\n",
            "Epoch 149/500\n",
            "67/67 - 1s - loss: 0.0071 - val_loss: 0.0704 - 855ms/epoch - 13ms/step\n",
            "Epoch 150/500\n",
            "67/67 - 1s - loss: 0.0070 - val_loss: 0.1079 - 958ms/epoch - 14ms/step\n",
            "Epoch 151/500\n",
            "67/67 - 1s - loss: 0.0072 - val_loss: 0.0501 - 952ms/epoch - 14ms/step\n",
            "Epoch 152/500\n",
            "67/67 - 1s - loss: 0.0069 - val_loss: 0.0448 - 883ms/epoch - 13ms/step\n",
            "Epoch 153/500\n",
            "67/67 - 1s - loss: 0.0069 - val_loss: 0.1173 - 722ms/epoch - 11ms/step\n",
            "Epoch 154/500\n",
            "67/67 - 1s - loss: 0.0072 - val_loss: 0.0832 - 736ms/epoch - 11ms/step\n",
            "Epoch 155/500\n",
            "67/67 - 1s - loss: 0.0069 - val_loss: 0.0894 - 738ms/epoch - 11ms/step\n",
            "Epoch 156/500\n",
            "67/67 - 1s - loss: 0.0070 - val_loss: 0.0892 - 690ms/epoch - 10ms/step\n",
            "Epoch 157/500\n",
            "67/67 - 1s - loss: 0.0070 - val_loss: 0.0611 - 714ms/epoch - 11ms/step\n",
            "Epoch 158/500\n",
            "67/67 - 1s - loss: 0.0069 - val_loss: 0.0643 - 665ms/epoch - 10ms/step\n",
            "Epoch 159/500\n",
            "67/67 - 1s - loss: 0.0067 - val_loss: 0.0865 - 705ms/epoch - 11ms/step\n",
            "Epoch 160/500\n",
            "67/67 - 1s - loss: 0.0066 - val_loss: 0.0609 - 689ms/epoch - 10ms/step\n",
            "Epoch 161/500\n",
            "67/67 - 1s - loss: 0.0070 - val_loss: 0.1214 - 710ms/epoch - 11ms/step\n",
            "Epoch 162/500\n",
            "67/67 - 1s - loss: 0.0070 - val_loss: 0.0458 - 718ms/epoch - 11ms/step\n",
            "Epoch 163/500\n",
            "67/67 - 1s - loss: 0.0069 - val_loss: 0.0647 - 751ms/epoch - 11ms/step\n",
            "Epoch 164/500\n",
            "67/67 - 1s - loss: 0.0071 - val_loss: 0.0667 - 731ms/epoch - 11ms/step\n",
            "Epoch 165/500\n",
            "67/67 - 1s - loss: 0.0068 - val_loss: 0.2042 - 731ms/epoch - 11ms/step\n",
            "Epoch 166/500\n",
            "67/67 - 1s - loss: 0.0068 - val_loss: 0.0509 - 803ms/epoch - 12ms/step\n",
            "Epoch 167/500\n",
            "67/67 - 1s - loss: 0.0068 - val_loss: 0.0655 - 900ms/epoch - 13ms/step\n",
            "Epoch 168/500\n",
            "67/67 - 1s - loss: 0.0067 - val_loss: 0.0661 - 946ms/epoch - 14ms/step\n",
            "Epoch 169/500\n",
            "67/67 - 1s - loss: 0.0067 - val_loss: 0.0934 - 967ms/epoch - 14ms/step\n",
            "Epoch 170/500\n",
            "67/67 - 1s - loss: 0.0069 - val_loss: 0.0906 - 722ms/epoch - 11ms/step\n",
            "Epoch 171/500\n",
            "67/67 - 1s - loss: 0.0069 - val_loss: 0.1061 - 719ms/epoch - 11ms/step\n",
            "Epoch 172/500\n",
            "67/67 - 1s - loss: 0.0067 - val_loss: 0.0906 - 679ms/epoch - 10ms/step\n",
            "Epoch 173/500\n",
            "67/67 - 1s - loss: 0.0069 - val_loss: 0.0515 - 723ms/epoch - 11ms/step\n",
            "Epoch 174/500\n",
            "67/67 - 1s - loss: 0.0069 - val_loss: 0.0906 - 720ms/epoch - 11ms/step\n",
            "Epoch 175/500\n",
            "67/67 - 1s - loss: 0.0067 - val_loss: 0.0981 - 690ms/epoch - 10ms/step\n",
            "Epoch 176/500\n",
            "67/67 - 1s - loss: 0.0067 - val_loss: 0.1100 - 636ms/epoch - 9ms/step\n",
            "Epoch 177/500\n",
            "67/67 - 1s - loss: 0.0067 - val_loss: 0.0916 - 665ms/epoch - 10ms/step\n",
            "Epoch 178/500\n",
            "67/67 - 1s - loss: 0.0066 - val_loss: 0.0685 - 697ms/epoch - 10ms/step\n",
            "Epoch 179/500\n",
            "67/67 - 1s - loss: 0.0066 - val_loss: 0.0997 - 724ms/epoch - 11ms/step\n",
            "Epoch 180/500\n",
            "67/67 - 1s - loss: 0.0069 - val_loss: 0.1351 - 716ms/epoch - 11ms/step\n",
            "Epoch 181/500\n",
            "67/67 - 1s - loss: 0.0067 - val_loss: 0.0833 - 735ms/epoch - 11ms/step\n",
            "Epoch 182/500\n",
            "67/67 - 1s - loss: 0.0069 - val_loss: 0.0859 - 714ms/epoch - 11ms/step\n",
            "Epoch 183/500\n",
            "67/67 - 1s - loss: 0.0067 - val_loss: 0.0759 - 716ms/epoch - 11ms/step\n",
            "Epoch 184/500\n",
            "67/67 - 1s - loss: 0.0065 - val_loss: 0.0652 - 951ms/epoch - 14ms/step\n",
            "Epoch 185/500\n",
            "67/67 - 1s - loss: 0.0067 - val_loss: 0.0866 - 915ms/epoch - 14ms/step\n",
            "Epoch 186/500\n",
            "67/67 - 1s - loss: 0.0070 - val_loss: 0.1620 - 984ms/epoch - 15ms/step\n",
            "Epoch 187/500\n",
            "67/67 - 1s - loss: 0.0066 - val_loss: 0.1611 - 795ms/epoch - 12ms/step\n",
            "Epoch 188/500\n",
            "67/67 - 1s - loss: 0.0065 - val_loss: 0.1189 - 716ms/epoch - 11ms/step\n",
            "Epoch 189/500\n",
            "67/67 - 1s - loss: 0.0067 - val_loss: 0.1545 - 707ms/epoch - 11ms/step\n",
            "Epoch 190/500\n",
            "67/67 - 1s - loss: 0.0066 - val_loss: 0.1377 - 709ms/epoch - 11ms/step\n"
          ]
        }
      ],
      "source": [
        "best_model = load_model('./drive/MyDrive/TCC/lstm_regression2/best_model_tunner.hdf5')\n",
        "best_model.build(x_train.shape);\n",
        "best_model.summary();\n",
        "\n",
        "earlystopping = EarlyStopping(monitor='val_loss', patience=100, restore_best_weights=True)\n",
        "\n",
        "#Define um checkpoint para a melhor época\n",
        "checkpoint_path = './drive/MyDrive/TCC/lstm_regression2/best_model_earlyStop.hdf5'\n",
        "checkpoint = ModelCheckpoint(filepath=checkpoint_path,\n",
        "                             monitor='val_loss',\n",
        "                             verbose=0,\n",
        "                             save_best_only=True,\n",
        "                             mode='min')\n",
        "callbacks = [checkpoint, earlystopping]\n",
        "#Train the best model\n",
        "history = best_model.fit(x_train, y_train, epochs=500, batch_size=32, validation_data=(x_val, y_val), verbose=2,\n",
        "                              callbacks=callbacks)\n"
      ]
    },
    {
      "cell_type": "markdown",
      "metadata": {
        "id": "syHwkGQShuzN"
      },
      "source": [
        "## Resultados do Treino e da Validação"
      ]
    },
    {
      "cell_type": "markdown",
      "metadata": {},
      "source": [
        "Mostra a loss, que é mean_squared_error\n",
        "\n"
      ]
    },
    {
      "cell_type": "code",
      "execution_count": null,
      "metadata": {
        "colab": {
          "base_uri": "https://localhost:8080/",
          "height": 535
        },
        "id": "NrX-PI3bhaQ8",
        "outputId": "938e2553-3da6-4765-af57-35ffeda9cdae"
      },
      "outputs": [
        {
          "data": {
            "image/png": "[encoded data removed]",
            "text/plain": [
              "<Figure size 1500x500 with 2 Axes>"
            ]
          },
          "metadata": {},
          "output_type": "display_data"
        },
        {
          "name": "stdout",
          "output_type": "stream",
          "text": [
            "10/10 [==============================] - 0s 4ms/step\n",
            "Mean Squared Error (MSE): 0.016113716357197976\n",
            "Root Mean Squared Error (RMSE): 0.12693981391666673\n",
            "Mean Absolute Error (MAE): 0.09495217779143617\n",
            "Coefficient of Determination (R-squared): 0.7932416042694121\n"
          ]
        }
      ],
      "source": [
        "fig, (ax1, ax2) = plt.subplots(1, 2, figsize=(15, 5))\n",
        "\n",
        "# ax1.plot(history.history['root_mean_squared_error'])\n",
        "# ax1.plot(history.history['val_root_mean_squared_error'])\n",
        "# ax1.set_title('Model root_mean_squared_error')\n",
        "# ax1.set_ylabel('root_mean_squared_error')\n",
        "# ax1.set_xlabel('Epoch')\n",
        "# ax1.legend(['Train', 'Validation'], loc='upper left')\n",
        "\n",
        "\n",
        "ax2.plot(history.history['loss'])\n",
        "ax2.plot(history.history['val_loss'])\n",
        "ax2.set_title('Model Loss = Mean Squared Error')\n",
        "ax2.set_ylabel('Loss')\n",
        "ax2.set_xlabel('Epoch')\n",
        "ax2.legend(['Train', 'Validation'], loc='upper left')\n",
        "plt.show()\n",
        "\n",
        "y_val_predict = best_model.predict(x_val)\n",
        "y_val_predict_results = y_val_predict[:, -1, 0]\n",
        "\n",
        "# Calcular e imprimir as métricas de regressão\n",
        "mse = mean_squared_error(y_val, y_val_predict_results)\n",
        "rmse = np.sqrt(mse)\n",
        "mae = mean_absolute_error(y_val, y_val_predict_results)\n",
        "r2 = r2_score(y_val, y_val_predict_results)\n",
        "print(f\"Mean Squared Error (MSE): {mse}\")\n",
        "print(f\"Root Mean Squared Error (RMSE): {rmse}\")\n",
        "print(f\"Mean Absolute Error (MAE): {mae}\")\n",
        "print(f\"Coefficient of Determination (R-squared): {r2}\")"
      ]
    }
  ],
  "metadata": {
    "colab": {
      "provenance": [],
      "toc_visible": true
    },
    "kernelspec": {
      "display_name": "Python 3",
      "name": "python3"
    },
    "language_info": {
      "codemirror_mode": {
        "name": "ipython",
        "version": 3
      },
      "file_extension": ".py",
      "mimetype": "text/x-python",
      "name": "python",
      "nbconvert_exporter": "python",
      "pygments_lexer": "ipython3",
      "version": "3.10.11"
    }
  },
  "nbformat": 4,
  "nbformat_minor": 0
}
