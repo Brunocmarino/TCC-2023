{
  "cells": [
    {
      "cell_type": "code",
      "execution_count": null,
      "metadata": {
        "id": "bU43rs7ceXXw"
      },
      "outputs": [],
      "source": [
        "# # !pip install keras-tuner\n",
        "# !pip install tensorflow\n",
        "# !pip install numpy\n",
        "# !pip install pandas"
      ]
    },
    {
      "cell_type": "code",
      "execution_count": null,
      "metadata": {
        "id": "i8nnpjk8Vo2p"
      },
      "outputs": [],
      "source": [
        "#Importar as bibliotecas necessárias\n",
        "import os\n",
        "import pandas as pd\n",
        "import numpy as np\n",
        "import math\n",
        "import datetime\n",
        "import time\n",
        "\n",
        "# Importar sklearn para avaliar o modelo\n",
        "from sklearn.metrics import mean_squared_error, mean_absolute_error, explained_variance_score, r2_score\n",
        "from sklearn.metrics import mean_poisson_deviance, mean_gamma_deviance, accuracy_score\n",
        "from sklearn.preprocessing  import MinMaxScaler\n",
        "from sklearn.model_selection import train_test_split\n",
        "from sklearn.linear_model import LinearRegression\n",
        "from sklearn.metrics import confusion_matrix\n",
        "# from scikeras.wrappers import KerasRegressor\n",
        "# from tensorflow.keras.wrappers.scikit_learn import KerasRegressor\n",
        "\n",
        "\n",
        "from sklearn.model_selection import RandomizedSearchCV\n",
        "from scipy.stats import randint as sp_randint\n",
        "from sklearn.metrics import mean_squared_error, mean_absolute_error, r2_score\n",
        "\n",
        "from sklearn.model_selection import RandomizedSearchCV\n",
        "from scipy.stats import randint as sp_randint\n",
        "# Importar tensorflow para construir o modelo\n",
        "import tensorflow as tf\n",
        "import keras\n",
        "from keras import optimizers\n",
        "from keras.optimizers import Adam\n",
        "from keras.models import Sequential, Model, load_model\n",
        "from keras.layers import *\n",
        "from keras.callbacks import ModelCheckpoint, History, EarlyStopping\n",
        "from keras.losses import MeanSquaredError\n",
        "from keras.metrics import RootMeanSquaredError\n",
        "from keras.optimizers import Adam\n",
        "\n",
        "# Importar bibliotecas para plotar gráficos\n",
        "\n",
        "import matplotlib.pyplot as plt\n",
        "from itertools import cycle\n",
        "import plotly.graph_objects as go\n",
        "import plotly.express as px\n",
        "from plotly.subplots import make_subplots\n",
        "\n"
      ]
    },
    {
      "cell_type": "markdown",
      "metadata": {
        "id": "N_nI01hq-LBl"
      },
      "source": [
        "## Variaveis Globais"
      ]
    },
    {
      "cell_type": "code",
      "execution_count": null,
      "metadata": {
        "id": "2zbng1cT-UhW"
      },
      "outputs": [],
      "source": [
        "TIME_STEP = 30              #número de dias usados para prever o futuro\n",
        "JUMP_STEP = 1\n",
        "NUM_FEATURES = 5\n",
        "NUM_PREDICT_FUTURE = 1      #número do dia a serem preditos no futuro (prever o próximo dia? Prever o 7º dia?)\n",
        "THRESHOLD = 3\n",
        "PATH = './drive/MyDrive/TCC/single_lstm_classification18/'"
      ]
    },
    {
      "cell_type": "markdown",
      "metadata": {
        "id": "QSb1Jl9xgwv-"
      },
      "source": [
        "## Definição das Seeds\n"
      ]
    },
    {
      "cell_type": "code",
      "execution_count": null,
      "metadata": {
        "id": "23WPAtowgzKW"
      },
      "outputs": [],
      "source": [
        "import tensorflow as tf\n",
        "import numpy as np\n",
        "\n",
        "# Defina a semente do TensorFlow\n",
        "tf.random.set_seed(0)\n",
        "\n",
        "# Defina a semente do NumPy\n",
        "np.random.seed(0)\n"
      ]
    },
    {
      "cell_type": "markdown",
      "metadata": {
        "id": "syo9xluyeRry"
      },
      "source": [
        "## Importar a Base de Dados"
      ]
    },
    {
      "cell_type": "markdown",
      "metadata": {
        "id": "s59ijNrFgwLj"
      },
      "source": []
    },
    {
      "cell_type": "code",
      "execution_count": null,
      "metadata": {
        "id": "Dmlyft24aP-0"
      },
      "outputs": [],
      "source": [
        "ticker = 'BTC-USD'\n",
        "#1410825600\n",
        "initial_period = int(time.mktime(datetime.datetime(2014, 9, 16, 0, 0).timetuple()))\n",
        "\n",
        "#1675814400\n",
        "final_period = int(time.mktime(datetime.datetime(2023, 10, 31, 0, 0).timetuple()))\n",
        "# 3067 valores. 2300 é 75%\n",
        "interval = '1d' # 1d, 1wk, 1m\n",
        "\n",
        "query_string = f'https://query1.finance.yahoo.com/v7/finance/download/{ticker}?period1={initial_period}&period2={final_period}&interval={interval}&events=history&includeAdjustedClose=true'\n",
        "\n",
        "data = pd.read_csv(query_string)\n",
        "df = pd.DataFrame(data, columns=['Date', 'Open', 'High', 'Low', 'Close', 'Volume'])\n",
        "df.index = pd.to_datetime(df['Date'], format='%Y-%m-%d')\n"
      ]
    },
    {
      "cell_type": "markdown",
      "metadata": {
        "id": "XL9rvrxc--7_"
      },
      "source": [
        "Função para escolher os dados utilizados de forma sequencial. A cada t valores\n"
      ]
    },
    {
      "cell_type": "code",
      "execution_count": null,
      "metadata": {
        "id": "Q_vBUR_C_PA1"
      },
      "outputs": [],
      "source": [
        "# def selecionaValores(df, jump_step):\n",
        "#   return df[0::jump_step]\n",
        "\n",
        "# df = selecionaValores(df, JUMP_STEP)"
      ]
    },
    {
      "cell_type": "markdown",
      "metadata": {
        "id": "7ntbbIvr59kR"
      },
      "source": [
        "Preparação dos Dados:"
      ]
    },
    {
      "cell_type": "code",
      "execution_count": null,
      "metadata": {
        "id": "1eGnvTzf6Czd"
      },
      "outputs": [],
      "source": [
        "# Retira a Data e coloca como Index\n",
        "df.index = df.pop('Date')\n",
        "\n",
        "data.dropna(inplace=True)\n",
        "data.reset_index(inplace = True)\n"
      ]
    },
    {
      "cell_type": "code",
      "execution_count": null,
      "metadata": {
        "id": "pujg45GZKCY7"
      },
      "outputs": [],
      "source": [
        "# Definir os dataframes dos objetivos a serem alcançados pelo modelo. O Y. Baseados no TimeStep e numero do dia a ser predito\n",
        "\n",
        "ignoreDays = TIME_STEP + NUM_PREDICT_FUTURE - 1\n",
        "index = np.array(df.index)[ignoreDays:]\n",
        "\n",
        "# Dataframe com o valor de fechamento\n",
        "target_df_Close = pd.DataFrame(df['Close'], index, ['Close']).rename(columns={'Close':'YClose'})\n",
        "\n",
        "# Dataframe com a variação nominal entre os dias\n",
        "array_change = np.array(target_df_Close.YClose) - np.array(df['Close'])[TIME_STEP-1 : -NUM_PREDICT_FUTURE]\n",
        "target_df_Change = pd.DataFrame(array_change, index, columns=['Close']).rename(columns={'Close':'YChange'})\n",
        "\n",
        "# Dataframe com a variação percentual entre os dias\n",
        "array_variation = np.array(target_df_Change.YChange) / np.array(df['Close'])[TIME_STEP-1 : -NUM_PREDICT_FUTURE]\n",
        "target_df_Variation = pd.DataFrame(array_variation*100, index, ['Close']).rename(columns={'Close':'YVariation'})\n",
        "\n",
        "\n",
        "# Dataframe com a Classe baseado na variação percentual entre os dias\n",
        "\n",
        "def defineClass(variation):\n",
        "  if variation > THRESHOLD:\n",
        "    return 2\n",
        "  elif variation < -THRESHOLD:\n",
        "    return 0\n",
        "  else:\n",
        "    return 1\n",
        "# Apply the defineClass function to each data point in the array_variation\n",
        "classifications = [defineClass(variation*100) for variation in array_variation]\n",
        "target_df_Class = pd.DataFrame(classifications, index, ['Close']).rename(columns={'Close':'YClass'})\n"
      ]
    },
    {
      "cell_type": "code",
      "execution_count": null,
      "metadata": {
        "colab": {
          "base_uri": "https://localhost:8080/",
          "height": 206
        },
        "id": "bhnRR9itZgQv",
        "outputId": "ab11bae9-ede8-40a0-eea4-452ecae4bf94"
      },
      "outputs": [
        {
          "data": {
            "text/html": [
              "\n",
              "  <div id=\"df-864f91c0-2fa0-483e-be43-f172d9c0d4c1\" class=\"colab-df-container\">\n",
              "    <div>\n",
              "<style scoped>\n",
              "    .dataframe tbody tr th:only-of-type {\n",
              "        vertical-align: middle;\n",
              "    }\n",
              "\n",
              "    .dataframe tbody tr th {\n",
              "        vertical-align: top;\n",
              "    }\n",
              "\n",
              "    .dataframe thead th {\n",
              "        text-align: right;\n",
              "    }\n",
              "</style>\n",
              "<table border=\"1\" class=\"dataframe\">\n",
              "  <thead>\n",
              "    <tr style=\"text-align: right;\">\n",
              "      <th></th>\n",
              "      <th>YClose</th>\n",
              "      <th>YLogClose</th>\n",
              "      <th>YChange</th>\n",
              "      <th>YVariation</th>\n",
              "      <th>YClass</th>\n",
              "    </tr>\n",
              "  </thead>\n",
              "  <tbody>\n",
              "    <tr>\n",
              "      <th>2014-10-17</th>\n",
              "      <td>383.757996</td>\n",
              "      <td>2.584057</td>\n",
              "      <td>1.201996</td>\n",
              "      <td>0.314201</td>\n",
              "      <td>1</td>\n",
              "    </tr>\n",
              "    <tr>\n",
              "      <th>2014-10-18</th>\n",
              "      <td>391.441986</td>\n",
              "      <td>2.592667</td>\n",
              "      <td>7.683990</td>\n",
              "      <td>2.002301</td>\n",
              "      <td>1</td>\n",
              "    </tr>\n",
              "    <tr>\n",
              "      <th>2014-10-19</th>\n",
              "      <td>389.545990</td>\n",
              "      <td>2.590559</td>\n",
              "      <td>-1.895996</td>\n",
              "      <td>-0.484362</td>\n",
              "      <td>1</td>\n",
              "    </tr>\n",
              "    <tr>\n",
              "      <th>2014-10-20</th>\n",
              "      <td>382.845001</td>\n",
              "      <td>2.583023</td>\n",
              "      <td>-6.700989</td>\n",
              "      <td>-1.720205</td>\n",
              "      <td>1</td>\n",
              "    </tr>\n",
              "    <tr>\n",
              "      <th>2014-10-21</th>\n",
              "      <td>386.475006</td>\n",
              "      <td>2.587121</td>\n",
              "      <td>3.630005</td>\n",
              "      <td>0.948166</td>\n",
              "      <td>1</td>\n",
              "    </tr>\n",
              "  </tbody>\n",
              "</table>\n",
              "</div>\n",
              "    <div class=\"colab-df-buttons\">\n",
              "\n",
              "  <div class=\"colab-df-container\">\n",
              "    <button class=\"colab-df-convert\" onclick=\"convertToInteractive('df-864f91c0-2fa0-483e-be43-f172d9c0d4c1')\"\n",
              "            title=\"Convert this dataframe to an interactive table.\"\n",
              "            style=\"display:none;\">\n",
              "\n",
              "  <svg xmlns=\"http://www.w3.org/2000/svg\" height=\"24px\" viewBox=\"0 -960 960 960\">\n",
              "    <path d=\"M120-120v-720h720v720H120Zm60-500h600v-160H180v160Zm220 220h160v-160H400v160Zm0 220h160v-160H400v160ZM180-400h160v-160H180v160Zm440 0h160v-160H620v160ZM180-180h160v-160H180v160Zm440 0h160v-160H620v160Z\"/>\n",
              "  </svg>\n",
              "    </button>\n",
              "\n",
              "  <style>\n",
              "    .colab-df-container {\n",
              "      display:flex;\n",
              "      gap: 12px;\n",
              "    }\n",
              "\n",
              "    .colab-df-convert {\n",
              "      background-color: #E8F0FE;\n",
              "      border: none;\n",
              "      border-radius: 50%;\n",
              "      cursor: pointer;\n",
              "      display: none;\n",
              "      fill: #1967D2;\n",
              "      height: 32px;\n",
              "      padding: 0 0 0 0;\n",
              "      width: 32px;\n",
              "    }\n",
              "\n",
              "    .colab-df-convert:hover {\n",
              "      background-color: #E2EBFA;\n",
              "      box-shadow: 0px 1px 2px rgba(60, 64, 67, 0.3), 0px 1px 3px 1px rgba(60, 64, 67, 0.15);\n",
              "      fill: #174EA6;\n",
              "    }\n",
              "\n",
              "    .colab-df-buttons div {\n",
              "      margin-bottom: 4px;\n",
              "    }\n",
              "\n",
              "    [theme=dark] .colab-df-convert {\n",
              "      background-color: #3B4455;\n",
              "      fill: #D2E3FC;\n",
              "    }\n",
              "\n",
              "    [theme=dark] .colab-df-convert:hover {\n",
              "      background-color: #434B5C;\n",
              "      box-shadow: 0px 1px 3px 1px rgba(0, 0, 0, 0.15);\n",
              "      filter: drop-shadow(0px 1px 2px rgba(0, 0, 0, 0.3));\n",
              "      fill: #FFFFFF;\n",
              "    }\n",
              "  </style>\n",
              "\n",
              "    <script>\n",
              "      const buttonEl =\n",
              "        document.querySelector('#df-864f91c0-2fa0-483e-be43-f172d9c0d4c1 button.colab-df-convert');\n",
              "      buttonEl.style.display =\n",
              "        google.colab.kernel.accessAllowed ? 'block' : 'none';\n",
              "\n",
              "      async function convertToInteractive(key) {\n",
              "        const element = document.querySelector('#df-864f91c0-2fa0-483e-be43-f172d9c0d4c1');\n",
              "        const dataTable =\n",
              "          await google.colab.kernel.invokeFunction('convertToInteractive',\n",
              "                                                    [key], {});\n",
              "        if (!dataTable) return;\n",
              "\n",
              "        const docLinkHtml = 'Like what you see? Visit the ' +\n",
              "          '<a target=\"_blank\" href=https://colab.research.google.com/notebooks/data_table.ipynb>data table notebook</a>'\n",
              "          + ' to learn more about interactive tables.';\n",
              "        element.innerHTML = '';\n",
              "        dataTable['output_type'] = 'display_data';\n",
              "        await google.colab.output.renderOutput(dataTable, element);\n",
              "        const docLink = document.createElement('div');\n",
              "        docLink.innerHTML = docLinkHtml;\n",
              "        element.appendChild(docLink);\n",
              "      }\n",
              "    </script>\n",
              "  </div>\n",
              "\n",
              "\n",
              "<div id=\"df-4fd19ad3-3c23-413a-a95d-98a37dd6b56b\">\n",
              "  <button class=\"colab-df-quickchart\" onclick=\"quickchart('df-4fd19ad3-3c23-413a-a95d-98a37dd6b56b')\"\n",
              "            title=\"Suggest charts.\"\n",
              "            style=\"display:none;\">\n",
              "\n",
              "<svg xmlns=\"http://www.w3.org/2000/svg\" height=\"24px\"viewBox=\"0 0 24 24\"\n",
              "     width=\"24px\">\n",
              "    <g>\n",
              "        <path d=\"M19 3H5c-1.1 0-2 .9-2 2v14c0 1.1.9 2 2 2h14c1.1 0 2-.9 2-2V5c0-1.1-.9-2-2-2zM9 17H7v-7h2v7zm4 0h-2V7h2v10zm4 0h-2v-4h2v4z\"/>\n",
              "    </g>\n",
              "</svg>\n",
              "  </button>\n",
              "\n",
              "<style>\n",
              "  .colab-df-quickchart {\n",
              "      --bg-color: #E8F0FE;\n",
              "      --fill-color: #1967D2;\n",
              "      --hover-bg-color: #E2EBFA;\n",
              "      --hover-fill-color: #174EA6;\n",
              "      --disabled-fill-color: #AAA;\n",
              "      --disabled-bg-color: #DDD;\n",
              "  }\n",
              "\n",
              "  [theme=dark] .colab-df-quickchart {\n",
              "      --bg-color: #3B4455;\n",
              "      --fill-color: #D2E3FC;\n",
              "      --hover-bg-color: #434B5C;\n",
              "      --hover-fill-color: #FFFFFF;\n",
              "      --disabled-bg-color: #3B4455;\n",
              "      --disabled-fill-color: #666;\n",
              "  }\n",
              "\n",
              "  .colab-df-quickchart {\n",
              "    background-color: var(--bg-color);\n",
              "    border: none;\n",
              "    border-radius: 50%;\n",
              "    cursor: pointer;\n",
              "    display: none;\n",
              "    fill: var(--fill-color);\n",
              "    height: 32px;\n",
              "    padding: 0;\n",
              "    width: 32px;\n",
              "  }\n",
              "\n",
              "  .colab-df-quickchart:hover {\n",
              "    background-color: var(--hover-bg-color);\n",
              "    box-shadow: 0 1px 2px rgba(60, 64, 67, 0.3), 0 1px 3px 1px rgba(60, 64, 67, 0.15);\n",
              "    fill: var(--button-hover-fill-color);\n",
              "  }\n",
              "\n",
              "  .colab-df-quickchart-complete:disabled,\n",
              "  .colab-df-quickchart-complete:disabled:hover {\n",
              "    background-color: var(--disabled-bg-color);\n",
              "    fill: var(--disabled-fill-color);\n",
              "    box-shadow: none;\n",
              "  }\n",
              "\n",
              "  .colab-df-spinner {\n",
              "    border: 2px solid var(--fill-color);\n",
              "    border-color: transparent;\n",
              "    border-bottom-color: var(--fill-color);\n",
              "    animation:\n",
              "      spin 1s steps(1) infinite;\n",
              "  }\n",
              "\n",
              "  @keyframes spin {\n",
              "    0% {\n",
              "      border-color: transparent;\n",
              "      border-bottom-color: var(--fill-color);\n",
              "      border-left-color: var(--fill-color);\n",
              "    }\n",
              "    20% {\n",
              "      border-color: transparent;\n",
              "      border-left-color: var(--fill-color);\n",
              "      border-top-color: var(--fill-color);\n",
              "    }\n",
              "    30% {\n",
              "      border-color: transparent;\n",
              "      border-left-color: var(--fill-color);\n",
              "      border-top-color: var(--fill-color);\n",
              "      border-right-color: var(--fill-color);\n",
              "    }\n",
              "    40% {\n",
              "      border-color: transparent;\n",
              "      border-right-color: var(--fill-color);\n",
              "      border-top-color: var(--fill-color);\n",
              "    }\n",
              "    60% {\n",
              "      border-color: transparent;\n",
              "      border-right-color: var(--fill-color);\n",
              "    }\n",
              "    80% {\n",
              "      border-color: transparent;\n",
              "      border-right-color: var(--fill-color);\n",
              "      border-bottom-color: var(--fill-color);\n",
              "    }\n",
              "    90% {\n",
              "      border-color: transparent;\n",
              "      border-bottom-color: var(--fill-color);\n",
              "    }\n",
              "  }\n",
              "</style>\n",
              "\n",
              "  <script>\n",
              "    async function quickchart(key) {\n",
              "      const quickchartButtonEl =\n",
              "        document.querySelector('#' + key + ' button');\n",
              "      quickchartButtonEl.disabled = true;  // To prevent multiple clicks.\n",
              "      quickchartButtonEl.classList.add('colab-df-spinner');\n",
              "      try {\n",
              "        const charts = await google.colab.kernel.invokeFunction(\n",
              "            'suggestCharts', [key], {});\n",
              "      } catch (error) {\n",
              "        console.error('Error during call to suggestCharts:', error);\n",
              "      }\n",
              "      quickchartButtonEl.classList.remove('colab-df-spinner');\n",
              "      quickchartButtonEl.classList.add('colab-df-quickchart-complete');\n",
              "    }\n",
              "    (() => {\n",
              "      let quickchartButtonEl =\n",
              "        document.querySelector('#df-4fd19ad3-3c23-413a-a95d-98a37dd6b56b button');\n",
              "      quickchartButtonEl.style.display =\n",
              "        google.colab.kernel.accessAllowed ? 'block' : 'none';\n",
              "    })();\n",
              "  </script>\n",
              "</div>\n",
              "    </div>\n",
              "  </div>\n"
            ],
            "text/plain": [
              "                YClose  YLogClose   YChange  YVariation  YClass\n",
              "2014-10-17  383.757996   2.584057  1.201996    0.314201       1\n",
              "2014-10-18  391.441986   2.592667  7.683990    2.002301       1\n",
              "2014-10-19  389.545990   2.590559 -1.895996   -0.484362       1\n",
              "2014-10-20  382.845001   2.583023 -6.700989   -1.720205       1\n",
              "2014-10-21  386.475006   2.587121  3.630005    0.948166       1"
            ]
          },
          "execution_count": 114,
          "metadata": {},
          "output_type": "execute_result"
        }
      ],
      "source": [
        "# target_log = pd.DataFrame(np.log10(np.array(target_df_Close['YClose'])), index, ['YClose']).rename(columns={'YClose':'YLogClose'})\n",
        "# final_df = pd.concat([target_df_Close, target_log, target_df_Change, target_df_Variation, target_df_Class], axis=1)\n",
        "\n",
        "# final_df.head(5)"
      ]
    },
    {
      "cell_type": "code",
      "execution_count": null,
      "metadata": {
        "colab": {
          "base_uri": "https://localhost:8080/"
        },
        "id": "BQX50Kd9NWj7",
        "outputId": "49f09aca-5659-4a70-bbfb-b500aff8d23b"
      },
      "outputs": [
        {
          "name": "stdout",
          "output_type": "stream",
          "text": [
            "df.Close.size: 3332\n",
            "target_df_Close.size: 3302\n",
            "target_df_Change.size: 3302\n",
            "target_df_Variation.size: 3302\n",
            "target_df_Class.size: 3302\n",
            "\n"
          ]
        }
      ],
      "source": [
        "# # Imprimir informações sobre o tamanho das séries de dados\n",
        "# print(f'df.Close.size: {df.Close.size}')\n",
        "# print(f'target_df_Close.size: {target_df_Close.size}')\n",
        "# print(f'target_df_Change.size: {target_df_Change.size}')\n",
        "# print(f'target_df_Variation.size: {target_df_Variation.size}')\n",
        "# print(f'target_df_Class.size: {target_df_Class.size}')\n",
        "# print()"
      ]
    },
    {
      "cell_type": "code",
      "execution_count": null,
      "metadata": {
        "colab": {
          "base_uri": "https://localhost:8080/"
        },
        "id": "kYaFYGojLbfG",
        "outputId": "6250d911-85c7-43ed-ec33-63820377b126"
      },
      "outputs": [
        {
          "name": "stdout",
          "output_type": "stream",
          "text": [
            "Target Class\n",
            "0     414\n",
            "1    2401\n",
            "2     487\n",
            "Name: YClass, dtype: int64\n",
            "\n"
          ]
        }
      ],
      "source": [
        "# print(\"Target Class\")\n",
        "# class_counts = target_df_Class['YClass'].value_counts().sort_index()\n",
        "# print(class_counts)\n",
        "# print()"
      ]
    },
    {
      "cell_type": "markdown",
      "metadata": {
        "id": "kjJefGIhIzqA"
      },
      "source": [
        "## Divisão em Treino, Validação e Teste"
      ]
    },
    {
      "cell_type": "code",
      "execution_count": null,
      "metadata": {
        "id": "cN1vXbqXzgjh"
      },
      "outputs": [],
      "source": [
        "# Divisão entre 70% treino, 10% validação e 20% teste\n",
        "size = len(target_df_Class)\n",
        "train_size = int(size * 0.7)\n",
        "validation_size = int(size * 0.1)\n",
        "test_size = size - train_size - validation_size\n",
        "\n",
        "x_train_data = df[: train_size + TIME_STEP - 1]\n",
        "x_val_data = df[ train_size : (train_size + validation_size + TIME_STEP - 1)]\n",
        "x_test_data = df[train_size + validation_size : -NUM_PREDICT_FUTURE]\n",
        "\n",
        "y_train_data = target_df_Class[: train_size]\n",
        "y_val_data = target_df_Class[train_size : (train_size + validation_size)]\n",
        "y_test_data = target_df_Class[(train_size + validation_size) :]\n"
      ]
    },
    {
      "cell_type": "code",
      "execution_count": null,
      "metadata": {
        "colab": {
          "base_uri": "https://localhost:8080/",
          "height": 585
        },
        "id": "ZoVok9LDiuA2",
        "outputId": "4793c6e4-50fb-413e-8814-50c81bd5e74a"
      },
      "outputs": [
        {
          "data": {
            "image/png": "[encoded data removed]",
            "text/plain": [
              "<Figure size 1200x600 with 1 Axes>"
            ]
          },
          "metadata": {},
          "output_type": "display_data"
        }
      ],
      "source": [
        "# import matplotlib.pyplot as plt\n",
        "# import pandas as pd\n",
        "\n",
        "# # Suponha que você tenha os DataFrames x_train_data, x_val_data e x_test_data\n",
        "# # Vamos plotar a coluna \"Close\" de cada conjunto de dados\n",
        "\n",
        "# plt.figure(figsize=(12, 6))  # Define o tamanho da figura\n",
        "\n",
        "# # Converter o índice em uma série de datas\n",
        "# x_train_dates = pd.to_datetime(x_train_data.index)\n",
        "# x_val_dates = pd.to_datetime(x_val_data.index)\n",
        "# x_test_dates = pd.to_datetime(x_test_data.index)\n",
        "\n",
        "# # Plot da coluna \"Close\" do conjunto de treino\n",
        "# plt.plot(x_train_dates, x_train_data['Close'], label='Treino', linewidth=2)\n",
        "\n",
        "# # Plot da coluna \"Close\" do conjunto de validação\n",
        "# plt.plot(x_val_dates, x_val_data['Close'], label='Validação', linewidth=2)\n",
        "\n",
        "# # Plot da coluna \"Close\" do conjunto de teste\n",
        "# plt.plot(x_test_dates, x_test_data['Close'], label='Teste', linewidth=2)\n",
        "\n",
        "# plt.xlabel('Data')  # Rótulo do eixo x\n",
        "# plt.ylabel('Close')  # Rótulo do eixo y\n",
        "# plt.title('Gráfico de Close - Treino, Validação e Teste')  # Título do gráfico\n",
        "# plt.xticks(rotation=45)  # Rotaciona os rótulos do eixo x para melhor legibilidade\n",
        "# plt.legend()  # Adiciona a legenda\n",
        "\n",
        "# plt.show()  # Mostra o gráfico\n"
      ]
    },
    {
      "cell_type": "code",
      "execution_count": null,
      "metadata": {
        "colab": {
          "base_uri": "https://localhost:8080/"
        },
        "id": "N6C8hIkYxebm",
        "outputId": "d6b01cb8-875b-4cd0-ce5c-5764728442ab"
      },
      "outputs": [
        {
          "name": "stdout",
          "output_type": "stream",
          "text": [
            "Tamanhos dos dados:\n",
            "size: 3302\n",
            "train_size: 2311\n",
            "validation_size: 330\n",
            "test_size: 661\n",
            "\n"
          ]
        }
      ],
      "source": [
        "# # Imprimir informações sobre os tamanhos dos dados\n",
        "# print('Tamanhos dos dados:')\n",
        "# print(f'size: {size}')\n",
        "# print(f'train_size: {train_size}')\n",
        "# print(f'validation_size: {validation_size}')\n",
        "# print(f'test_size: {test_size}')\n",
        "# print()"
      ]
    },
    {
      "cell_type": "code",
      "execution_count": null,
      "metadata": {
        "colab": {
          "base_uri": "https://localhost:8080/"
        },
        "id": "4I3dvcayVlXI",
        "outputId": "850859c4-3b16-4456-e2de-e7ea40edeb8a"
      },
      "outputs": [
        {
          "name": "stdout",
          "output_type": "stream",
          "text": [
            "x_train_data.shape: (2340, 5)\n",
            "x_val_data.shape: (359, 5)\n",
            "x_test_data.shape: (690, 5)\n",
            "y_train_data.shape: (2311, 1)\n",
            "y_val_data.shape: (330, 1)\n",
            "y_test_data.shape: (661, 1)\n",
            "\n"
          ]
        }
      ],
      "source": [
        "# # Imprimir os tamanhos dos dados em linhas separadas\n",
        "# print('x_train_data.shape:', x_train_data.shape)\n",
        "# print('x_val_data.shape:', x_val_data.shape)\n",
        "# print('x_test_data.shape:', x_test_data.shape)\n",
        "# print('y_train_data.shape:', y_train_data.shape)\n",
        "# print('y_val_data.shape:', y_val_data.shape)\n",
        "# print('y_test_data.shape:', y_test_data.shape)\n",
        "# print()"
      ]
    },
    {
      "cell_type": "code",
      "execution_count": null,
      "metadata": {
        "id": "0cj30FewVA38"
      },
      "outputs": [],
      "source": [
        "#Transforma os dados para suavizar as variações em escala absoluta\n",
        "# Transforma input data\n",
        "scaler_train_input = MinMaxScaler(feature_range=(0, 1))\n",
        "scaled_train_input = scaler_train_input.fit_transform(x_train_data)\n",
        "\n",
        "scaled_val_input = scaler_train_input.transform(x_val_data)\n",
        "scaled_test_input = scaler_train_input.transform(x_test_data)\n",
        "\n",
        "# Transforma output data para o resultado\n",
        "# encoded_train_output = keras.utils.to_categorical(y_train_data, num_classes=3)\n",
        "# encoded_val_output = keras.utils.to_categorical(y_val_data, num_classes=3)\n",
        "# encoded_test_output = keras.utils.to_categorical(y_test_data, num_classes=3)\n",
        "\n",
        "encoded_train_output = np.array(y_train_data.astype(int))\n",
        "encoded_val_output = np.array(y_val_data.astype(int))\n",
        "encoded_test_output = np.array(y_test_data.astype(int))\n"
      ]
    },
    {
      "cell_type": "code",
      "execution_count": null,
      "metadata": {
        "colab": {
          "base_uri": "https://localhost:8080/"
        },
        "id": "UkHqO0wvndCp",
        "outputId": "31cd494f-2939-489e-e453-36a47354a2fc"
      },
      "outputs": [
        {
          "name": "stdout",
          "output_type": "stream",
          "text": [
            "Dados de Treino (5 primeiros valores):\n",
            "       Open      High       Low     Close    Volume\n",
            "0  0.006242  0.005315  0.006243  0.005850  0.000123\n",
            "1  0.006048  0.005080  0.005369  0.005161  0.000232\n",
            "2  0.005340  0.004479  0.004734  0.004540  0.000260\n",
            "3  0.004704  0.004385  0.004853  0.004835  0.000251\n",
            "4  0.004994  0.004159  0.004927  0.004624  0.000168\n",
            "\n",
            "Dados de Validação (5 primeiros valores):\n",
            "       Open      High       Low     Close    Volume\n",
            "0  0.802461  0.823901  0.815573  0.817268  0.515835\n",
            "1  0.842026  0.815846  0.766479  0.767784  0.549447\n",
            "2  0.791585  0.780337  0.788125  0.754224  0.467911\n",
            "3  0.777371  0.756670  0.753361  0.746119  0.424556\n",
            "4  0.769348  0.768626  0.771463  0.763692  0.401459\n",
            "\n",
            "Dados de Teste (5 primeiros valores):\n",
            "       Open      High       Low     Close    Volume\n",
            "0  1.025325  1.032160  1.041265  0.986046  0.251066\n",
            "1  1.017170  1.020616  1.039457  1.030445  0.208977\n",
            "2  1.062323  1.046867  1.079094  1.045861  0.177865\n",
            "3  1.078737  1.036093  1.016177  0.975449  0.260803\n",
            "4  1.005186  0.999335  1.027948  0.972833  0.280848\n",
            "\n"
          ]
        }
      ],
      "source": [
        "# import pandas as pd\n",
        "\n",
        "# # Converter os arrays numpy em DataFrames\n",
        "# scaled_train_df = pd.DataFrame(scaled_train_input, columns=x_train_data.columns)\n",
        "# scaled_val_df = pd.DataFrame(scaled_val_input, columns=x_val_data.columns)\n",
        "# scaled_test_df = pd.DataFrame(scaled_test_input, columns=x_test_data.columns)\n",
        "\n",
        "# # Imprimir os 5 primeiros valores de cada DataFrame\n",
        "# print(\"Dados de Treino (5 primeiros valores):\")\n",
        "# print(scaled_train_df.head(5))\n",
        "# print()\n",
        "\n",
        "\n",
        "# print(\"Dados de Validação (5 primeiros valores):\")\n",
        "# print(scaled_val_df.head(5))\n",
        "# print()\n",
        "\n",
        "# print(\"Dados de Teste (5 primeiros valores):\")\n",
        "# print(scaled_test_df.head(5))\n",
        "# print()\n",
        "\n"
      ]
    },
    {
      "cell_type": "code",
      "execution_count": null,
      "metadata": {
        "id": "hkOFLEGQ6E6Z"
      },
      "outputs": [],
      "source": [
        "def createDataset(x, y, time_step=1):\n",
        "  input = []\n",
        "  output = []\n",
        "  for i in range(len(y)):\n",
        "    row = np.array([e for e in x[i : i + time_step]])\n",
        "    input.append(row)\n",
        "    output.append(y[i])\n",
        "\n",
        "  return np.array(input), np.array(output)\n",
        "\n",
        "x_train, y_train = createDataset(scaled_train_input, encoded_train_output, TIME_STEP)\n",
        "x_val, y_val = createDataset(scaled_val_input, encoded_val_output, TIME_STEP)\n",
        "x_test, y_test = createDataset(scaled_test_input, encoded_test_output, TIME_STEP)\n",
        "\n"
      ]
    },
    {
      "cell_type": "code",
      "execution_count": null,
      "metadata": {
        "colab": {
          "base_uri": "https://localhost:8080/"
        },
        "id": "4Gt8ZKxyjeQM",
        "outputId": "c171fe39-55f3-45ee-9e19-33475162d532"
      },
      "outputs": [
        {
          "name": "stdout",
          "output_type": "stream",
          "text": [
            "Formas dos DataFrames e arrays:\n",
            "df.shape: (3332, 5)\n",
            "x_train.shape: (2311, 30, 5), y_train.shape: (2311, 1)\n",
            "x_val.shape: (330, 30, 5), y_val.shape: (330, 1)\n",
            "x_test.shape: (661, 30, 5), y_test.shape: (661, 1)\n",
            "\n"
          ]
        }
      ],
      "source": [
        "# # Imprimir informações sobre as formas dos DataFrames e arrays\n",
        "# print('Formas dos DataFrames e arrays:')\n",
        "# print(f'df.shape: {df.shape}')\n",
        "# print(f'x_train.shape: {x_train.shape}, y_train.shape: {y_train.shape}')\n",
        "# print(f'x_val.shape: {x_val.shape}, y_val.shape: {y_val.shape}')\n",
        "# print(f'x_test.shape: {x_test.shape}, y_test.shape: {y_test.shape}')\n",
        "# print()"
      ]
    },
    {
      "cell_type": "markdown",
      "metadata": {
        "id": "5FjYMbeLgA7H"
      },
      "source": [
        "## Construção do Modelo LSTM"
      ]
    },
    {
      "cell_type": "markdown",
      "metadata": {
        "id": "DJ54UplFDQZG"
      },
      "source": [
        "### Random Search com LSTM\n",
        "\n"
      ]
    },
    {
      "cell_type": "code",
      "execution_count": null,
      "metadata": {
        "colab": {
          "base_uri": "https://localhost:8080/"
        },
        "id": "hf-A4bxufqUG",
        "outputId": "002d8ac4-e2e5-4764-a6cd-92acc7c39749"
      },
      "outputs": [
        {
          "name": "stdout",
          "output_type": "stream",
          "text": [
            "Trial 100 Complete [00h 00m 45s]\n",
            "val_loss: 1.2172374725341797\n",
            "\n",
            "Best val_loss So Far: 1.0033584833145142\n",
            "Total elapsed time: 01h 09m 06s\n",
            "Results summary\n",
            "Results in ./drive/MyDrive/TCC/single_lstm_classification18/lstm_tuning\n",
            "Showing 10 best trials\n",
            "Objective(name=\"val_loss\", direction=\"min\")\n",
            "\n",
            "Trial 077 summary\n",
            "Hyperparameters:\n",
            "num_lstm_units: 112\n",
            "dropout_rate: 0.3605403300232217\n",
            "learning_rate: 0.01655798350852337\n",
            "Score: 1.0033584833145142\n",
            "\n",
            "Trial 063 summary\n",
            "Hyperparameters:\n",
            "num_lstm_units: 112\n",
            "dropout_rate: 0.09967110896319951\n",
            "learning_rate: 0.04468702697857822\n",
            "Score: 1.0075007677078247\n",
            "\n",
            "Trial 007 summary\n",
            "Hyperparameters:\n",
            "num_lstm_units: 80\n",
            "dropout_rate: 0.3906235973095069\n",
            "learning_rate: 0.02728096254233701\n",
            "Score: 1.008114218711853\n",
            "\n",
            "Trial 071 summary\n",
            "Hyperparameters:\n",
            "num_lstm_units: 16\n",
            "dropout_rate: 0.30866484379009623\n",
            "learning_rate: 0.0725917251583102\n",
            "Score: 1.0107680559158325\n",
            "\n",
            "Trial 026 summary\n",
            "Hyperparameters:\n",
            "num_lstm_units: 80\n",
            "dropout_rate: 0.37080306550690123\n",
            "learning_rate: 0.05513981671139741\n",
            "Score: 1.0168668031692505\n",
            "\n",
            "Trial 016 summary\n",
            "Hyperparameters:\n",
            "num_lstm_units: 16\n",
            "dropout_rate: 0.19812526376454206\n",
            "learning_rate: 0.0012878730771030715\n",
            "Score: 1.0174881219863892\n",
            "\n",
            "Trial 049 summary\n",
            "Hyperparameters:\n",
            "num_lstm_units: 112\n",
            "dropout_rate: 0.12992639078648258\n",
            "learning_rate: 0.006117391285246738\n",
            "Score: 1.0209065675735474\n",
            "\n",
            "Trial 052 summary\n",
            "Hyperparameters:\n",
            "num_lstm_units: 96\n",
            "dropout_rate: 0.05760094255172681\n",
            "learning_rate: 0.008161739188324942\n",
            "Score: 1.0212239027023315\n",
            "\n",
            "Trial 092 summary\n",
            "Hyperparameters:\n",
            "num_lstm_units: 112\n",
            "dropout_rate: 0.37052773947073947\n",
            "learning_rate: 0.03853950139816714\n",
            "Score: 1.0221973657608032\n",
            "\n",
            "Trial 059 summary\n",
            "Hyperparameters:\n",
            "num_lstm_units: 16\n",
            "dropout_rate: 0.2729198116584183\n",
            "learning_rate: 0.03192445597602175\n",
            "Score: 1.0222728252410889\n",
            "Model: \"sequential\"\n",
            "_________________________________________________________________\n",
            " Layer (type)                Output Shape              Param #   \n",
            "=================================================================\n",
            " lstm (LSTM)                 (None, 112)               52864     \n",
            "                                                                 \n",
            " dropout (Dropout)           (None, 112)               0         \n",
            "                                                                 \n",
            " dense (Dense)               (None, 3)                 339       \n",
            "                                                                 \n",
            "=================================================================\n",
            "Total params: 53203 (207.82 KB)\n",
            "Trainable params: 53203 (207.82 KB)\n",
            "Non-trainable params: 0 (0.00 Byte)\n",
            "_________________________________________________________________\n",
            "Model: \"sequential\"\n",
            "_________________________________________________________________\n",
            " Layer (type)                Output Shape              Param #   \n",
            "=================================================================\n",
            " lstm (LSTM)                 (None, 112)               52864     \n",
            "                                                                 \n",
            " dropout (Dropout)           (None, 112)               0         \n",
            "                                                                 \n",
            " dense (Dense)               (None, 3)                 339       \n",
            "                                                                 \n",
            "=================================================================\n",
            "Total params: 53203 (207.82 KB)\n",
            "Trainable params: 53203 (207.82 KB)\n",
            "Non-trainable params: 0 (0.00 Byte)\n",
            "_________________________________________________________________\n"
          ]
        },
        {
          "name": "stderr",
          "output_type": "stream",
          "text": [
            "/usr/local/lib/python3.10/dist-packages/keras/src/engine/training.py:3079: UserWarning: You are saving your model as an HDF5 file via `model.save()`. This file format is considered legacy. We recommend using instead the native Keras format, e.g. `model.save('my_model.keras')`.\n",
            "  saving_api.save_model(\n"
          ]
        }
      ],
      "source": [
        "import keras_tuner as kt\n",
        "auc_metric = keras.metrics.AUC(name='auc')\n",
        "from keras.metrics import Precision, Recall\n",
        "from sklearn.metrics import f1_score\n",
        "\n",
        "def build_singleLayer_lstm_model(hp):\n",
        "  model = keras.Sequential()\n",
        "  model.add(LSTM(\n",
        "      units=hp.Int('num_lstm_units', min_value=16, max_value=128, step=16),\n",
        "      return_sequences=False,\n",
        "      input_shape = (x_train.shape[1], x_train.shape[2]),\n",
        "      # activation='softmax'\n",
        "      ))\n",
        "  model.add(Dropout(hp.Float('dropout_rate', min_value=0, max_value=0.4)))\n",
        "  model.add(Dense(units=3, activation='softmax'))\n",
        "  optimizer = Adam(learning_rate=hp.Float('learning_rate', min_value=0.001, max_value=0.1, sampling='log'))\n",
        "  # model.compile(loss='categorical_crossentropy', optimizer=optimizer, metrics=['accuracy', Precision(), Recall(), auc_metric, f1_score_metric])\n",
        "  model.compile(loss='sparse_categorical_crossentropy', optimizer=optimizer)\n",
        "  model.summary()\n",
        "  return model\n",
        "\n",
        "earlystopping = EarlyStopping(monitor='val_loss', patience=25, restore_best_weights=True)\n",
        "\n",
        "tuner = kt.RandomSearch(\n",
        "    build_singleLayer_lstm_model,\n",
        "    objective='val_loss',\n",
        "    max_trials=100,\n",
        "    executions_per_trial=1,\n",
        "    directory=PATH,\n",
        "    overwrite=True,\n",
        "    project_name='lstm_tuning')\n",
        "\n",
        "tuner.search_space_summary()\n",
        "\n",
        "tuner.search(x_train, y_train, epochs=20, validation_data=(x_val, y_val), callbacks=[earlystopping], batch_size=32, verbose=2)\n",
        "tuner.results_summary()\n",
        "\n",
        "#Get the best model and hyperparameters\n",
        "best_model = tuner.get_best_models(num_models=1)[0];\n",
        "best_model.save(PATH + '/best_model_tunner.hdf5');\n",
        "best_model.build(x_train.shape);\n",
        "best_model.summary();\n",
        "best_hyperparameters = tuner.get_best_hyperparameters(num_trials=1)[0];\n"
      ]
    },
    {
      "cell_type": "markdown",
      "metadata": {
        "id": "hFjUKD3Ehmha"
      },
      "source": [
        "## Mostra Treina o melhor modelo com EarlyStop"
      ]
    },
    {
      "cell_type": "code",
      "execution_count": null,
      "metadata": {
        "colab": {
          "base_uri": "https://localhost:8080/"
        },
        "id": "SyDedD8z0WM3",
        "outputId": "8e91c55c-c555-411c-9b72-0a620429e477"
      },
      "outputs": [
        {
          "name": "stdout",
          "output_type": "stream",
          "text": [
            "Model: \"sequential\"\n",
            "_________________________________________________________________\n",
            " Layer (type)                Output Shape              Param #   \n",
            "=================================================================\n",
            " lstm (LSTM)                 (None, 112)               52864     \n",
            "                                                                 \n",
            " dropout (Dropout)           (None, 112)               0         \n",
            "                                                                 \n",
            " dense (Dense)               (None, 3)                 339       \n",
            "                                                                 \n",
            "=================================================================\n",
            "Total params: 53203 (207.82 KB)\n",
            "Trainable params: 53203 (207.82 KB)\n",
            "Non-trainable params: 0 (0.00 Byte)\n",
            "_________________________________________________________________\n"
          ]
        },
        {
          "name": "stderr",
          "output_type": "stream",
          "text": [
            "WARNING:tensorflow:Detecting that an object or model or tf.train.Checkpoint is being deleted with unrestored values. See the following logs for the specific values in question. To silence these warnings, use `status.expect_partial()`. See https://www.tensorflow.org/api_docs/python/tf/train/Checkpoint#restorefor details about the status object returned by the restore function.\n",
            "WARNING:tensorflow:Value in checkpoint could not be found in the restored object: (root).optimizer._variables.1\n",
            "WARNING:tensorflow:Value in checkpoint could not be found in the restored object: (root).optimizer._variables.2\n",
            "WARNING:tensorflow:Value in checkpoint could not be found in the restored object: (root).optimizer._variables.3\n",
            "WARNING:tensorflow:Value in checkpoint could not be found in the restored object: (root).optimizer._variables.4\n",
            "WARNING:tensorflow:Value in checkpoint could not be found in the restored object: (root).optimizer._variables.5\n",
            "WARNING:tensorflow:Value in checkpoint could not be found in the restored object: (root).optimizer._variables.6\n",
            "WARNING:tensorflow:Value in checkpoint could not be found in the restored object: (root).optimizer._variables.7\n",
            "WARNING:tensorflow:Value in checkpoint could not be found in the restored object: (root).optimizer._variables.8\n",
            "WARNING:tensorflow:Value in checkpoint could not be found in the restored object: (root).optimizer._variables.9\n",
            "WARNING:tensorflow:Value in checkpoint could not be found in the restored object: (root).optimizer._variables.10\n"
          ]
        },
        {
          "name": "stdout",
          "output_type": "stream",
          "text": [
            "Epoch 1/500\n",
            "72/72 - 4s - loss: 0.9538 - val_loss: 1.0159 - 4s/epoch - 52ms/step\n",
            "Epoch 2/500\n",
            "72/72 - 3s - loss: 0.9315 - val_loss: 1.1866 - 3s/epoch - 38ms/step\n",
            "Epoch 3/500\n",
            "72/72 - 4s - loss: 0.9275 - val_loss: 1.2724 - 4s/epoch - 50ms/step\n",
            "Epoch 4/500\n",
            "72/72 - 3s - loss: 0.9257 - val_loss: 1.2978 - 3s/epoch - 35ms/step\n",
            "Epoch 5/500\n",
            "72/72 - 2s - loss: 0.9170 - val_loss: 1.1930 - 2s/epoch - 34ms/step\n",
            "Epoch 6/500\n",
            "72/72 - 2s - loss: 0.9194 - val_loss: 1.2002 - 2s/epoch - 34ms/step\n",
            "Epoch 7/500\n",
            "72/72 - 3s - loss: 0.9144 - val_loss: 1.2584 - 3s/epoch - 43ms/step\n",
            "Epoch 8/500\n",
            "72/72 - 3s - loss: 0.9118 - val_loss: 1.2557 - 3s/epoch - 45ms/step\n",
            "Epoch 9/500\n",
            "72/72 - 2s - loss: 0.9178 - val_loss: 1.2810 - 2s/epoch - 34ms/step\n",
            "Epoch 10/500\n",
            "72/72 - 2s - loss: 0.9138 - val_loss: 1.3908 - 2s/epoch - 34ms/step\n",
            "Epoch 11/500\n",
            "72/72 - 2s - loss: 0.9039 - val_loss: 1.5161 - 2s/epoch - 34ms/step\n",
            "Epoch 12/500\n",
            "72/72 - 3s - loss: 0.9100 - val_loss: 1.3927 - 3s/epoch - 48ms/step\n",
            "Epoch 13/500\n",
            "72/72 - 3s - loss: 0.9061 - val_loss: 1.5818 - 3s/epoch - 40ms/step\n",
            "Epoch 14/500\n",
            "72/72 - 2s - loss: 0.9039 - val_loss: 1.5504 - 2s/epoch - 34ms/step\n",
            "Epoch 15/500\n",
            "72/72 - 2s - loss: 0.9050 - val_loss: 1.6301 - 2s/epoch - 34ms/step\n",
            "Epoch 16/500\n",
            "72/72 - 2s - loss: 0.9056 - val_loss: 1.4176 - 2s/epoch - 33ms/step\n",
            "Epoch 17/500\n",
            "72/72 - 4s - loss: 0.9030 - val_loss: 1.4139 - 4s/epoch - 52ms/step\n",
            "Epoch 18/500\n",
            "72/72 - 3s - loss: 0.8931 - val_loss: 1.3787 - 3s/epoch - 36ms/step\n",
            "Epoch 19/500\n",
            "72/72 - 2s - loss: 0.8985 - val_loss: 1.2789 - 2s/epoch - 34ms/step\n",
            "Epoch 20/500\n",
            "72/72 - 2s - loss: 0.8984 - val_loss: 1.5239 - 2s/epoch - 34ms/step\n",
            "Epoch 21/500\n",
            "72/72 - 2s - loss: 0.8961 - val_loss: 1.3239 - 2s/epoch - 35ms/step\n",
            "Epoch 22/500\n",
            "72/72 - 4s - loss: 0.8960 - val_loss: 1.5381 - 4s/epoch - 54ms/step\n",
            "Epoch 23/500\n",
            "72/72 - 2s - loss: 0.8956 - val_loss: 1.3480 - 2s/epoch - 34ms/step\n",
            "Epoch 24/500\n",
            "72/72 - 2s - loss: 0.8917 - val_loss: 1.5517 - 2s/epoch - 34ms/step\n",
            "Epoch 25/500\n",
            "72/72 - 2s - loss: 0.9002 - val_loss: 1.3613 - 2s/epoch - 34ms/step\n",
            "Epoch 26/500\n",
            "72/72 - 3s - loss: 0.8917 - val_loss: 1.4236 - 3s/epoch - 36ms/step\n",
            "Epoch 27/500\n",
            "72/72 - 4s - loss: 0.8920 - val_loss: 1.3695 - 4s/epoch - 52ms/step\n",
            "Epoch 28/500\n",
            "72/72 - 2s - loss: 0.8872 - val_loss: 1.4435 - 2s/epoch - 35ms/step\n",
            "Epoch 29/500\n",
            "72/72 - 2s - loss: 0.8923 - val_loss: 1.3903 - 2s/epoch - 34ms/step\n",
            "Epoch 30/500\n",
            "72/72 - 2s - loss: 0.8846 - val_loss: 1.4144 - 2s/epoch - 34ms/step\n",
            "Epoch 31/500\n",
            "72/72 - 3s - loss: 0.8867 - val_loss: 1.5298 - 3s/epoch - 41ms/step\n",
            "Epoch 32/500\n",
            "72/72 - 3s - loss: 0.8886 - val_loss: 1.4238 - 3s/epoch - 47ms/step\n",
            "Epoch 33/500\n",
            "72/72 - 2s - loss: 0.8897 - val_loss: 1.4347 - 2s/epoch - 33ms/step\n",
            "Epoch 34/500\n",
            "72/72 - 2s - loss: 0.8933 - val_loss: 1.6074 - 2s/epoch - 34ms/step\n",
            "Epoch 35/500\n",
            "72/72 - 2s - loss: 0.8943 - val_loss: 1.4311 - 2s/epoch - 34ms/step\n",
            "Epoch 36/500\n",
            "72/72 - 3s - loss: 0.9125 - val_loss: 1.2005 - 3s/epoch - 46ms/step\n",
            "Epoch 37/500\n",
            "72/72 - 3s - loss: 0.8912 - val_loss: 1.4030 - 3s/epoch - 42ms/step\n",
            "Epoch 38/500\n",
            "72/72 - 3s - loss: 1.1212 - val_loss: 1.4284 - 3s/epoch - 35ms/step\n",
            "Epoch 39/500\n",
            "72/72 - 2s - loss: 0.9459 - val_loss: 1.3047 - 2s/epoch - 34ms/step\n",
            "Epoch 40/500\n",
            "72/72 - 2s - loss: 0.9277 - val_loss: 1.3729 - 2s/epoch - 34ms/step\n",
            "Epoch 41/500\n",
            "72/72 - 4s - loss: 0.9095 - val_loss: 1.5369 - 4s/epoch - 50ms/step\n",
            "Epoch 42/500\n",
            "72/72 - 3s - loss: 0.8990 - val_loss: 1.5500 - 3s/epoch - 37ms/step\n",
            "Epoch 43/500\n",
            "72/72 - 2s - loss: 0.8928 - val_loss: 1.8685 - 2s/epoch - 34ms/step\n",
            "Epoch 44/500\n",
            "72/72 - 2s - loss: 0.8980 - val_loss: 1.8134 - 2s/epoch - 34ms/step\n",
            "Epoch 45/500\n",
            "72/72 - 2s - loss: 0.8981 - val_loss: 1.7466 - 2s/epoch - 34ms/step\n",
            "Epoch 46/500\n",
            "72/72 - 4s - loss: 0.8858 - val_loss: 2.7488 - 4s/epoch - 54ms/step\n",
            "Epoch 47/500\n",
            "72/72 - 2s - loss: 0.8882 - val_loss: 3.1942 - 2s/epoch - 33ms/step\n",
            "Epoch 48/500\n",
            "72/72 - 2s - loss: 0.9009 - val_loss: 3.3350 - 2s/epoch - 34ms/step\n",
            "Epoch 49/500\n",
            "72/72 - 2s - loss: 0.9061 - val_loss: 2.0284 - 2s/epoch - 34ms/step\n",
            "Epoch 50/500\n",
            "72/72 - 2s - loss: 0.9005 - val_loss: 2.1247 - 2s/epoch - 34ms/step\n",
            "Epoch 51/500\n",
            "72/72 - 4s - loss: 0.8959 - val_loss: 2.4945 - 4s/epoch - 54ms/step\n",
            "Epoch 52/500\n",
            "72/72 - 2s - loss: 0.8997 - val_loss: 2.2155 - 2s/epoch - 34ms/step\n",
            "Epoch 53/500\n",
            "72/72 - 2s - loss: 0.9239 - val_loss: 1.3557 - 2s/epoch - 33ms/step\n",
            "Epoch 54/500\n",
            "72/72 - 2s - loss: 0.9287 - val_loss: 1.2723 - 2s/epoch - 33ms/step\n",
            "Epoch 55/500\n",
            "72/72 - 3s - loss: 0.9166 - val_loss: 1.3892 - 3s/epoch - 36ms/step\n",
            "Epoch 56/500\n",
            "72/72 - 4s - loss: 0.9121 - val_loss: 1.3355 - 4s/epoch - 51ms/step\n",
            "Epoch 57/500\n",
            "72/72 - 2s - loss: 0.9121 - val_loss: 1.4405 - 2s/epoch - 34ms/step\n",
            "Epoch 58/500\n",
            "72/72 - 2s - loss: 0.9219 - val_loss: 1.5654 - 2s/epoch - 34ms/step\n",
            "Epoch 59/500\n",
            "72/72 - 2s - loss: 0.9187 - val_loss: 1.2494 - 2s/epoch - 34ms/step\n",
            "Epoch 60/500\n",
            "72/72 - 3s - loss: 0.9204 - val_loss: 1.3232 - 3s/epoch - 40ms/step\n",
            "Epoch 61/500\n",
            "72/72 - 3s - loss: 0.9107 - val_loss: 1.3163 - 3s/epoch - 48ms/step\n",
            "Epoch 62/500\n",
            "72/72 - 2s - loss: 0.9221 - val_loss: 1.1151 - 2s/epoch - 33ms/step\n",
            "Epoch 63/500\n",
            "72/72 - 2s - loss: 0.9294 - val_loss: 1.3213 - 2s/epoch - 34ms/step\n",
            "Epoch 64/500\n",
            "72/72 - 2s - loss: 0.9314 - val_loss: 1.1435 - 2s/epoch - 34ms/step\n",
            "Epoch 65/500\n",
            "72/72 - 3s - loss: 0.9216 - val_loss: 1.3340 - 3s/epoch - 44ms/step\n",
            "Epoch 66/500\n",
            "72/72 - 3s - loss: 0.9138 - val_loss: 1.3961 - 3s/epoch - 44ms/step\n",
            "Epoch 67/500\n",
            "72/72 - 2s - loss: 0.9099 - val_loss: 1.6034 - 2s/epoch - 33ms/step\n",
            "Epoch 68/500\n",
            "72/72 - 2s - loss: 0.9216 - val_loss: 1.4148 - 2s/epoch - 34ms/step\n",
            "Epoch 69/500\n",
            "72/72 - 2s - loss: 0.9093 - val_loss: 1.4855 - 2s/epoch - 34ms/step\n",
            "Epoch 70/500\n",
            "72/72 - 3s - loss: 0.9015 - val_loss: 1.4574 - 3s/epoch - 47ms/step\n",
            "Epoch 71/500\n",
            "72/72 - 3s - loss: 0.8994 - val_loss: 1.8258 - 3s/epoch - 41ms/step\n",
            "Epoch 72/500\n",
            "72/72 - 2s - loss: 0.9071 - val_loss: 1.6907 - 2s/epoch - 33ms/step\n",
            "Epoch 73/500\n",
            "72/72 - 2s - loss: 0.9038 - val_loss: 1.7757 - 2s/epoch - 33ms/step\n",
            "Epoch 74/500\n",
            "72/72 - 2s - loss: 0.8853 - val_loss: 1.7370 - 2s/epoch - 33ms/step\n",
            "Epoch 75/500\n",
            "72/72 - 4s - loss: 0.9102 - val_loss: 1.5101 - 4s/epoch - 50ms/step\n",
            "Epoch 76/500\n",
            "72/72 - 3s - loss: 0.9033 - val_loss: 1.8971 - 3s/epoch - 37ms/step\n",
            "Epoch 77/500\n",
            "72/72 - 2s - loss: 0.9013 - val_loss: 1.5704 - 2s/epoch - 33ms/step\n",
            "Epoch 78/500\n",
            "72/72 - 2s - loss: 0.8968 - val_loss: 1.6155 - 2s/epoch - 34ms/step\n",
            "Epoch 79/500\n",
            "72/72 - 2s - loss: 0.8932 - val_loss: 1.6656 - 2s/epoch - 34ms/step\n",
            "Epoch 80/500\n",
            "72/72 - 4s - loss: 0.9138 - val_loss: 1.1563 - 4s/epoch - 55ms/step\n",
            "Epoch 81/500\n",
            "72/72 - 2s - loss: 0.9127 - val_loss: 1.4029 - 2s/epoch - 33ms/step\n",
            "Epoch 82/500\n",
            "72/72 - 2s - loss: 0.9084 - val_loss: 1.5260 - 2s/epoch - 33ms/step\n",
            "Epoch 83/500\n",
            "72/72 - 2s - loss: 0.9088 - val_loss: 1.7237 - 2s/epoch - 33ms/step\n",
            "Epoch 84/500\n",
            "72/72 - 2s - loss: 0.9084 - val_loss: 2.1821 - 2s/epoch - 34ms/step\n",
            "Epoch 85/500\n",
            "72/72 - 4s - loss: 0.9146 - val_loss: 2.2679 - 4s/epoch - 54ms/step\n",
            "Epoch 86/500\n",
            "72/72 - 2s - loss: 0.9120 - val_loss: 2.3394 - 2s/epoch - 33ms/step\n",
            "Epoch 87/500\n",
            "72/72 - 2s - loss: 0.9175 - val_loss: 2.5639 - 2s/epoch - 33ms/step\n",
            "Epoch 88/500\n",
            "72/72 - 2s - loss: 0.9126 - val_loss: 2.6258 - 2s/epoch - 34ms/step\n",
            "Epoch 89/500\n",
            "72/72 - 2s - loss: 0.9100 - val_loss: 2.7280 - 2s/epoch - 34ms/step\n",
            "Epoch 90/500\n",
            "72/72 - 4s - loss: 0.9068 - val_loss: 2.7563 - 4s/epoch - 54ms/step\n",
            "Epoch 91/500\n",
            "72/72 - 2s - loss: 0.9069 - val_loss: 2.2920 - 2s/epoch - 34ms/step\n",
            "Epoch 92/500\n",
            "72/72 - 2s - loss: 0.9118 - val_loss: 2.3356 - 2s/epoch - 34ms/step\n",
            "Epoch 93/500\n",
            "72/72 - 2s - loss: 0.9016 - val_loss: 2.0311 - 2s/epoch - 33ms/step\n",
            "Epoch 94/500\n",
            "72/72 - 3s - loss: 0.9042 - val_loss: 2.4697 - 3s/epoch - 37ms/step\n",
            "Epoch 95/500\n",
            "72/72 - 4s - loss: 0.9002 - val_loss: 2.5958 - 4s/epoch - 50ms/step\n",
            "Epoch 96/500\n",
            "72/72 - 2s - loss: 0.9024 - val_loss: 2.6393 - 2s/epoch - 34ms/step\n",
            "Epoch 97/500\n",
            "72/72 - 2s - loss: 0.9072 - val_loss: 2.6269 - 2s/epoch - 34ms/step\n",
            "Epoch 98/500\n",
            "72/72 - 2s - loss: 0.9033 - val_loss: 2.6312 - 2s/epoch - 33ms/step\n",
            "Epoch 99/500\n",
            "72/72 - 3s - loss: 0.9074 - val_loss: 1.7553 - 3s/epoch - 41ms/step\n",
            "Epoch 100/500\n",
            "72/72 - 3s - loss: 0.9205 - val_loss: 1.9976 - 3s/epoch - 46ms/step\n",
            "Epoch 101/500\n",
            "72/72 - 2s - loss: 0.9149 - val_loss: 2.2851 - 2s/epoch - 34ms/step\n"
          ]
        }
      ],
      "source": [
        "best_model = load_model(PATH + 'best_model_tunner.hdf5')\n",
        "best_model.build(x_train.shape);\n",
        "best_model.summary();\n",
        "\n",
        "earlystopping = EarlyStopping(monitor='val_loss', patience=100, restore_best_weights=True, )\n",
        "\n",
        "#Define um checkpoint para a melhor época\n",
        "checkpoint_path = PATH + 'best_model_earlyStop.hdf5'\n",
        "checkpoint = ModelCheckpoint(filepath=checkpoint_path,\n",
        "                             monitor='val_loss',\n",
        "                             verbose=0,\n",
        "                             save_best_only=True,\n",
        "                             mode='min')\n",
        "callbacks = [checkpoint, earlystopping]\n",
        "#Train the best model\n",
        "history = best_model.fit(x_train, y_train, epochs=500, batch_size=32, validation_data=(x_val, y_val), verbose=2,\n",
        "                              callbacks=callbacks)\n"
      ]
    },
    {
      "cell_type": "markdown",
      "metadata": {
        "id": "syHwkGQShuzN"
      },
      "source": [
        "## Resultados do Treino e da Validação"
      ]
    },
    {
      "cell_type": "code",
      "execution_count": null,
      "metadata": {
        "colab": {
          "base_uri": "https://localhost:8080/",
          "height": 487
        },
        "id": "X461lzlrEIkp",
        "outputId": "5c6b7bc2-d995-4cc6-de79-2c94900d9ffd"
      },
      "outputs": [
        {
          "data": {
            "image/png": "[encoded data removed]",
            "text/plain": [
              "<Figure size 1500x500 with 2 Axes>"
            ]
          },
          "metadata": {},
          "output_type": "display_data"
        }
      ],
      "source": [
        "fig, (ax1, ax2) = plt.subplots(1, 2, figsize=(15, 5))\n",
        "\n",
        "# ax1.plot(history.history['r_square'])\n",
        "# ax1.plot(history.history['val_r_square'])\n",
        "# ax1.set_title('Model r_square')\n",
        "# ax1.set_ylabel('r_square')\n",
        "# ax1.set_xlabel('Epoch')\n",
        "# ax1.legend(['Train', 'Validation'], loc='upper left')\n",
        "\n",
        "\n",
        "ax2.plot(history.history['loss'])\n",
        "ax2.plot(history.history['val_loss'])\n",
        "ax2.set_title('Model Loss = Mean Squared Error')\n",
        "ax2.set_ylabel('Loss')\n",
        "ax2.set_xlabel('Epoch')\n",
        "ax2.legend(['Train', 'Validation'], loc='upper left')\n",
        "plt.show()\n",
        "\n"
      ]
    },
    {
      "cell_type": "code",
      "execution_count": null,
      "metadata": {
        "id": "RNJpYfAq820L"
      },
      "outputs": [],
      "source": [
        "checkpoint_path = PATH + 'best_model_earlyStop.hdf5'\n",
        "loaded_model = load_model(checkpoint_path)"
      ]
    },
    {
      "cell_type": "code",
      "execution_count": null,
      "metadata": {
        "colab": {
          "base_uri": "https://localhost:8080/"
        },
        "id": "NrX-PI3bhaQ8",
        "outputId": "9dfa08dd-e763-4d58-8611-8d17571587d9"
      },
      "outputs": [
        {
          "name": "stdout",
          "output_type": "stream",
          "text": [
            "72/72 [==============================] - 1s 13ms/step\n",
            "11/11 [==============================] - 0s 13ms/step\n",
            "21/21 [==============================] - 0s 13ms/step\n",
            "----- Métricas de Classificação -----\n",
            "------------- Train -------------\n",
            "Métricas por classe:\n",
            "Precisão: [0.         0.60542432 0.        ]\n",
            "Recall: [0. 1. 0.]\n",
            "F1-Score: [0.         0.75422343 0.        ]\n",
            "AUC Médio: [0.5 0.5 0.5]\n",
            "\n",
            "Média das métricas:\n",
            "Acurácia: 0.605424321959755\n",
            "Precisão: 0.605424321959755\n",
            "Recall: 0.605424321959755\n",
            "F1-Score: 0.605424321959755\n",
            "AUC Médio: 0.7040682414698163\n",
            "\n",
            "----------- Validation ----------\n",
            "Métricas por classe:\n",
            "Precisão: [0.         0.54907975 0.        ]\n",
            "Recall: [0. 1. 0.]\n",
            "F1-Score: [0.         0.70891089 0.        ]\n",
            "AUC Médio: [0.5 0.5 0.5]\n",
            "\n",
            "Média das métricas:\n",
            "Acurácia: 0.549079754601227\n",
            "Precisão: 0.549079754601227\n",
            "Recall: 0.549079754601227\n",
            "F1-Score: 0.549079754601227\n",
            "AUC Médio: 0.6618098159509204\n",
            "\n",
            "------------- Test -------------\n",
            "Métricas por classe:\n",
            "Precisão: [0.         0.71712538 0.        ]\n",
            "Recall: [0. 1. 0.]\n",
            "F1-Score: [0.         0.83526269 0.        ]\n",
            "AUC Médio: [0.5 0.5 0.5]\n",
            "\n",
            "Média das métricas:\n",
            "Acurácia: 0.7171253822629969\n",
            "Precisão: 0.7171253822629969\n",
            "Recall: 0.7171253822629969\n",
            "F1-Score: 0.7171253822629969\n",
            "AUC Médio: 0.7878440366972478\n",
            "\n"
          ]
        },
        {
          "name": "stderr",
          "output_type": "stream",
          "text": [
            "/usr/local/lib/python3.10/dist-packages/sklearn/metrics/_classification.py:1344: UndefinedMetricWarning: Precision is ill-defined and being set to 0.0 in labels with no predicted samples. Use `zero_division` parameter to control this behavior.\n",
            "  _warn_prf(average, modifier, msg_start, len(result))\n",
            "/usr/local/lib/python3.10/dist-packages/sklearn/metrics/_classification.py:1344: UndefinedMetricWarning: Precision is ill-defined and being set to 0.0 in labels with no predicted samples. Use `zero_division` parameter to control this behavior.\n",
            "  _warn_prf(average, modifier, msg_start, len(result))\n",
            "/usr/local/lib/python3.10/dist-packages/sklearn/metrics/_classification.py:1344: UndefinedMetricWarning: Precision is ill-defined and being set to 0.0 in labels with no predicted samples. Use `zero_division` parameter to control this behavior.\n",
            "  _warn_prf(average, modifier, msg_start, len(result))\n"
          ]
        }
      ],
      "source": [
        "from sklearn.metrics import accuracy_score, precision_score, recall_score, f1_score, roc_auc_score\n",
        "from sklearn.preprocessing import LabelBinarizer\n",
        "\n",
        "y_train_predict = loaded_model.predict(x_train)\n",
        "y_train_predict_class = np.argmax(y_train_predict, axis=1)\n",
        "lb = LabelBinarizer()\n",
        "y_train_class_bin = lb.fit_transform(y_train)\n",
        "y_train_class_predict_bin = lb.transform(y_train_predict_class)\n",
        "\n",
        "y_val_predict = loaded_model.predict(x_val)\n",
        "y_val_predict_class = np.argmax(y_val_predict, axis=1)\n",
        "lb = LabelBinarizer()\n",
        "y_val_class_bin = lb.fit_transform(y_val)\n",
        "y_val_class_predict_bin = lb.transform(y_val_predict_class)\n",
        "\n",
        "y_test_predict = loaded_model.predict(x_test)\n",
        "y_test_predict_class = np.argmax(y_test_predict, axis=1)\n",
        "lb = LabelBinarizer()\n",
        "y_test_class_bin = lb.fit_transform(y_test)\n",
        "y_test_class_predict_bin = lb.transform(y_test_predict_class)\n",
        "\n",
        "def printResults(expected, result, expected_bin, result_bin):\n",
        "  accuracy = accuracy_score(expected, result)\n",
        "  precision = precision_score(expected, result, average=None)\n",
        "  recall = recall_score(expected, result, average=None)\n",
        "  f1 = f1_score(expected, result, average=None)\n",
        "  auc = roc_auc_score(expected_bin, result_bin, average=None)\n",
        "  average_precision = precision_score(expected, result, average='micro')\n",
        "  average_recall = recall_score(expected, result, average='micro')\n",
        "  average_f1 = f1_score(expected, result, average='micro')\n",
        "  average_auc = roc_auc_score(expected_bin, result_bin, average='micro')\n",
        "  print(\"Métricas por classe:\")\n",
        "  print(\"Precisão:\", precision)\n",
        "  print(\"Recall:\", recall)\n",
        "  print(\"F1-Score:\", f1)\n",
        "  print(\"AUC Médio:\", auc)\n",
        "  print()\n",
        "  print(\"Média das métricas:\")\n",
        "  print(\"Acurácia:\", accuracy)\n",
        "  print(\"Precisão:\", average_precision)\n",
        "  print(\"Recall:\", average_recall)\n",
        "  print(\"F1-Score:\", average_f1)\n",
        "  print(\"AUC Médio:\", average_auc)\n",
        "  print()\n",
        "\n",
        "print('----- Métricas de Classificação -----')\n",
        "print('------------- Train -------------')\n",
        "printResults(y_train, y_train_predict_class, y_train_class_bin, y_train_class_predict_bin)\n",
        "print('----------- Validation ----------')\n",
        "printResults(y_val, y_val_predict_class, y_val_class_bin, y_val_class_predict_bin)\n",
        "print('------------- Test -------------')\n",
        "printResults(y_test, y_test_predict_class, y_test_class_bin, y_test_class_predict_bin)\n",
        "# val_accuracy = accuracy_score(np.argmax(y_val, axis=1), y_val_predict_class)\n",
        "\n",
        "# # Precisão, Recall e F-Score (para cada classe)\n",
        "# precision = precision_score(np.argmax(y_val, axis=1), y_val_predict_class, average=None)\n",
        "# recall = recall_score(np.argmax(y_val, axis=1), y_val_predict_class, average=None)\n",
        "# f1 = f1_score(np.argmax(y_val, axis=1), y_val_predict_class, average=None)\n",
        "\n"
      ]
    },
    {
      "cell_type": "code",
      "execution_count": null,
      "metadata": {
        "colab": {
          "base_uri": "https://localhost:8080/"
        },
        "id": "KaLYmE4qBkYd",
        "outputId": "c70a8b26-5e1b-4b58-aaf9-abb7c30fe7ce"
      },
      "outputs": [
        {
          "name": "stdout",
          "output_type": "stream",
          "text": [
            "Métricas por classe:\n",
            "Precisão: [0.         0.71712538 0.        ]\n",
            "Recall: [0. 1. 0.]\n",
            "F1-Score: [0.         0.83526269 0.        ]\n",
            "AUC Médio: [0.5 0.5 0.5]\n",
            "\n",
            "Média das métricas:\n",
            "Acurácia: 0.7171253822629969\n",
            "Precisão: 0.7171253822629969\n",
            "Recall: 0.7171253822629969\n",
            "F1-Score: 0.7171253822629969\n",
            "AUC Médio: 0.7878440366972478\n",
            "\n"
          ]
        },
        {
          "name": "stderr",
          "output_type": "stream",
          "text": [
            "/usr/local/lib/python3.10/dist-packages/sklearn/metrics/_classification.py:1344: UndefinedMetricWarning: Precision is ill-defined and being set to 0.0 in labels with no predicted samples. Use `zero_division` parameter to control this behavior.\n",
            "  _warn_prf(average, modifier, msg_start, len(result))\n"
          ]
        }
      ],
      "source": [
        "\n",
        "# Transforme as classes reais e previstas em rótulos binários\n",
        "lb = LabelBinarizer()\n",
        "y_test_bin = lb.fit_transform(y_test)\n",
        "y_test_predict_bin = lb.transform(y_test_predict_class)\n",
        "\n",
        "accuracy = accuracy_score(y_test, y_test_predict_class)\n",
        "# Precisão, Recall e F1-Score (para cada classe)\n",
        "precision = precision_score(y_test, y_test_predict_class, average=None)\n",
        "recall = recall_score(y_test, y_test_predict_class, average=None)\n",
        "f1 = f1_score(y_test, y_test_predict_class, average=None)\n",
        "auc = roc_auc_score(y_test_bin, y_test_predict_bin, average=None)\n",
        "\n",
        "average_precision = precision_score(y_test, y_test_predict_class, average='micro')\n",
        "average_recall = recall_score(y_test, y_test_predict_class, average='micro')\n",
        "average_f1 = f1_score(y_test, y_test_predict_class, average='micro')\n",
        "average_auc = roc_auc_score(y_test_bin, y_test_predict_bin, average='micro')\n",
        "\n",
        "# Calcule o AUC médio para todas as classes\n",
        "\n",
        "print(\"Métricas por classe:\")\n",
        "print(\"Precisão:\", precision)\n",
        "print(\"Recall:\", recall)\n",
        "print(\"F1-Score:\", f1)\n",
        "print(\"AUC Médio:\", auc)\n",
        "print()\n",
        "print(\"Média das métricas:\")\n",
        "print(\"Acurácia:\", accuracy)\n",
        "print(\"Precisão:\", average_precision)\n",
        "print(\"Recall:\", average_recall)\n",
        "print(\"F1-Score:\", average_f1)\n",
        "print(\"AUC Médio:\", average_auc)\n",
        "print()"
      ]
    },
    {
      "cell_type": "code",
      "execution_count": null,
      "metadata": {
        "colab": {
          "base_uri": "https://localhost:8080/",
          "height": 564
        },
        "id": "rEgTZK6fBhfR",
        "outputId": "55903554-d722-4650-8e93-ab61e7ea45e2"
      },
      "outputs": [
        {
          "data": {
            "image/png": "[encoded data removed]",
            "text/plain": [
              "<Figure size 800x600 with 1 Axes>"
            ]
          },
          "metadata": {},
          "output_type": "display_data"
        }
      ],
      "source": [
        "from sklearn.metrics import roc_curve, auc\n",
        "import matplotlib.pyplot as plt\n",
        "\n",
        "def plotROC(y_true, y_score, class_names):\n",
        "    n_classes = len(class_names)\n",
        "\n",
        "    # Inicialize a figura do gráfico\n",
        "    plt.figure(figsize=(8, 6))\n",
        "\n",
        "    # Defina as cores para as curvas ROC\n",
        "    colors = ['b', 'g', 'r', 'c', 'm', 'y', 'k']\n",
        "\n",
        "    # Plote as curvas ROC para cada classe\n",
        "    for i in range(n_classes):\n",
        "        fpr, tpr, _ = roc_curve(y_true[:, i], y_score[:, i])\n",
        "        roc_auc = auc(fpr, tpr)\n",
        "        plt.plot(fpr, tpr, color=colors[i], lw=2, label=f'Class {class_names[i]} (AUC = {roc_auc:.2f})')\n",
        "\n",
        "    # Plot the random chance line\n",
        "    plt.plot([0, 1], [0, 1], 'k--', lw=2, label='Random Chance')\n",
        "\n",
        "    # Customize the plot\n",
        "    plt.xlim([0.0, 1.0])\n",
        "    plt.ylim([0.0, 1.05])\n",
        "    plt.xlabel('False Positive Rate')\n",
        "    plt.ylabel('True Positive Rate')\n",
        "    plt.title('ROC Curves for Multiclass Classification')\n",
        "    plt.legend(loc='lower right')\n",
        "    plt.show()\n",
        "\n",
        "# Supondo que y_test_class_bin e y_test_class_predict_bin são matrizes com as probabilidades das classes\n",
        "class_names = [0, 1, 2]  # Nomes das classes ou rótulos\n",
        "plotROC(y_test_class_bin, y_test_class_predict_bin, class_names)\n"
      ]
    },
    {
      "cell_type": "code",
      "execution_count": null,
      "metadata": {
        "id": "Pa0Re1Pl-4T5"
      },
      "outputs": [],
      "source": [
        "# def build_multilayer_lstm_model(hp):\n",
        "#   model = keras.Sequential()\n",
        "#   model.add(LSTM(\n",
        "#       units=hp.Int('num_lstm_units', min_value=16, max_value=128, step=16),\n",
        "#       return_sequences=True,\n",
        "#       input_shape = (x_train.shape[1], x_train.shape[2]),\n",
        "#       # activation = 'softmax'\n",
        "#       ))\n",
        "#   model.add(Dropout(hp.Float('dropout_rate', min_value=0.2, max_value=0.4)))\n",
        "#   model.add(LSTM(\n",
        "#       units=hp.Int('num_lstm_units', min_value=16, max_value=128, step=16),\n",
        "#       input_shape = (x_train.shape[1], x_train.shape[2]),\n",
        "#       # activation = 'softmax'\n",
        "#       ))\n",
        "#   Dense(hp.Choice('units_dense', [16, 32, 64]), hp.Choice('activation', ['tanh'])),\n",
        "#   model.add(Dropout(hp.Float('dropout_rate', min_value=0.2, max_value=0.4)))\n",
        "#   model.add(Dense(units=3, activation='softmax'))"
      ]
    }
  ],
  "metadata": {
    "colab": {
      "provenance": [],
      "toc_visible": true
    },
    "kernelspec": {
      "display_name": "Python 3",
      "name": "python3"
    },
    "language_info": {
      "name": "python"
    }
  },
  "nbformat": 4,
  "nbformat_minor": 0
}
