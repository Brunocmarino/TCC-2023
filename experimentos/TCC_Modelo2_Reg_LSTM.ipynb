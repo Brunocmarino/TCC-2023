{
  "nbformat": 4,
  "nbformat_minor": 0,
  "metadata": {
    "colab": {
      "provenance": [],
      "authorship_tag": "ABX9TyOxltvSC4HLb+In8cOWiKAY"
    },
    "kernelspec": {
      "name": "python3",
      "display_name": "Python 3"
    },
    "language_info": {
      "name": "python"
    }
  },
  "cells": [
    {
      "cell_type": "code",
      "source": [
        "#pip install tensorflow"
      ],
      "metadata": {
        "id": "tv8hksk9EiSD"
      },
      "execution_count": 18,
      "outputs": []
    },
    {
      "cell_type": "markdown",
      "source": [
        "Nesse projeto uso LSTM para descobrir qual é o preço de fechamento do bitcoin. Uso 5 features relativas ao candle de negociação diária e prevejo o preço de fechamento do dia seguinte\n",
        "\n"
      ],
      "metadata": {
        "id": "vRUz8KL04LTY"
      }
    },
    {
      "cell_type": "code",
      "execution_count": 19,
      "metadata": {
        "id": "i8nnpjk8Vo2p"
      },
      "outputs": [],
      "source": [
        "# Importar as bibliotecas necessárias\n",
        "import os\n",
        "import pandas as pd\n",
        "import numpy as np\n",
        "import math\n",
        "import datetime\n",
        "import time\n",
        "\n",
        "# Importar sklearn para avaliar o modelo\n",
        "from sklearn.metrics import mean_squared_error, mean_absolute_error, explained_variance_score, r2_score\n",
        "from sklearn.metrics import mean_poisson_deviance, mean_gamma_deviance, accuracy_score\n",
        "from sklearn.preprocessing  import MinMaxScaler\n",
        "from sklearn.model_selection import train_test_split\n",
        "from sklearn.linear_model import LinearRegression\n",
        "from sklearn.metrics import confusion_matrix\n",
        "\n",
        "\n",
        "# Importar tensorflow para construir o modelo\n",
        "import tensorflow as tf\n",
        "import keras\n",
        "from keras import optimizers\n",
        "from keras.models import Sequential, Model\n",
        "from keras.layers import *\n",
        "from keras.callbacks import ModelCheckpoint, History, EarlyStopping\n",
        "from keras.losses import MeanSquaredError\n",
        "from keras.metrics import RootMeanSquaredError\n",
        "from keras.optimizers import Adam\n",
        "\n",
        "# Importar bibliotecas para plotar gráficos\n",
        "\n",
        "import matplotlib.pyplot as plt\n",
        "from itertools import cycle\n",
        "import plotly.graph_objects as go\n",
        "import plotly.express as px\n",
        "from plotly.subplots import make_subplots\n",
        "\n"
      ]
    },
    {
      "cell_type": "markdown",
      "source": [
        "## Variaveis Globais"
      ],
      "metadata": {
        "id": "N_nI01hq-LBl"
      }
    },
    {
      "cell_type": "code",
      "source": [
        "TIME_STEP = 15\n",
        "JUMP_STEP = 1\n",
        "NUM_FEATURES = 5\n",
        "# usando apenas o Close\n"
      ],
      "metadata": {
        "id": "2zbng1cT-UhW"
      },
      "execution_count": 20,
      "outputs": []
    },
    {
      "cell_type": "markdown",
      "source": [
        "## Importar a Base de Dados"
      ],
      "metadata": {
        "id": "syo9xluyeRry"
      }
    },
    {
      "cell_type": "code",
      "source": [
        "ticker = 'BTC-USD'\n",
        "#1410825600\n",
        "initial_period = int(time.mktime(datetime.datetime(2014, 9, 16, 0, 0).timetuple()))\n",
        "\n",
        "#1675814400\n",
        "final_period = int(time.mktime(datetime.datetime(2023, 2, 8, 0, 0).timetuple()))\n",
        "# 3067 valores. 2300 é 75%\n",
        "interval = '1d' # 1d, 1wk, 1m\n",
        "\n",
        "query_string = f'https://query1.finance.yahoo.com/v7/finance/download/{ticker}?period1={initial_period}&period2={final_period}&interval={interval}&events=history&includeAdjustedClose=true'\n",
        "\n",
        "data = pd.read_csv(query_string)\n",
        "df = pd.DataFrame(data, columns=['Date', 'Open', 'High', 'Low', 'Close', 'Volume'])\n",
        "df.index = pd.to_datetime(df['Date'], format='%Y-%m-%d')\n"
      ],
      "metadata": {
        "id": "Dmlyft24aP-0"
      },
      "execution_count": 21,
      "outputs": []
    },
    {
      "cell_type": "markdown",
      "source": [
        "Função para escolher os dados utilizados de forma sequencial. A cada t valores\n"
      ],
      "metadata": {
        "id": "XL9rvrxc--7_"
      }
    },
    {
      "cell_type": "code",
      "source": [
        "def selecionaValores(df, jump_step):\n",
        "  return df[0::jump_step]\n",
        "\n",
        "df = selecionaValores(df, JUMP_STEP)"
      ],
      "metadata": {
        "id": "Q_vBUR_C_PA1"
      },
      "execution_count": 22,
      "outputs": []
    },
    {
      "cell_type": "markdown",
      "source": [
        "Preparação dos Dados:"
      ],
      "metadata": {
        "id": "7ntbbIvr59kR"
      }
    },
    {
      "cell_type": "code",
      "source": [
        "# Retira a Data e coloca como Index\n",
        "df.index = df.pop('Date')\n",
        "\n",
        "# Adição da coluna de variação\n",
        "df['TargetChange'] = df.Close.shift(-1) - df['Close']\n",
        "# Adição da coluna de variação percentual\n",
        "df['TargetVariation'] = (df['TargetChange'] / df['Close'])*100\n",
        "# Adição da coluna de classificação\n",
        "# Adição da coluna de Valor Final\n",
        "df['TargetClose'] = df['Close'].shift(-1)\n",
        "\n",
        "# df.pop('TargetVariation')\n",
        "# df.pop('TargetClass')\n",
        "# df.pop('TargetClose')\n",
        "data.dropna(inplace=True)\n",
        "data.reset_index(inplace = True)\n"
      ],
      "metadata": {
        "id": "1eGnvTzf6Czd"
      },
      "execution_count": 23,
      "outputs": []
    },
    {
      "cell_type": "code",
      "source": [
        "df.head()"
      ],
      "metadata": {
        "id": "MFJDEReCl6zL",
        "colab": {
          "base_uri": "https://localhost:8080/",
          "height": 237
        },
        "outputId": "fdda93be-529c-4f45-a47d-64c784dc6d1f"
      },
      "execution_count": 24,
      "outputs": [
        {
          "output_type": "execute_result",
          "data": {
            "text/plain": [
              "                  Open        High         Low       Close    Volume  \\\n",
              "Date                                                                   \n",
              "2014-09-17  465.864014  468.174011  452.421997  457.334015  21056800   \n",
              "2014-09-18  456.859985  456.859985  413.104004  424.440002  34483200   \n",
              "2014-09-19  424.102997  427.834991  384.532013  394.795990  37919700   \n",
              "2014-09-20  394.673004  423.295990  389.882996  408.903992  36863600   \n",
              "2014-09-21  408.084991  412.425995  393.181000  398.821014  26580100   \n",
              "\n",
              "            TargetChange  TargetVariation  TargetClose  \n",
              "Date                                                    \n",
              "2014-09-17    -32.894013        -7.192558   424.440002  \n",
              "2014-09-18    -29.644012        -6.984264   394.795990  \n",
              "2014-09-19     14.108002         3.573492   408.903992  \n",
              "2014-09-20    -10.082978        -2.465855   398.821014  \n",
              "2014-09-21      3.330994         0.835210   402.152008  "
            ],
            "text/html": [
              "\n",
              "  <div id=\"df-a84a8f69-e51d-43b1-9f55-d2349510b429\">\n",
              "    <div class=\"colab-df-container\">\n",
              "      <div>\n",
              "<style scoped>\n",
              "    .dataframe tbody tr th:only-of-type {\n",
              "        vertical-align: middle;\n",
              "    }\n",
              "\n",
              "    .dataframe tbody tr th {\n",
              "        vertical-align: top;\n",
              "    }\n",
              "\n",
              "    .dataframe thead th {\n",
              "        text-align: right;\n",
              "    }\n",
              "</style>\n",
              "<table border=\"1\" class=\"dataframe\">\n",
              "  <thead>\n",
              "    <tr style=\"text-align: right;\">\n",
              "      <th></th>\n",
              "      <th>Open</th>\n",
              "      <th>High</th>\n",
              "      <th>Low</th>\n",
              "      <th>Close</th>\n",
              "      <th>Volume</th>\n",
              "      <th>TargetChange</th>\n",
              "      <th>TargetVariation</th>\n",
              "      <th>TargetClose</th>\n",
              "    </tr>\n",
              "    <tr>\n",
              "      <th>Date</th>\n",
              "      <th></th>\n",
              "      <th></th>\n",
              "      <th></th>\n",
              "      <th></th>\n",
              "      <th></th>\n",
              "      <th></th>\n",
              "      <th></th>\n",
              "      <th></th>\n",
              "    </tr>\n",
              "  </thead>\n",
              "  <tbody>\n",
              "    <tr>\n",
              "      <th>2014-09-17</th>\n",
              "      <td>465.864014</td>\n",
              "      <td>468.174011</td>\n",
              "      <td>452.421997</td>\n",
              "      <td>457.334015</td>\n",
              "      <td>21056800</td>\n",
              "      <td>-32.894013</td>\n",
              "      <td>-7.192558</td>\n",
              "      <td>424.440002</td>\n",
              "    </tr>\n",
              "    <tr>\n",
              "      <th>2014-09-18</th>\n",
              "      <td>456.859985</td>\n",
              "      <td>456.859985</td>\n",
              "      <td>413.104004</td>\n",
              "      <td>424.440002</td>\n",
              "      <td>34483200</td>\n",
              "      <td>-29.644012</td>\n",
              "      <td>-6.984264</td>\n",
              "      <td>394.795990</td>\n",
              "    </tr>\n",
              "    <tr>\n",
              "      <th>2014-09-19</th>\n",
              "      <td>424.102997</td>\n",
              "      <td>427.834991</td>\n",
              "      <td>384.532013</td>\n",
              "      <td>394.795990</td>\n",
              "      <td>37919700</td>\n",
              "      <td>14.108002</td>\n",
              "      <td>3.573492</td>\n",
              "      <td>408.903992</td>\n",
              "    </tr>\n",
              "    <tr>\n",
              "      <th>2014-09-20</th>\n",
              "      <td>394.673004</td>\n",
              "      <td>423.295990</td>\n",
              "      <td>389.882996</td>\n",
              "      <td>408.903992</td>\n",
              "      <td>36863600</td>\n",
              "      <td>-10.082978</td>\n",
              "      <td>-2.465855</td>\n",
              "      <td>398.821014</td>\n",
              "    </tr>\n",
              "    <tr>\n",
              "      <th>2014-09-21</th>\n",
              "      <td>408.084991</td>\n",
              "      <td>412.425995</td>\n",
              "      <td>393.181000</td>\n",
              "      <td>398.821014</td>\n",
              "      <td>26580100</td>\n",
              "      <td>3.330994</td>\n",
              "      <td>0.835210</td>\n",
              "      <td>402.152008</td>\n",
              "    </tr>\n",
              "  </tbody>\n",
              "</table>\n",
              "</div>\n",
              "      <button class=\"colab-df-convert\" onclick=\"convertToInteractive('df-a84a8f69-e51d-43b1-9f55-d2349510b429')\"\n",
              "              title=\"Convert this dataframe to an interactive table.\"\n",
              "              style=\"display:none;\">\n",
              "        \n",
              "  <svg xmlns=\"http://www.w3.org/2000/svg\" height=\"24px\"viewBox=\"0 0 24 24\"\n",
              "       width=\"24px\">\n",
              "    <path d=\"M0 0h24v24H0V0z\" fill=\"none\"/>\n",
              "    <path d=\"M18.56 5.44l.94 2.06.94-2.06 2.06-.94-2.06-.94-.94-2.06-.94 2.06-2.06.94zm-11 1L8.5 8.5l.94-2.06 2.06-.94-2.06-.94L8.5 2.5l-.94 2.06-2.06.94zm10 10l.94 2.06.94-2.06 2.06-.94-2.06-.94-.94-2.06-.94 2.06-2.06.94z\"/><path d=\"M17.41 7.96l-1.37-1.37c-.4-.4-.92-.59-1.43-.59-.52 0-1.04.2-1.43.59L10.3 9.45l-7.72 7.72c-.78.78-.78 2.05 0 2.83L4 21.41c.39.39.9.59 1.41.59.51 0 1.02-.2 1.41-.59l7.78-7.78 2.81-2.81c.8-.78.8-2.07 0-2.86zM5.41 20L4 18.59l7.72-7.72 1.47 1.35L5.41 20z\"/>\n",
              "  </svg>\n",
              "      </button>\n",
              "      \n",
              "  <style>\n",
              "    .colab-df-container {\n",
              "      display:flex;\n",
              "      flex-wrap:wrap;\n",
              "      gap: 12px;\n",
              "    }\n",
              "\n",
              "    .colab-df-convert {\n",
              "      background-color: #E8F0FE;\n",
              "      border: none;\n",
              "      border-radius: 50%;\n",
              "      cursor: pointer;\n",
              "      display: none;\n",
              "      fill: #1967D2;\n",
              "      height: 32px;\n",
              "      padding: 0 0 0 0;\n",
              "      width: 32px;\n",
              "    }\n",
              "\n",
              "    .colab-df-convert:hover {\n",
              "      background-color: #E2EBFA;\n",
              "      box-shadow: 0px 1px 2px rgba(60, 64, 67, 0.3), 0px 1px 3px 1px rgba(60, 64, 67, 0.15);\n",
              "      fill: #174EA6;\n",
              "    }\n",
              "\n",
              "    [theme=dark] .colab-df-convert {\n",
              "      background-color: #3B4455;\n",
              "      fill: #D2E3FC;\n",
              "    }\n",
              "\n",
              "    [theme=dark] .colab-df-convert:hover {\n",
              "      background-color: #434B5C;\n",
              "      box-shadow: 0px 1px 3px 1px rgba(0, 0, 0, 0.15);\n",
              "      filter: drop-shadow(0px 1px 2px rgba(0, 0, 0, 0.3));\n",
              "      fill: #FFFFFF;\n",
              "    }\n",
              "  </style>\n",
              "\n",
              "      <script>\n",
              "        const buttonEl =\n",
              "          document.querySelector('#df-a84a8f69-e51d-43b1-9f55-d2349510b429 button.colab-df-convert');\n",
              "        buttonEl.style.display =\n",
              "          google.colab.kernel.accessAllowed ? 'block' : 'none';\n",
              "\n",
              "        async function convertToInteractive(key) {\n",
              "          const element = document.querySelector('#df-a84a8f69-e51d-43b1-9f55-d2349510b429');\n",
              "          const dataTable =\n",
              "            await google.colab.kernel.invokeFunction('convertToInteractive',\n",
              "                                                     [key], {});\n",
              "          if (!dataTable) return;\n",
              "\n",
              "          const docLinkHtml = 'Like what you see? Visit the ' +\n",
              "            '<a target=\"_blank\" href=https://colab.research.google.com/notebooks/data_table.ipynb>data table notebook</a>'\n",
              "            + ' to learn more about interactive tables.';\n",
              "          element.innerHTML = '';\n",
              "          dataTable['output_type'] = 'display_data';\n",
              "          await google.colab.output.renderOutput(dataTable, element);\n",
              "          const docLink = document.createElement('div');\n",
              "          docLink.innerHTML = docLinkHtml;\n",
              "          element.appendChild(docLink);\n",
              "        }\n",
              "      </script>\n",
              "    </div>\n",
              "  </div>\n",
              "  "
            ]
          },
          "metadata": {},
          "execution_count": 24
        }
      ]
    },
    {
      "cell_type": "code",
      "source": [
        "#plt.plot(df.index, df['Close'])"
      ],
      "metadata": {
        "id": "kYaFYGojLbfG"
      },
      "execution_count": 25,
      "outputs": []
    },
    {
      "cell_type": "code",
      "source": [
        "# Separa as Features do Valor Final\n",
        "# Separa X de Y e Retira a última linha\n",
        "#df.pop('Open')\n",
        "#df.pop('High')\n",
        "#df.pop('Low')\n",
        "#df.pop('Volume')\n",
        "\n",
        "#y_array = np.array(df.TargetVariation)[:-1].copy()\n",
        "df.pop('TargetChange')\n",
        "#df.pop('TargetVariation')\n",
        "df.pop('TargetClose')\n",
        "x_array = np.array(df)[:-1].copy()\n"
      ],
      "metadata": {
        "id": "iSj1CwbZsIpg"
      },
      "execution_count": 26,
      "outputs": []
    },
    {
      "cell_type": "code",
      "source": [
        "# Divisão entre 70% treino, 10% validação e 20% teste\n",
        "size = len(df-1) - TIME_STEP\n",
        "train_size = int(size * 0.7)\n",
        "validation_size = int(size * 0.1)\n",
        "test_size = size - train_size - validation_size\n",
        "\n",
        "train_data = x_array[: train_size]\n",
        "val_data = x_array[train_size : (train_size + validation_size)]\n",
        "test_data = x_array[(train_size + validation_size) :]\n"
      ],
      "metadata": {
        "id": "cN1vXbqXzgjh"
      },
      "execution_count": 27,
      "outputs": []
    },
    {
      "cell_type": "code",
      "source": [
        "#Transforma os dados para suavizar as variações em escala absoluta\n",
        "# Transform input data\n",
        "scaler_train_input = MinMaxScaler(feature_range=(0, 1))\n",
        "scaled_train_input = scaler_train_input.fit_transform(train_data[:,:-1])\n",
        "\n",
        "scaler_val_input = MinMaxScaler(feature_range=(0, 1))\n",
        "scaled_val_input = scaler_val_input.fit_transform(val_data[:,:-1])\n",
        "\n",
        "scaler_test_input = MinMaxScaler(feature_range=(0, 1))\n",
        "scaled_test_input = scaler_test_input.fit_transform(test_data[:,:-1])\n",
        "\n",
        "# Transform output data\n",
        "scaler_train_output = MinMaxScaler(feature_range=(0, 1))\n",
        "scaled_train_output = scaler_train_output.fit_transform(train_data[:,-1].reshape(-1, 1))\n",
        "\n",
        "scaler_val_output = MinMaxScaler(feature_range=(0, 1))\n",
        "scaled_val_output = scaler_val_output.fit_transform(val_data[:,-1].reshape(-1, 1))\n",
        "\n",
        "scaler_test_output = MinMaxScaler(feature_range=(0, 1))\n",
        "scaled_test_output = scaler_test_output.fit_transform(test_data[:,-1].reshape(-1, 1))"
      ],
      "metadata": {
        "id": "0cj30FewVA38"
      },
      "execution_count": 28,
      "outputs": []
    },
    {
      "cell_type": "code",
      "source": [
        "def createDataset(x, y, time_step=1):\n",
        "  input = []\n",
        "  output = []\n",
        "  for i in range(len(x) - time_step):\n",
        "    row = [e for e in x[i : i + time_step]]\n",
        "    input.append(row)\n",
        "    output.append(y[i])\n",
        "  return np.array(input), np.array(output)\n",
        "\n",
        "x_train, y_train = createDataset(scaled_train_input, scaled_train_output, TIME_STEP)\n",
        "x_val, y_val = createDataset(scaled_val_input, scaled_val_output, TIME_STEP)\n",
        "x_test, y_test = createDataset(scaled_test_input, scaled_test_output, TIME_STEP)\n",
        "\n",
        "print(df.shape)\n",
        "print(x_train.shape, y_train.shape)\n",
        "print(x_val.shape, y_val.shape)\n",
        "print(x_test.shape, y_test.shape)"
      ],
      "metadata": {
        "colab": {
          "base_uri": "https://localhost:8080/"
        },
        "id": "hkOFLEGQ6E6Z",
        "outputId": "4c35efa3-fe40-4d5b-99d3-cdabf5d42fb9"
      },
      "execution_count": 29,
      "outputs": [
        {
          "output_type": "stream",
          "name": "stdout",
          "text": [
            "(3067, 6)\n",
            "(2121, 15, 5) (2121, 1)\n",
            "(290, 15, 5) (290, 1)\n",
            "(610, 15, 5) (610, 1)\n"
          ]
        }
      ]
    },
    {
      "cell_type": "markdown",
      "source": [
        "## Preparar os dados para Treino e Teste\n",
        "\n"
      ],
      "metadata": {
        "id": "SHj7ga8Hji3C"
      }
    },
    {
      "cell_type": "markdown",
      "source": [
        "## Construção do Modelo LSTM"
      ],
      "metadata": {
        "id": "5FjYMbeLgA7H"
      }
    },
    {
      "cell_type": "markdown",
      "source": [
        "### Modelo: LSTM\n",
        "\n"
      ],
      "metadata": {
        "id": "DJ54UplFDQZG"
      }
    },
    {
      "cell_type": "code",
      "source": [
        "#create the sequence model\n",
        "model = Sequential()\n",
        "\n",
        "model.add(LSTM(units = 128, activation = 'relu',return_sequences=True, input_shape = (x_train.shape[1], x_train.shape[2])))\n",
        "model.add(Dropout(0.2))\n",
        "model.add(LSTM(units = 64, input_shape = (x_train.shape[1], x_train.shape[2])))\n",
        "#model.add(LSTM(units = 64, return_sequences = True, input_shape = (x_train.shape[1], x_train.shape[2])))\n",
        "model.add(Dropout(0.2))\n",
        "\n",
        "# model.add(LSTM(units = 64, return_sequences = True, input_shape = (x_train.shape[1], x_train.shape[2])))\n",
        "# model.add(Dropout(0.2))\n",
        "\n",
        "# model.add(LSTM(units = 64, input_shape = (x_train.shape[1], x_train.shape[2])))\n",
        "# model.add(Dropout(0.2))\n",
        "\n",
        "model.add(Dense(units=1))\n",
        "model.summary()"
      ],
      "metadata": {
        "id": "76_OIh_iSBVr",
        "colab": {
          "base_uri": "https://localhost:8080/"
        },
        "outputId": "552b14b0-374a-45a8-ef2d-2306df70c332"
      },
      "execution_count": 30,
      "outputs": [
        {
          "output_type": "stream",
          "name": "stdout",
          "text": [
            "Model: \"sequential_1\"\n",
            "_________________________________________________________________\n",
            " Layer (type)                Output Shape              Param #   \n",
            "=================================================================\n",
            " lstm_2 (LSTM)               (None, 15, 128)           68608     \n",
            "                                                                 \n",
            " dropout_2 (Dropout)         (None, 15, 128)           0         \n",
            "                                                                 \n",
            " lstm_3 (LSTM)               (None, 64)                49408     \n",
            "                                                                 \n",
            " dropout_3 (Dropout)         (None, 64)                0         \n",
            "                                                                 \n",
            " dense_1 (Dense)             (None, 1)                 65        \n",
            "                                                                 \n",
            "=================================================================\n",
            "Total params: 118,081\n",
            "Trainable params: 118,081\n",
            "Non-trainable params: 0\n",
            "_________________________________________________________________\n"
          ]
        }
      ]
    },
    {
      "cell_type": "code",
      "source": [
        "model.compile(optimizer = 'adam', loss = 'mean_squared_error')\n",
        "checkpoint_path = 'checkpoint_tccModelo2.hdf5'\n",
        "checkpoint = ModelCheckpoint(filepath=checkpoint_path,\n",
        "                             monitor='val_loss',\n",
        "                             verbose=1,\n",
        "                             save_best_only=True,\n",
        "                             mode='min')\n",
        "earlystopping = EarlyStopping(monitor='val_loss', patience=10, restore_best_weights=True)\n",
        "callbacks = [checkpoint, earlystopping]\n",
        "# callbacks = [checkpoint]\n",
        "\n",
        "history = model.fit(x_train, y_train, batch_size = 32, epochs = 100, verbose=1, shuffle=False, validation_data=(x_val, y_val), callbacks=callbacks)\n",
        "\n",
        "\n"
      ],
      "metadata": {
        "id": "HP32S8oOc-5O",
        "colab": {
          "base_uri": "https://localhost:8080/"
        },
        "outputId": "06488061-93ed-4e23-c361-b449931a219a"
      },
      "execution_count": 32,
      "outputs": [
        {
          "output_type": "stream",
          "name": "stdout",
          "text": [
            "Epoch 1/100\n",
            "65/67 [============================>.] - ETA: 0s - loss: 0.0062\n",
            "Epoch 1: val_loss improved from inf to 0.03478, saving model to checkpoint_tccModelo2.hdf5\n",
            "67/67 [==============================] - 7s 49ms/step - loss: 0.0062 - val_loss: 0.0348\n",
            "Epoch 2/100\n",
            "67/67 [==============================] - ETA: 0s - loss: 0.0056\n",
            "Epoch 2: val_loss did not improve from 0.03478\n",
            "67/67 [==============================] - 2s 32ms/step - loss: 0.0056 - val_loss: 0.0432\n",
            "Epoch 3/100\n",
            "66/67 [============================>.] - ETA: 0s - loss: 0.0065\n",
            "Epoch 3: val_loss did not improve from 0.03478\n",
            "67/67 [==============================] - 4s 55ms/step - loss: 0.0065 - val_loss: 0.0539\n",
            "Epoch 4/100\n",
            "67/67 [==============================] - ETA: 0s - loss: 0.0059\n",
            "Epoch 4: val_loss did not improve from 0.03478\n",
            "67/67 [==============================] - 2s 32ms/step - loss: 0.0059 - val_loss: 0.0382\n",
            "Epoch 5/100\n",
            "67/67 [==============================] - ETA: 0s - loss: 0.0054\n",
            "Epoch 5: val_loss did not improve from 0.03478\n",
            "67/67 [==============================] - 3s 52ms/step - loss: 0.0054 - val_loss: 0.0426\n",
            "Epoch 6/100\n",
            "65/67 [============================>.] - ETA: 0s - loss: 0.0054\n",
            "Epoch 6: val_loss improved from 0.03478 to 0.03418, saving model to checkpoint_tccModelo2.hdf5\n",
            "67/67 [==============================] - 2s 32ms/step - loss: 0.0054 - val_loss: 0.0342\n",
            "Epoch 7/100\n",
            "65/67 [============================>.] - ETA: 0s - loss: 0.0054\n",
            "Epoch 7: val_loss improved from 0.03418 to 0.03291, saving model to checkpoint_tccModelo2.hdf5\n",
            "67/67 [==============================] - 2s 33ms/step - loss: 0.0053 - val_loss: 0.0329\n",
            "Epoch 8/100\n",
            "67/67 [==============================] - ETA: 0s - loss: 0.0052\n",
            "Epoch 8: val_loss did not improve from 0.03291\n",
            "67/67 [==============================] - 2s 32ms/step - loss: 0.0052 - val_loss: 0.0374\n",
            "Epoch 9/100\n",
            "65/67 [============================>.] - ETA: 0s - loss: 0.0052\n",
            "Epoch 9: val_loss did not improve from 0.03291\n",
            "67/67 [==============================] - 2s 32ms/step - loss: 0.0052 - val_loss: 0.0341\n",
            "Epoch 10/100\n",
            "66/67 [============================>.] - ETA: 0s - loss: 0.0050\n",
            "Epoch 10: val_loss did not improve from 0.03291\n",
            "67/67 [==============================] - 3s 48ms/step - loss: 0.0050 - val_loss: 0.0357\n",
            "Epoch 11/100\n",
            "66/67 [============================>.] - ETA: 0s - loss: 0.0050\n",
            "Epoch 11: val_loss did not improve from 0.03291\n",
            "67/67 [==============================] - 2s 36ms/step - loss: 0.0050 - val_loss: 0.0369\n",
            "Epoch 12/100\n",
            "67/67 [==============================] - ETA: 0s - loss: 0.0051\n",
            "Epoch 12: val_loss did not improve from 0.03291\n",
            "67/67 [==============================] - 2s 32ms/step - loss: 0.0051 - val_loss: 0.0331\n",
            "Epoch 13/100\n",
            "65/67 [============================>.] - ETA: 0s - loss: 0.0050\n",
            "Epoch 13: val_loss did not improve from 0.03291\n",
            "67/67 [==============================] - 2s 32ms/step - loss: 0.0050 - val_loss: 0.0359\n",
            "Epoch 14/100\n",
            "65/67 [============================>.] - ETA: 0s - loss: 0.0051\n",
            "Epoch 14: val_loss did not improve from 0.03291\n",
            "67/67 [==============================] - 2s 32ms/step - loss: 0.0050 - val_loss: 0.0346\n",
            "Epoch 15/100\n",
            "66/67 [============================>.] - ETA: 0s - loss: 0.0048\n",
            "Epoch 15: val_loss did not improve from 0.03291\n",
            "67/67 [==============================] - 2s 37ms/step - loss: 0.0048 - val_loss: 0.0335\n",
            "Epoch 16/100\n",
            "66/67 [============================>.] - ETA: 0s - loss: 0.0047\n",
            "Epoch 16: val_loss improved from 0.03291 to 0.03174, saving model to checkpoint_tccModelo2.hdf5\n",
            "67/67 [==============================] - 3s 46ms/step - loss: 0.0047 - val_loss: 0.0317\n",
            "Epoch 17/100\n",
            "67/67 [==============================] - ETA: 0s - loss: 0.0049\n",
            "Epoch 17: val_loss improved from 0.03174 to 0.02838, saving model to checkpoint_tccModelo2.hdf5\n",
            "67/67 [==============================] - 2s 32ms/step - loss: 0.0049 - val_loss: 0.0284\n",
            "Epoch 18/100\n",
            "67/67 [==============================] - ETA: 0s - loss: 0.0047\n",
            "Epoch 18: val_loss did not improve from 0.02838\n",
            "67/67 [==============================] - 2s 32ms/step - loss: 0.0047 - val_loss: 0.0298\n",
            "Epoch 19/100\n",
            "67/67 [==============================] - ETA: 0s - loss: 0.0047\n",
            "Epoch 19: val_loss improved from 0.02838 to 0.02402, saving model to checkpoint_tccModelo2.hdf5\n",
            "67/67 [==============================] - 2s 32ms/step - loss: 0.0047 - val_loss: 0.0240\n",
            "Epoch 20/100\n",
            "65/67 [============================>.] - ETA: 0s - loss: 0.0047\n",
            "Epoch 20: val_loss did not improve from 0.02402\n",
            "67/67 [==============================] - 2s 32ms/step - loss: 0.0047 - val_loss: 0.0272\n",
            "Epoch 21/100\n",
            "66/67 [============================>.] - ETA: 0s - loss: 0.0047\n",
            "Epoch 21: val_loss did not improve from 0.02402\n",
            "67/67 [==============================] - 3s 51ms/step - loss: 0.0047 - val_loss: 0.0243\n",
            "Epoch 22/100\n",
            "67/67 [==============================] - ETA: 0s - loss: 0.0047\n",
            "Epoch 22: val_loss did not improve from 0.02402\n",
            "67/67 [==============================] - 2s 33ms/step - loss: 0.0047 - val_loss: 0.0247\n",
            "Epoch 23/100\n",
            "66/67 [============================>.] - ETA: 0s - loss: 0.0045\n",
            "Epoch 23: val_loss improved from 0.02402 to 0.02268, saving model to checkpoint_tccModelo2.hdf5\n",
            "67/67 [==============================] - 3s 42ms/step - loss: 0.0045 - val_loss: 0.0227\n",
            "Epoch 24/100\n",
            "66/67 [============================>.] - ETA: 0s - loss: 0.0047\n",
            "Epoch 24: val_loss improved from 0.02268 to 0.02199, saving model to checkpoint_tccModelo2.hdf5\n",
            "67/67 [==============================] - 3s 42ms/step - loss: 0.0047 - val_loss: 0.0220\n",
            "Epoch 25/100\n",
            "67/67 [==============================] - ETA: 0s - loss: 0.0047\n",
            "Epoch 25: val_loss improved from 0.02199 to 0.02124, saving model to checkpoint_tccModelo2.hdf5\n",
            "67/67 [==============================] - 2s 35ms/step - loss: 0.0047 - val_loss: 0.0212\n",
            "Epoch 26/100\n",
            "67/67 [==============================] - ETA: 0s - loss: 0.0046\n",
            "Epoch 26: val_loss did not improve from 0.02124\n",
            "67/67 [==============================] - 3s 49ms/step - loss: 0.0046 - val_loss: 0.0240\n",
            "Epoch 27/100\n",
            "67/67 [==============================] - ETA: 0s - loss: 0.0044\n",
            "Epoch 27: val_loss did not improve from 0.02124\n",
            "67/67 [==============================] - 2s 33ms/step - loss: 0.0044 - val_loss: 0.0261\n",
            "Epoch 28/100\n",
            "67/67 [==============================] - ETA: 0s - loss: 0.0045\n",
            "Epoch 28: val_loss did not improve from 0.02124\n",
            "67/67 [==============================] - 2s 32ms/step - loss: 0.0045 - val_loss: 0.0229\n",
            "Epoch 29/100\n",
            "65/67 [============================>.] - ETA: 0s - loss: 0.0046\n",
            "Epoch 29: val_loss did not improve from 0.02124\n",
            "67/67 [==============================] - 2s 32ms/step - loss: 0.0045 - val_loss: 0.0258\n",
            "Epoch 30/100\n",
            "67/67 [==============================] - ETA: 0s - loss: 0.0045\n",
            "Epoch 30: val_loss did not improve from 0.02124\n",
            "67/67 [==============================] - 2s 32ms/step - loss: 0.0045 - val_loss: 0.0289\n",
            "Epoch 31/100\n",
            "66/67 [============================>.] - ETA: 0s - loss: 0.0044\n",
            "Epoch 31: val_loss did not improve from 0.02124\n",
            "67/67 [==============================] - 3s 52ms/step - loss: 0.0044 - val_loss: 0.0291\n",
            "Epoch 32/100\n",
            "67/67 [==============================] - ETA: 0s - loss: 0.0046\n",
            "Epoch 32: val_loss did not improve from 0.02124\n",
            "67/67 [==============================] - 2s 32ms/step - loss: 0.0046 - val_loss: 0.0347\n",
            "Epoch 33/100\n",
            "65/67 [============================>.] - ETA: 0s - loss: 0.0046\n",
            "Epoch 33: val_loss did not improve from 0.02124\n",
            "67/67 [==============================] - 2s 32ms/step - loss: 0.0046 - val_loss: 0.0327\n",
            "Epoch 34/100\n",
            "67/67 [==============================] - ETA: 0s - loss: 0.0044\n",
            "Epoch 34: val_loss did not improve from 0.02124\n",
            "67/67 [==============================] - 2s 33ms/step - loss: 0.0044 - val_loss: 0.0383\n",
            "Epoch 35/100\n",
            "67/67 [==============================] - ETA: 0s - loss: 0.0044\n",
            "Epoch 35: val_loss did not improve from 0.02124\n",
            "67/67 [==============================] - 2s 32ms/step - loss: 0.0044 - val_loss: 0.0364\n"
          ]
        }
      ]
    },
    {
      "cell_type": "markdown",
      "source": [
        "## Previsões"
      ],
      "metadata": {
        "id": "EFWMq8xTHkOH"
      }
    },
    {
      "cell_type": "code",
      "source": [
        "from tensorflow.keras.models import load_model\n",
        "\n",
        "model_from_saved_checkpoint = load_model(checkpoint_path)"
      ],
      "metadata": {
        "id": "104uha0bk_QX"
      },
      "execution_count": null,
      "outputs": []
    },
    {
      "cell_type": "code",
      "source": [
        "loss = history.history['loss']\n",
        "val_loss = history.history['val_loss']\n",
        "epochs = range(len(loss))\n",
        "\n",
        "plt.plot(epochs, loss, 'r', label='Training loss')\n",
        "plt.plot(epochs, val_loss, 'b', label='Validation loss')\n",
        "plt.title('Training and validation loss')\n",
        "plt.legend(loc=0)\n",
        "plt.figure()\n",
        "\n",
        "\n",
        "plt.show()"
      ],
      "metadata": {
        "id": "x0Cumz7bHhzt"
      },
      "execution_count": null,
      "outputs": []
    },
    {
      "cell_type": "code",
      "source": [
        "test_predict = model_from_saved_checkpoint.predict(x_test)\n",
        "\n",
        "test_predict = scaler_test_output.inverse_transform(test_predict.reshape(-1, 1))\n",
        "\n",
        "test_actual = scaler_test_output.inverse_transform(y_test.reshape(-1, 1))\n",
        "plt.figure(figsize=(16,7))\n",
        "\n",
        "plt.plot(test_predict, 'r', marker='.', label='Predicted Test', linewidth=0)\n",
        "\n",
        "plt.plot(test_actual, marker='.', label='Actual Test',linewidth=0)\n",
        "\n",
        "plt.legend()\n",
        "plt.show()"
      ],
      "metadata": {
        "id": "WZuC2Z_2X84J",
        "collapsed": true
      },
      "execution_count": null,
      "outputs": []
    },
    {
      "cell_type": "markdown",
      "source": [
        "Plotar o Gráfico"
      ],
      "metadata": {
        "id": "BlOdoJmVYwYB"
      }
    }
  ]
}