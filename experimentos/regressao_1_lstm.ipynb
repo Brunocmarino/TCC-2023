{
  "nbformat": 4,
  "nbformat_minor": 0,
  "metadata": {
    "colab": {
      "provenance": []
    },
    "kernelspec": {
      "name": "python3",
      "display_name": "Python 3"
    },
    "language_info": {
      "name": "python"
    }
  },
  "cells": [
    {
      "cell_type": "code",
      "source": [
        "#pip install tensorflow"
      ],
      "metadata": {
        "id": "tv8hksk9EiSD"
      },
      "execution_count": 21,
      "outputs": []
    },
    {
      "cell_type": "markdown",
      "source": [
        "Nesse projeto uso LSTM para descobrir qual é o preço de fechamento do bitcoin. Uso 5 features relativas ao candle de negociação diária e prevejo o preço de fechamento do dia seguinte\n",
        "\n"
      ],
      "metadata": {
        "id": "vRUz8KL04LTY"
      }
    },
    {
      "cell_type": "code",
      "execution_count": 22,
      "metadata": {
        "id": "i8nnpjk8Vo2p"
      },
      "outputs": [],
      "source": [
        "# Importar as bibliotecas necessárias\n",
        "import os\n",
        "import pandas as pd\n",
        "import numpy as np\n",
        "import math\n",
        "import datetime\n",
        "import time\n",
        "\n",
        "# Importar sklearn para avaliar o modelo\n",
        "from sklearn.metrics import mean_squared_error, mean_absolute_error, explained_variance_score, r2_score\n",
        "from sklearn.metrics import mean_poisson_deviance, mean_gamma_deviance, accuracy_score\n",
        "from sklearn.preprocessing  import MinMaxScaler\n",
        "from sklearn.model_selection import train_test_split\n",
        "from sklearn.linear_model import LinearRegression\n",
        "from sklearn.metrics import confusion_matrix\n",
        "\n",
        "\n",
        "# Importar tensorflow para construir o modelo\n",
        "import tensorflow as tf\n",
        "import keras\n",
        "from keras import optimizers\n",
        "from keras.models import Sequential, Model\n",
        "from keras.layers import *\n",
        "from keras.callbacks import ModelCheckpoint, History, EarlyStopping\n",
        "from keras.losses import MeanSquaredError\n",
        "from keras.metrics import RootMeanSquaredError\n",
        "from keras.optimizers import Adam\n",
        "\n",
        "# Importar bibliotecas para plotar gráficos\n",
        "\n",
        "import matplotlib.pyplot as plt\n",
        "from itertools import cycle\n",
        "import plotly.graph_objects as go\n",
        "import plotly.express as px\n",
        "from plotly.subplots import make_subplots\n",
        "\n"
      ]
    },
    {
      "cell_type": "markdown",
      "source": [
        "## Variaveis Globais"
      ],
      "metadata": {
        "id": "N_nI01hq-LBl"
      }
    },
    {
      "cell_type": "code",
      "source": [
        "TIME_STEP = 30\n",
        "JUMP_STEP = 1\n",
        "NUM_FEATURES = 5\n",
        "# usando apenas o Close\n"
      ],
      "metadata": {
        "id": "2zbng1cT-UhW"
      },
      "execution_count": 23,
      "outputs": []
    },
    {
      "cell_type": "markdown",
      "source": [
        "## Importar a Base de Dados"
      ],
      "metadata": {
        "id": "syo9xluyeRry"
      }
    },
    {
      "cell_type": "code",
      "source": [
        "ticker = 'BTC-USD'\n",
        "#1410825600\n",
        "initial_period = int(time.mktime(datetime.datetime(2014, 9, 16, 0, 0).timetuple()))\n",
        "\n",
        "#1675814400\n",
        "final_period = int(time.mktime(datetime.datetime(2023, 2, 8, 0, 0).timetuple()))\n",
        "# 3067 valores. 2300 é 75%\n",
        "interval = '1d' # 1d, 1wk, 1m\n",
        "\n",
        "query_string = f'https://query1.finance.yahoo.com/v7/finance/download/{ticker}?period1={initial_period}&period2={final_period}&interval={interval}&events=history&includeAdjustedClose=true'\n",
        "\n",
        "data = pd.read_csv(query_string)\n",
        "df = pd.DataFrame(data, columns=['Date', 'Open', 'High', 'Low', 'Close', 'Volume'])\n",
        "df.index = pd.to_datetime(df['Date'], format='%Y-%m-%d')\n"
      ],
      "metadata": {
        "id": "Dmlyft24aP-0"
      },
      "execution_count": 24,
      "outputs": []
    },
    {
      "cell_type": "markdown",
      "source": [
        "Função para escolher os dados utilizados de forma sequencial. A cada t valores\n"
      ],
      "metadata": {
        "id": "XL9rvrxc--7_"
      }
    },
    {
      "cell_type": "code",
      "source": [
        "def selecionaValores(df, jump_step):\n",
        "  return df[0::jump_step]\n",
        "\n",
        "df = selecionaValores(df, JUMP_STEP)"
      ],
      "metadata": {
        "id": "Q_vBUR_C_PA1"
      },
      "execution_count": 25,
      "outputs": []
    },
    {
      "cell_type": "markdown",
      "source": [
        "Preparação dos Dados:"
      ],
      "metadata": {
        "id": "7ntbbIvr59kR"
      }
    },
    {
      "cell_type": "code",
      "source": [
        "# Retira a Data e coloca como Index\n",
        "df.index = df.pop('Date')\n",
        "\n",
        "# Adição da coluna de variação\n",
        "df['TargetChange'] = df.Close.shift(-1) - df['Close']\n",
        "# Adição da coluna de variação percentual\n",
        "df['TargetVariation'] = (df['TargetChange'] / df['Close'])*100\n",
        "# Adição da coluna de classificação\n",
        "# Adição da coluna de Valor Final\n",
        "df['TargetClose'] = df['Close'].shift(-1)\n",
        "\n",
        "# df.pop('TargetVariation')\n",
        "# df.pop('TargetClass')\n",
        "# df.pop('TargetClose')\n",
        "data.dropna(inplace=True)\n",
        "data.reset_index(inplace = True)\n"
      ],
      "metadata": {
        "id": "1eGnvTzf6Czd"
      },
      "execution_count": 26,
      "outputs": []
    },
    {
      "cell_type": "code",
      "source": [
        "len(df)"
      ],
      "metadata": {
        "colab": {
          "base_uri": "https://localhost:8080/"
        },
        "id": "3ylITZ7CJRB3",
        "outputId": "0c385605-4568-44bb-c40a-522225e4d60d"
      },
      "execution_count": 27,
      "outputs": [
        {
          "output_type": "execute_result",
          "data": {
            "text/plain": [
              "3067"
            ]
          },
          "metadata": {},
          "execution_count": 27
        }
      ]
    },
    {
      "cell_type": "code",
      "source": [
        "df.head(20)"
      ],
      "metadata": {
        "id": "MFJDEReCl6zL",
        "colab": {
          "base_uri": "https://localhost:8080/",
          "height": 708
        },
        "outputId": "12a5e670-7157-451b-928d-124db842428d"
      },
      "execution_count": 28,
      "outputs": [
        {
          "output_type": "execute_result",
          "data": {
            "text/plain": [
              "                  Open        High         Low       Close    Volume  \\\n",
              "Date                                                                   \n",
              "2014-09-17  465.864014  468.174011  452.421997  457.334015  21056800   \n",
              "2014-09-18  456.859985  456.859985  413.104004  424.440002  34483200   \n",
              "2014-09-19  424.102997  427.834991  384.532013  394.795990  37919700   \n",
              "2014-09-20  394.673004  423.295990  389.882996  408.903992  36863600   \n",
              "2014-09-21  408.084991  412.425995  393.181000  398.821014  26580100   \n",
              "2014-09-22  399.100006  406.915985  397.130005  402.152008  24127600   \n",
              "2014-09-23  402.092010  441.557007  396.196991  435.790985  45099500   \n",
              "2014-09-24  435.751007  436.112000  421.131989  423.204987  30627700   \n",
              "2014-09-25  423.156006  423.519989  409.467987  411.574005  26814400   \n",
              "2014-09-26  411.428986  414.937988  400.009003  404.424988  21460800   \n",
              "2014-09-27  403.556000  406.622986  397.372009  399.519989  15029300   \n",
              "2014-09-28  399.471008  401.016998  374.332001  377.181000  23613300   \n",
              "2014-09-29  376.928009  385.210999  372.239990  375.467010  32497700   \n",
              "2014-09-30  376.088013  390.976990  373.442993  386.944000  34707300   \n",
              "2014-10-01  387.427002  391.378998  380.779999  383.614990  26229400   \n",
              "2014-10-02  383.988007  385.497009  372.946014  375.071991  21777700   \n",
              "2014-10-03  375.181000  377.695007  357.859009  359.511993  30901200   \n",
              "2014-10-04  359.891998  364.487000  325.885986  328.865997  47236500   \n",
              "2014-10-05  328.915985  341.800995  289.295990  320.510010  83308096   \n",
              "2014-10-06  320.389008  345.134003  302.559998  330.079010  79011800   \n",
              "\n",
              "            TargetChange  TargetVariation  TargetClose  \n",
              "Date                                                    \n",
              "2014-09-17    -32.894013        -7.192558   424.440002  \n",
              "2014-09-18    -29.644012        -6.984264   394.795990  \n",
              "2014-09-19     14.108002         3.573492   408.903992  \n",
              "2014-09-20    -10.082978        -2.465855   398.821014  \n",
              "2014-09-21      3.330994         0.835210   402.152008  \n",
              "2014-09-22     33.638977         8.364742   435.790985  \n",
              "2014-09-23    -12.585998        -2.888081   423.204987  \n",
              "2014-09-24    -11.630982        -2.748309   411.574005  \n",
              "2014-09-25     -7.149017        -1.736994   404.424988  \n",
              "2014-09-26     -4.904999        -1.212833   399.519989  \n",
              "2014-09-27    -22.338989        -5.591457   377.181000  \n",
              "2014-09-28     -1.713990        -0.454421   375.467010  \n",
              "2014-09-29     11.476990         3.056724   386.944000  \n",
              "2014-09-30     -3.329010        -0.860334   383.614990  \n",
              "2014-10-01     -8.542999        -2.226972   375.071991  \n",
              "2014-10-02    -15.559998        -4.148536   359.511993  \n",
              "2014-10-03    -30.645996        -8.524332   328.865997  \n",
              "2014-10-04     -8.355987        -2.540849   320.510010  \n",
              "2014-10-05      9.569000         2.985554   330.079010  \n",
              "2014-10-06      6.108002         1.850467   336.187012  "
            ],
            "text/html": [
              "\n",
              "  <div id=\"df-f1d34395-7a20-499f-8800-dc23c8eef7f8\" class=\"colab-df-container\">\n",
              "    <div>\n",
              "<style scoped>\n",
              "    .dataframe tbody tr th:only-of-type {\n",
              "        vertical-align: middle;\n",
              "    }\n",
              "\n",
              "    .dataframe tbody tr th {\n",
              "        vertical-align: top;\n",
              "    }\n",
              "\n",
              "    .dataframe thead th {\n",
              "        text-align: right;\n",
              "    }\n",
              "</style>\n",
              "<table border=\"1\" class=\"dataframe\">\n",
              "  <thead>\n",
              "    <tr style=\"text-align: right;\">\n",
              "      <th></th>\n",
              "      <th>Open</th>\n",
              "      <th>High</th>\n",
              "      <th>Low</th>\n",
              "      <th>Close</th>\n",
              "      <th>Volume</th>\n",
              "      <th>TargetChange</th>\n",
              "      <th>TargetVariation</th>\n",
              "      <th>TargetClose</th>\n",
              "    </tr>\n",
              "    <tr>\n",
              "      <th>Date</th>\n",
              "      <th></th>\n",
              "      <th></th>\n",
              "      <th></th>\n",
              "      <th></th>\n",
              "      <th></th>\n",
              "      <th></th>\n",
              "      <th></th>\n",
              "      <th></th>\n",
              "    </tr>\n",
              "  </thead>\n",
              "  <tbody>\n",
              "    <tr>\n",
              "      <th>2014-09-17</th>\n",
              "      <td>465.864014</td>\n",
              "      <td>468.174011</td>\n",
              "      <td>452.421997</td>\n",
              "      <td>457.334015</td>\n",
              "      <td>21056800</td>\n",
              "      <td>-32.894013</td>\n",
              "      <td>-7.192558</td>\n",
              "      <td>424.440002</td>\n",
              "    </tr>\n",
              "    <tr>\n",
              "      <th>2014-09-18</th>\n",
              "      <td>456.859985</td>\n",
              "      <td>456.859985</td>\n",
              "      <td>413.104004</td>\n",
              "      <td>424.440002</td>\n",
              "      <td>34483200</td>\n",
              "      <td>-29.644012</td>\n",
              "      <td>-6.984264</td>\n",
              "      <td>394.795990</td>\n",
              "    </tr>\n",
              "    <tr>\n",
              "      <th>2014-09-19</th>\n",
              "      <td>424.102997</td>\n",
              "      <td>427.834991</td>\n",
              "      <td>384.532013</td>\n",
              "      <td>394.795990</td>\n",
              "      <td>37919700</td>\n",
              "      <td>14.108002</td>\n",
              "      <td>3.573492</td>\n",
              "      <td>408.903992</td>\n",
              "    </tr>\n",
              "    <tr>\n",
              "      <th>2014-09-20</th>\n",
              "      <td>394.673004</td>\n",
              "      <td>423.295990</td>\n",
              "      <td>389.882996</td>\n",
              "      <td>408.903992</td>\n",
              "      <td>36863600</td>\n",
              "      <td>-10.082978</td>\n",
              "      <td>-2.465855</td>\n",
              "      <td>398.821014</td>\n",
              "    </tr>\n",
              "    <tr>\n",
              "      <th>2014-09-21</th>\n",
              "      <td>408.084991</td>\n",
              "      <td>412.425995</td>\n",
              "      <td>393.181000</td>\n",
              "      <td>398.821014</td>\n",
              "      <td>26580100</td>\n",
              "      <td>3.330994</td>\n",
              "      <td>0.835210</td>\n",
              "      <td>402.152008</td>\n",
              "    </tr>\n",
              "    <tr>\n",
              "      <th>2014-09-22</th>\n",
              "      <td>399.100006</td>\n",
              "      <td>406.915985</td>\n",
              "      <td>397.130005</td>\n",
              "      <td>402.152008</td>\n",
              "      <td>24127600</td>\n",
              "      <td>33.638977</td>\n",
              "      <td>8.364742</td>\n",
              "      <td>435.790985</td>\n",
              "    </tr>\n",
              "    <tr>\n",
              "      <th>2014-09-23</th>\n",
              "      <td>402.092010</td>\n",
              "      <td>441.557007</td>\n",
              "      <td>396.196991</td>\n",
              "      <td>435.790985</td>\n",
              "      <td>45099500</td>\n",
              "      <td>-12.585998</td>\n",
              "      <td>-2.888081</td>\n",
              "      <td>423.204987</td>\n",
              "    </tr>\n",
              "    <tr>\n",
              "      <th>2014-09-24</th>\n",
              "      <td>435.751007</td>\n",
              "      <td>436.112000</td>\n",
              "      <td>421.131989</td>\n",
              "      <td>423.204987</td>\n",
              "      <td>30627700</td>\n",
              "      <td>-11.630982</td>\n",
              "      <td>-2.748309</td>\n",
              "      <td>411.574005</td>\n",
              "    </tr>\n",
              "    <tr>\n",
              "      <th>2014-09-25</th>\n",
              "      <td>423.156006</td>\n",
              "      <td>423.519989</td>\n",
              "      <td>409.467987</td>\n",
              "      <td>411.574005</td>\n",
              "      <td>26814400</td>\n",
              "      <td>-7.149017</td>\n",
              "      <td>-1.736994</td>\n",
              "      <td>404.424988</td>\n",
              "    </tr>\n",
              "    <tr>\n",
              "      <th>2014-09-26</th>\n",
              "      <td>411.428986</td>\n",
              "      <td>414.937988</td>\n",
              "      <td>400.009003</td>\n",
              "      <td>404.424988</td>\n",
              "      <td>21460800</td>\n",
              "      <td>-4.904999</td>\n",
              "      <td>-1.212833</td>\n",
              "      <td>399.519989</td>\n",
              "    </tr>\n",
              "    <tr>\n",
              "      <th>2014-09-27</th>\n",
              "      <td>403.556000</td>\n",
              "      <td>406.622986</td>\n",
              "      <td>397.372009</td>\n",
              "      <td>399.519989</td>\n",
              "      <td>15029300</td>\n",
              "      <td>-22.338989</td>\n",
              "      <td>-5.591457</td>\n",
              "      <td>377.181000</td>\n",
              "    </tr>\n",
              "    <tr>\n",
              "      <th>2014-09-28</th>\n",
              "      <td>399.471008</td>\n",
              "      <td>401.016998</td>\n",
              "      <td>374.332001</td>\n",
              "      <td>377.181000</td>\n",
              "      <td>23613300</td>\n",
              "      <td>-1.713990</td>\n",
              "      <td>-0.454421</td>\n",
              "      <td>375.467010</td>\n",
              "    </tr>\n",
              "    <tr>\n",
              "      <th>2014-09-29</th>\n",
              "      <td>376.928009</td>\n",
              "      <td>385.210999</td>\n",
              "      <td>372.239990</td>\n",
              "      <td>375.467010</td>\n",
              "      <td>32497700</td>\n",
              "      <td>11.476990</td>\n",
              "      <td>3.056724</td>\n",
              "      <td>386.944000</td>\n",
              "    </tr>\n",
              "    <tr>\n",
              "      <th>2014-09-30</th>\n",
              "      <td>376.088013</td>\n",
              "      <td>390.976990</td>\n",
              "      <td>373.442993</td>\n",
              "      <td>386.944000</td>\n",
              "      <td>34707300</td>\n",
              "      <td>-3.329010</td>\n",
              "      <td>-0.860334</td>\n",
              "      <td>383.614990</td>\n",
              "    </tr>\n",
              "    <tr>\n",
              "      <th>2014-10-01</th>\n",
              "      <td>387.427002</td>\n",
              "      <td>391.378998</td>\n",
              "      <td>380.779999</td>\n",
              "      <td>383.614990</td>\n",
              "      <td>26229400</td>\n",
              "      <td>-8.542999</td>\n",
              "      <td>-2.226972</td>\n",
              "      <td>375.071991</td>\n",
              "    </tr>\n",
              "    <tr>\n",
              "      <th>2014-10-02</th>\n",
              "      <td>383.988007</td>\n",
              "      <td>385.497009</td>\n",
              "      <td>372.946014</td>\n",
              "      <td>375.071991</td>\n",
              "      <td>21777700</td>\n",
              "      <td>-15.559998</td>\n",
              "      <td>-4.148536</td>\n",
              "      <td>359.511993</td>\n",
              "    </tr>\n",
              "    <tr>\n",
              "      <th>2014-10-03</th>\n",
              "      <td>375.181000</td>\n",
              "      <td>377.695007</td>\n",
              "      <td>357.859009</td>\n",
              "      <td>359.511993</td>\n",
              "      <td>30901200</td>\n",
              "      <td>-30.645996</td>\n",
              "      <td>-8.524332</td>\n",
              "      <td>328.865997</td>\n",
              "    </tr>\n",
              "    <tr>\n",
              "      <th>2014-10-04</th>\n",
              "      <td>359.891998</td>\n",
              "      <td>364.487000</td>\n",
              "      <td>325.885986</td>\n",
              "      <td>328.865997</td>\n",
              "      <td>47236500</td>\n",
              "      <td>-8.355987</td>\n",
              "      <td>-2.540849</td>\n",
              "      <td>320.510010</td>\n",
              "    </tr>\n",
              "    <tr>\n",
              "      <th>2014-10-05</th>\n",
              "      <td>328.915985</td>\n",
              "      <td>341.800995</td>\n",
              "      <td>289.295990</td>\n",
              "      <td>320.510010</td>\n",
              "      <td>83308096</td>\n",
              "      <td>9.569000</td>\n",
              "      <td>2.985554</td>\n",
              "      <td>330.079010</td>\n",
              "    </tr>\n",
              "    <tr>\n",
              "      <th>2014-10-06</th>\n",
              "      <td>320.389008</td>\n",
              "      <td>345.134003</td>\n",
              "      <td>302.559998</td>\n",
              "      <td>330.079010</td>\n",
              "      <td>79011800</td>\n",
              "      <td>6.108002</td>\n",
              "      <td>1.850467</td>\n",
              "      <td>336.187012</td>\n",
              "    </tr>\n",
              "  </tbody>\n",
              "</table>\n",
              "</div>\n",
              "    <div class=\"colab-df-buttons\">\n",
              "\n",
              "  <div class=\"colab-df-container\">\n",
              "    <button class=\"colab-df-convert\" onclick=\"convertToInteractive('df-f1d34395-7a20-499f-8800-dc23c8eef7f8')\"\n",
              "            title=\"Convert this dataframe to an interactive table.\"\n",
              "            style=\"display:none;\">\n",
              "\n",
              "  <svg xmlns=\"http://www.w3.org/2000/svg\" height=\"24px\" viewBox=\"0 -960 960 960\">\n",
              "    <path d=\"M120-120v-720h720v720H120Zm60-500h600v-160H180v160Zm220 220h160v-160H400v160Zm0 220h160v-160H400v160ZM180-400h160v-160H180v160Zm440 0h160v-160H620v160ZM180-180h160v-160H180v160Zm440 0h160v-160H620v160Z\"/>\n",
              "  </svg>\n",
              "    </button>\n",
              "\n",
              "  <style>\n",
              "    .colab-df-container {\n",
              "      display:flex;\n",
              "      gap: 12px;\n",
              "    }\n",
              "\n",
              "    .colab-df-convert {\n",
              "      background-color: #E8F0FE;\n",
              "      border: none;\n",
              "      border-radius: 50%;\n",
              "      cursor: pointer;\n",
              "      display: none;\n",
              "      fill: #1967D2;\n",
              "      height: 32px;\n",
              "      padding: 0 0 0 0;\n",
              "      width: 32px;\n",
              "    }\n",
              "\n",
              "    .colab-df-convert:hover {\n",
              "      background-color: #E2EBFA;\n",
              "      box-shadow: 0px 1px 2px rgba(60, 64, 67, 0.3), 0px 1px 3px 1px rgba(60, 64, 67, 0.15);\n",
              "      fill: #174EA6;\n",
              "    }\n",
              "\n",
              "    .colab-df-buttons div {\n",
              "      margin-bottom: 4px;\n",
              "    }\n",
              "\n",
              "    [theme=dark] .colab-df-convert {\n",
              "      background-color: #3B4455;\n",
              "      fill: #D2E3FC;\n",
              "    }\n",
              "\n",
              "    [theme=dark] .colab-df-convert:hover {\n",
              "      background-color: #434B5C;\n",
              "      box-shadow: 0px 1px 3px 1px rgba(0, 0, 0, 0.15);\n",
              "      filter: drop-shadow(0px 1px 2px rgba(0, 0, 0, 0.3));\n",
              "      fill: #FFFFFF;\n",
              "    }\n",
              "  </style>\n",
              "\n",
              "    <script>\n",
              "      const buttonEl =\n",
              "        document.querySelector('#df-f1d34395-7a20-499f-8800-dc23c8eef7f8 button.colab-df-convert');\n",
              "      buttonEl.style.display =\n",
              "        google.colab.kernel.accessAllowed ? 'block' : 'none';\n",
              "\n",
              "      async function convertToInteractive(key) {\n",
              "        const element = document.querySelector('#df-f1d34395-7a20-499f-8800-dc23c8eef7f8');\n",
              "        const dataTable =\n",
              "          await google.colab.kernel.invokeFunction('convertToInteractive',\n",
              "                                                    [key], {});\n",
              "        if (!dataTable) return;\n",
              "\n",
              "        const docLinkHtml = 'Like what you see? Visit the ' +\n",
              "          '<a target=\"_blank\" href=https://colab.research.google.com/notebooks/data_table.ipynb>data table notebook</a>'\n",
              "          + ' to learn more about interactive tables.';\n",
              "        element.innerHTML = '';\n",
              "        dataTable['output_type'] = 'display_data';\n",
              "        await google.colab.output.renderOutput(dataTable, element);\n",
              "        const docLink = document.createElement('div');\n",
              "        docLink.innerHTML = docLinkHtml;\n",
              "        element.appendChild(docLink);\n",
              "      }\n",
              "    </script>\n",
              "  </div>\n",
              "\n",
              "\n",
              "<div id=\"df-45fad086-0736-4f99-9440-c43e13e5c8c5\">\n",
              "  <button class=\"colab-df-quickchart\" onclick=\"quickchart('df-45fad086-0736-4f99-9440-c43e13e5c8c5')\"\n",
              "            title=\"Suggest charts.\"\n",
              "            style=\"display:none;\">\n",
              "\n",
              "<svg xmlns=\"http://www.w3.org/2000/svg\" height=\"24px\"viewBox=\"0 0 24 24\"\n",
              "     width=\"24px\">\n",
              "    <g>\n",
              "        <path d=\"M19 3H5c-1.1 0-2 .9-2 2v14c0 1.1.9 2 2 2h14c1.1 0 2-.9 2-2V5c0-1.1-.9-2-2-2zM9 17H7v-7h2v7zm4 0h-2V7h2v10zm4 0h-2v-4h2v4z\"/>\n",
              "    </g>\n",
              "</svg>\n",
              "  </button>\n",
              "\n",
              "<style>\n",
              "  .colab-df-quickchart {\n",
              "    background-color: #E8F0FE;\n",
              "    border: none;\n",
              "    border-radius: 50%;\n",
              "    cursor: pointer;\n",
              "    display: none;\n",
              "    fill: #1967D2;\n",
              "    height: 32px;\n",
              "    padding: 0 0 0 0;\n",
              "    width: 32px;\n",
              "  }\n",
              "\n",
              "  .colab-df-quickchart:hover {\n",
              "    background-color: #E2EBFA;\n",
              "    box-shadow: 0px 1px 2px rgba(60, 64, 67, 0.3), 0px 1px 3px 1px rgba(60, 64, 67, 0.15);\n",
              "    fill: #174EA6;\n",
              "  }\n",
              "\n",
              "  [theme=dark] .colab-df-quickchart {\n",
              "    background-color: #3B4455;\n",
              "    fill: #D2E3FC;\n",
              "  }\n",
              "\n",
              "  [theme=dark] .colab-df-quickchart:hover {\n",
              "    background-color: #434B5C;\n",
              "    box-shadow: 0px 1px 3px 1px rgba(0, 0, 0, 0.15);\n",
              "    filter: drop-shadow(0px 1px 2px rgba(0, 0, 0, 0.3));\n",
              "    fill: #FFFFFF;\n",
              "  }\n",
              "</style>\n",
              "\n",
              "  <script>\n",
              "    async function quickchart(key) {\n",
              "      const charts = await google.colab.kernel.invokeFunction(\n",
              "          'suggestCharts', [key], {});\n",
              "    }\n",
              "    (() => {\n",
              "      let quickchartButtonEl =\n",
              "        document.querySelector('#df-45fad086-0736-4f99-9440-c43e13e5c8c5 button');\n",
              "      quickchartButtonEl.style.display =\n",
              "        google.colab.kernel.accessAllowed ? 'block' : 'none';\n",
              "    })();\n",
              "  </script>\n",
              "</div>\n",
              "    </div>\n",
              "  </div>\n"
            ]
          },
          "metadata": {},
          "execution_count": 28
        }
      ]
    },
    {
      "cell_type": "code",
      "source": [
        "df.tail()"
      ],
      "metadata": {
        "colab": {
          "base_uri": "https://localhost:8080/",
          "height": 237
        },
        "id": "4i7xVqWdJJJo",
        "outputId": "6fcfd0a5-d1a5-4134-d514-007d2397c651"
      },
      "execution_count": 29,
      "outputs": [
        {
          "output_type": "execute_result",
          "data": {
            "text/plain": [
              "                    Open          High           Low         Close  \\\n",
              "Date                                                                 \n",
              "2023-02-04  23446.320313  23556.949219  23291.794922  23331.847656   \n",
              "2023-02-05  23332.248047  23423.435547  22841.759766  22955.666016   \n",
              "2023-02-06  22954.021484  23119.279297  22692.025391  22760.109375   \n",
              "2023-02-07  22757.267578  23310.974609  22756.257813  23264.291016   \n",
              "2023-02-08  23263.416016  23367.958984  22731.097656  22939.398438   \n",
              "\n",
              "                 Volume  TargetChange  TargetVariation   TargetClose  \n",
              "Date                                                                  \n",
              "2023-02-04  15639298538   -376.181640        -1.612310  22955.666016  \n",
              "2023-02-05  19564262605   -195.556641        -0.851888  22760.109375  \n",
              "2023-02-06  23825006542    504.181641         2.215199  23264.291016  \n",
              "2023-02-07  27187964471   -324.892578        -1.396529  22939.398438  \n",
              "2023-02-08  25371367758           NaN              NaN           NaN  "
            ],
            "text/html": [
              "\n",
              "  <div id=\"df-8e32580c-a390-490d-b2a3-27d315cf270c\" class=\"colab-df-container\">\n",
              "    <div>\n",
              "<style scoped>\n",
              "    .dataframe tbody tr th:only-of-type {\n",
              "        vertical-align: middle;\n",
              "    }\n",
              "\n",
              "    .dataframe tbody tr th {\n",
              "        vertical-align: top;\n",
              "    }\n",
              "\n",
              "    .dataframe thead th {\n",
              "        text-align: right;\n",
              "    }\n",
              "</style>\n",
              "<table border=\"1\" class=\"dataframe\">\n",
              "  <thead>\n",
              "    <tr style=\"text-align: right;\">\n",
              "      <th></th>\n",
              "      <th>Open</th>\n",
              "      <th>High</th>\n",
              "      <th>Low</th>\n",
              "      <th>Close</th>\n",
              "      <th>Volume</th>\n",
              "      <th>TargetChange</th>\n",
              "      <th>TargetVariation</th>\n",
              "      <th>TargetClose</th>\n",
              "    </tr>\n",
              "    <tr>\n",
              "      <th>Date</th>\n",
              "      <th></th>\n",
              "      <th></th>\n",
              "      <th></th>\n",
              "      <th></th>\n",
              "      <th></th>\n",
              "      <th></th>\n",
              "      <th></th>\n",
              "      <th></th>\n",
              "    </tr>\n",
              "  </thead>\n",
              "  <tbody>\n",
              "    <tr>\n",
              "      <th>2023-02-04</th>\n",
              "      <td>23446.320313</td>\n",
              "      <td>23556.949219</td>\n",
              "      <td>23291.794922</td>\n",
              "      <td>23331.847656</td>\n",
              "      <td>15639298538</td>\n",
              "      <td>-376.181640</td>\n",
              "      <td>-1.612310</td>\n",
              "      <td>22955.666016</td>\n",
              "    </tr>\n",
              "    <tr>\n",
              "      <th>2023-02-05</th>\n",
              "      <td>23332.248047</td>\n",
              "      <td>23423.435547</td>\n",
              "      <td>22841.759766</td>\n",
              "      <td>22955.666016</td>\n",
              "      <td>19564262605</td>\n",
              "      <td>-195.556641</td>\n",
              "      <td>-0.851888</td>\n",
              "      <td>22760.109375</td>\n",
              "    </tr>\n",
              "    <tr>\n",
              "      <th>2023-02-06</th>\n",
              "      <td>22954.021484</td>\n",
              "      <td>23119.279297</td>\n",
              "      <td>22692.025391</td>\n",
              "      <td>22760.109375</td>\n",
              "      <td>23825006542</td>\n",
              "      <td>504.181641</td>\n",
              "      <td>2.215199</td>\n",
              "      <td>23264.291016</td>\n",
              "    </tr>\n",
              "    <tr>\n",
              "      <th>2023-02-07</th>\n",
              "      <td>22757.267578</td>\n",
              "      <td>23310.974609</td>\n",
              "      <td>22756.257813</td>\n",
              "      <td>23264.291016</td>\n",
              "      <td>27187964471</td>\n",
              "      <td>-324.892578</td>\n",
              "      <td>-1.396529</td>\n",
              "      <td>22939.398438</td>\n",
              "    </tr>\n",
              "    <tr>\n",
              "      <th>2023-02-08</th>\n",
              "      <td>23263.416016</td>\n",
              "      <td>23367.958984</td>\n",
              "      <td>22731.097656</td>\n",
              "      <td>22939.398438</td>\n",
              "      <td>25371367758</td>\n",
              "      <td>NaN</td>\n",
              "      <td>NaN</td>\n",
              "      <td>NaN</td>\n",
              "    </tr>\n",
              "  </tbody>\n",
              "</table>\n",
              "</div>\n",
              "    <div class=\"colab-df-buttons\">\n",
              "\n",
              "  <div class=\"colab-df-container\">\n",
              "    <button class=\"colab-df-convert\" onclick=\"convertToInteractive('df-8e32580c-a390-490d-b2a3-27d315cf270c')\"\n",
              "            title=\"Convert this dataframe to an interactive table.\"\n",
              "            style=\"display:none;\">\n",
              "\n",
              "  <svg xmlns=\"http://www.w3.org/2000/svg\" height=\"24px\" viewBox=\"0 -960 960 960\">\n",
              "    <path d=\"M120-120v-720h720v720H120Zm60-500h600v-160H180v160Zm220 220h160v-160H400v160Zm0 220h160v-160H400v160ZM180-400h160v-160H180v160Zm440 0h160v-160H620v160ZM180-180h160v-160H180v160Zm440 0h160v-160H620v160Z\"/>\n",
              "  </svg>\n",
              "    </button>\n",
              "\n",
              "  <style>\n",
              "    .colab-df-container {\n",
              "      display:flex;\n",
              "      gap: 12px;\n",
              "    }\n",
              "\n",
              "    .colab-df-convert {\n",
              "      background-color: #E8F0FE;\n",
              "      border: none;\n",
              "      border-radius: 50%;\n",
              "      cursor: pointer;\n",
              "      display: none;\n",
              "      fill: #1967D2;\n",
              "      height: 32px;\n",
              "      padding: 0 0 0 0;\n",
              "      width: 32px;\n",
              "    }\n",
              "\n",
              "    .colab-df-convert:hover {\n",
              "      background-color: #E2EBFA;\n",
              "      box-shadow: 0px 1px 2px rgba(60, 64, 67, 0.3), 0px 1px 3px 1px rgba(60, 64, 67, 0.15);\n",
              "      fill: #174EA6;\n",
              "    }\n",
              "\n",
              "    .colab-df-buttons div {\n",
              "      margin-bottom: 4px;\n",
              "    }\n",
              "\n",
              "    [theme=dark] .colab-df-convert {\n",
              "      background-color: #3B4455;\n",
              "      fill: #D2E3FC;\n",
              "    }\n",
              "\n",
              "    [theme=dark] .colab-df-convert:hover {\n",
              "      background-color: #434B5C;\n",
              "      box-shadow: 0px 1px 3px 1px rgba(0, 0, 0, 0.15);\n",
              "      filter: drop-shadow(0px 1px 2px rgba(0, 0, 0, 0.3));\n",
              "      fill: #FFFFFF;\n",
              "    }\n",
              "  </style>\n",
              "\n",
              "    <script>\n",
              "      const buttonEl =\n",
              "        document.querySelector('#df-8e32580c-a390-490d-b2a3-27d315cf270c button.colab-df-convert');\n",
              "      buttonEl.style.display =\n",
              "        google.colab.kernel.accessAllowed ? 'block' : 'none';\n",
              "\n",
              "      async function convertToInteractive(key) {\n",
              "        const element = document.querySelector('#df-8e32580c-a390-490d-b2a3-27d315cf270c');\n",
              "        const dataTable =\n",
              "          await google.colab.kernel.invokeFunction('convertToInteractive',\n",
              "                                                    [key], {});\n",
              "        if (!dataTable) return;\n",
              "\n",
              "        const docLinkHtml = 'Like what you see? Visit the ' +\n",
              "          '<a target=\"_blank\" href=https://colab.research.google.com/notebooks/data_table.ipynb>data table notebook</a>'\n",
              "          + ' to learn more about interactive tables.';\n",
              "        element.innerHTML = '';\n",
              "        dataTable['output_type'] = 'display_data';\n",
              "        await google.colab.output.renderOutput(dataTable, element);\n",
              "        const docLink = document.createElement('div');\n",
              "        docLink.innerHTML = docLinkHtml;\n",
              "        element.appendChild(docLink);\n",
              "      }\n",
              "    </script>\n",
              "  </div>\n",
              "\n",
              "\n",
              "<div id=\"df-608d1f68-d9ac-4ee6-8b4f-8147377b4382\">\n",
              "  <button class=\"colab-df-quickchart\" onclick=\"quickchart('df-608d1f68-d9ac-4ee6-8b4f-8147377b4382')\"\n",
              "            title=\"Suggest charts.\"\n",
              "            style=\"display:none;\">\n",
              "\n",
              "<svg xmlns=\"http://www.w3.org/2000/svg\" height=\"24px\"viewBox=\"0 0 24 24\"\n",
              "     width=\"24px\">\n",
              "    <g>\n",
              "        <path d=\"M19 3H5c-1.1 0-2 .9-2 2v14c0 1.1.9 2 2 2h14c1.1 0 2-.9 2-2V5c0-1.1-.9-2-2-2zM9 17H7v-7h2v7zm4 0h-2V7h2v10zm4 0h-2v-4h2v4z\"/>\n",
              "    </g>\n",
              "</svg>\n",
              "  </button>\n",
              "\n",
              "<style>\n",
              "  .colab-df-quickchart {\n",
              "    background-color: #E8F0FE;\n",
              "    border: none;\n",
              "    border-radius: 50%;\n",
              "    cursor: pointer;\n",
              "    display: none;\n",
              "    fill: #1967D2;\n",
              "    height: 32px;\n",
              "    padding: 0 0 0 0;\n",
              "    width: 32px;\n",
              "  }\n",
              "\n",
              "  .colab-df-quickchart:hover {\n",
              "    background-color: #E2EBFA;\n",
              "    box-shadow: 0px 1px 2px rgba(60, 64, 67, 0.3), 0px 1px 3px 1px rgba(60, 64, 67, 0.15);\n",
              "    fill: #174EA6;\n",
              "  }\n",
              "\n",
              "  [theme=dark] .colab-df-quickchart {\n",
              "    background-color: #3B4455;\n",
              "    fill: #D2E3FC;\n",
              "  }\n",
              "\n",
              "  [theme=dark] .colab-df-quickchart:hover {\n",
              "    background-color: #434B5C;\n",
              "    box-shadow: 0px 1px 3px 1px rgba(0, 0, 0, 0.15);\n",
              "    filter: drop-shadow(0px 1px 2px rgba(0, 0, 0, 0.3));\n",
              "    fill: #FFFFFF;\n",
              "  }\n",
              "</style>\n",
              "\n",
              "  <script>\n",
              "    async function quickchart(key) {\n",
              "      const charts = await google.colab.kernel.invokeFunction(\n",
              "          'suggestCharts', [key], {});\n",
              "    }\n",
              "    (() => {\n",
              "      let quickchartButtonEl =\n",
              "        document.querySelector('#df-608d1f68-d9ac-4ee6-8b4f-8147377b4382 button');\n",
              "      quickchartButtonEl.style.display =\n",
              "        google.colab.kernel.accessAllowed ? 'block' : 'none';\n",
              "    })();\n",
              "  </script>\n",
              "</div>\n",
              "    </div>\n",
              "  </div>\n"
            ]
          },
          "metadata": {},
          "execution_count": 29
        }
      ]
    },
    {
      "cell_type": "code",
      "source": [
        "#plt.plot(df.index, df['Close'])"
      ],
      "metadata": {
        "id": "kYaFYGojLbfG"
      },
      "execution_count": 30,
      "outputs": []
    },
    {
      "cell_type": "code",
      "source": [
        "# Separa as Features do Valor Final\n",
        "# Separa X de Y e Retira a última linha\n",
        "#df.pop('Open')\n",
        "#df.pop('High')\n",
        "#df.pop('Low')\n",
        "#df.pop('Volume')\n",
        "\n",
        "#y_array = np.array(df.TargetVariation)[:-1].copy()\n",
        "df.pop('TargetChange')\n",
        "df.pop('TargetVariation')\n",
        "#df.pop('TargetClose')\n",
        "x_array = np.array(df)[:-1].copy() #ignora a última linha, pois não há targetClose\n"
      ],
      "metadata": {
        "id": "iSj1CwbZsIpg"
      },
      "execution_count": 31,
      "outputs": []
    },
    {
      "cell_type": "code",
      "source": [
        "# Divisão entre 70% treino, 10% validação e 20% teste\n",
        "size = len(df-1) - TIME_STEP\n",
        "train_size = int(size * 0.7)\n",
        "validation_size = int(size * 0.1)\n",
        "test_size = size - train_size - validation_size\n",
        "\n",
        "train_data = x_array[: train_size]\n",
        "val_data = x_array[train_size : (train_size + validation_size)]\n",
        "test_data = x_array[(train_size + validation_size) :]\n"
      ],
      "metadata": {
        "id": "cN1vXbqXzgjh"
      },
      "execution_count": 34,
      "outputs": []
    },
    {
      "cell_type": "code",
      "source": [
        "#Transforma os dados para suavizar as variações em escala absoluta\n",
        "# Transform input data\n",
        "scaler_train_input = MinMaxScaler(feature_range=(0, 1))\n",
        "scaled_train_input = scaler_train_input.fit_transform(train_data[:,:-1])\n",
        "\n",
        "scaler_val_input = MinMaxScaler(feature_range=(0, 1))\n",
        "scaled_val_input = scaler_val_input.fit_transform(val_data[:,:-1])\n",
        "\n",
        "scaler_test_input = MinMaxScaler(feature_range=(0, 1))\n",
        "scaled_test_input = scaler_test_input.fit_transform(test_data[:,:-1])\n",
        "\n",
        "# Transform output data\n",
        "scaler_train_output = MinMaxScaler(feature_range=(0, 1))\n",
        "scaled_train_output = scaler_train_output.fit_transform(train_data[:,-1].reshape(-1, 1))\n",
        "\n",
        "scaler_val_output = MinMaxScaler(feature_range=(0, 1))\n",
        "scaled_val_output = scaler_val_output.fit_transform(val_data[:,-1].reshape(-1, 1))\n",
        "\n",
        "scaler_test_output = MinMaxScaler(feature_range=(0, 1))\n",
        "scaled_test_output = scaler_test_output.fit_transform(test_data[:,-1].reshape(-1, 1))"
      ],
      "metadata": {
        "id": "0cj30FewVA38"
      },
      "execution_count": 35,
      "outputs": []
    },
    {
      "cell_type": "code",
      "source": [
        "def createDataset(x, y, time_step=1):\n",
        "  input = []\n",
        "  output = []\n",
        "  for i in range(len(x) - time_step):\n",
        "    row = [e for e in x[i : i + time_step]]\n",
        "    input.append(row)\n",
        "    output.append(y[i])\n",
        "  return np.array(input), np.array(output)\n",
        "\n",
        "x_train, y_train = createDataset(scaled_train_input, scaled_train_output, TIME_STEP)\n",
        "x_val, y_val = createDataset(scaled_val_input, scaled_val_output, TIME_STEP)\n",
        "x_test, y_test = createDataset(scaled_test_input, scaled_test_output, TIME_STEP)\n",
        "\n",
        "print(df.shape)\n",
        "print(x_train.shape, y_train.shape)\n",
        "print(x_val.shape, y_val.shape)\n",
        "print(x_test.shape, y_test.shape)"
      ],
      "metadata": {
        "colab": {
          "base_uri": "https://localhost:8080/"
        },
        "id": "hkOFLEGQ6E6Z",
        "outputId": "cb465782-6228-4bce-e7a4-ae45e1100d7c"
      },
      "execution_count": 36,
      "outputs": [
        {
          "output_type": "stream",
          "name": "stdout",
          "text": [
            "(3067, 6)\n",
            "(2095, 30, 5) (2095, 1)\n",
            "(273, 30, 5) (273, 1)\n",
            "(608, 30, 5) (608, 1)\n"
          ]
        }
      ]
    },
    {
      "cell_type": "markdown",
      "source": [
        "## Construção do Modelo LSTM"
      ],
      "metadata": {
        "id": "5FjYMbeLgA7H"
      }
    },
    {
      "cell_type": "markdown",
      "source": [
        "### Modelo: LSTM\n",
        "\n"
      ],
      "metadata": {
        "id": "DJ54UplFDQZG"
      }
    },
    {
      "cell_type": "code",
      "source": [
        "#create the sequence model\n",
        "model = Sequential()\n",
        "\n",
        "model.add(LSTM(units = 64, activation = 'relu', return_sequences=False, input_shape = (x_train.shape[1], x_train.shape[2])))\n",
        "# model.add(Dropout(0.2))\n",
        "# model.add(LSTM(units = 64, input_shape = (x_train.shape[1], x_train.shape[2])))\n",
        "\n",
        "model.add(Dense(units=1))\n",
        "model.summary()"
      ],
      "metadata": {
        "id": "76_OIh_iSBVr",
        "colab": {
          "base_uri": "https://localhost:8080/"
        },
        "outputId": "2c501ca4-7947-41f1-dda9-5088f9ffbcd2"
      },
      "execution_count": 37,
      "outputs": [
        {
          "output_type": "stream",
          "name": "stdout",
          "text": [
            "Model: \"sequential_1\"\n",
            "_________________________________________________________________\n",
            " Layer (type)                Output Shape              Param #   \n",
            "=================================================================\n",
            " lstm_1 (LSTM)               (None, 64)                17920     \n",
            "                                                                 \n",
            " dense_1 (Dense)             (None, 1)                 65        \n",
            "                                                                 \n",
            "=================================================================\n",
            "Total params: 17,985\n",
            "Trainable params: 17,985\n",
            "Non-trainable params: 0\n",
            "_________________________________________________________________\n"
          ]
        }
      ]
    },
    {
      "cell_type": "code",
      "source": [
        "model.compile(optimizer = 'adam', loss = 'mean_squared_error')\n",
        "checkpoint_path = 'tcc_regressao_1.hdf5'\n",
        "checkpoint = ModelCheckpoint(filepath=checkpoint_path,\n",
        "                             monitor='val_loss',\n",
        "                             verbose=1,\n",
        "                             save_best_only=True,\n",
        "                             mode='min')\n",
        "earlystopping = EarlyStopping(monitor='val_loss', patience=50, restore_best_weights=True)\n",
        "callbacks = [checkpoint, earlystopping]\n",
        "\n",
        "history = model.fit(x_train, y_train, batch_size = 32, epochs = 500, verbose=1, shuffle=False, validation_data=(x_val, y_val), callbacks=callbacks)"
      ],
      "metadata": {
        "id": "HP32S8oOc-5O"
      },
      "execution_count": null,
      "outputs": []
    },
    {
      "cell_type": "markdown",
      "source": [
        "## Previsões e Métricas\n"
      ],
      "metadata": {
        "id": "EFWMq8xTHkOH"
      }
    },
    {
      "cell_type": "code",
      "source": [
        "from tensorflow.keras.models import load_model\n",
        "\n",
        "model_from_saved_checkpoint = load_model(checkpoint_path)"
      ],
      "metadata": {
        "id": "104uha0bk_QX"
      },
      "execution_count": 39,
      "outputs": []
    },
    {
      "cell_type": "code",
      "source": [
        "test_predict = model_from_saved_checkpoint.predict(x_test)\n",
        "\n",
        "test_predict = scaler_test_output.inverse_transform(test_predict.reshape(-1, 1))\n",
        "\n",
        "test_actual = scaler_test_output.inverse_transform(y_test.reshape(-1, 1))"
      ],
      "metadata": {
        "id": "giW8GUoVVEln"
      },
      "execution_count": null,
      "outputs": []
    },
    {
      "cell_type": "code",
      "source": [
        "# Calculate regression metrics\n",
        "mse = mean_squared_error(test_actual, test_predict)\n",
        "rmse = np.sqrt(mse)\n",
        "mae = mean_absolute_error(test_actual, test_predict)\n",
        "r2 = r2_score(test_actual, test_predict)\n",
        "\n",
        "# Print the metrics\n",
        "print(f\"Mean Squared Error (MSE): {mse}\")\n",
        "print(f\"Root Mean Squared Error (RMSE): {rmse}\")\n",
        "print(f\"Mean Absolute Error (MAE): {mae}\")\n",
        "print(f\"Coefficient of Determination (R-squared): {r2}\")"
      ],
      "metadata": {
        "colab": {
          "base_uri": "https://localhost:8080/"
        },
        "id": "6C4gAtLIVg6U",
        "outputId": "12bd0b14-6c3c-4734-f97a-455b81d8fd22"
      },
      "execution_count": 53,
      "outputs": [
        {
          "output_type": "stream",
          "name": "stdout",
          "text": [
            "Mean Squared Error (MSE): 1576426.9163767006\n",
            "Root Mean Squared Error (RMSE): 1255.5584081900374\n",
            "Mean Absolute Error (MAE): 931.2722649936267\n",
            "Coefficient of Determination (R-squared): 0.99134699996009\n"
          ]
        }
      ]
    },
    {
      "cell_type": "markdown",
      "source": [
        "## Gráficos"
      ],
      "metadata": {
        "id": "lOK5IRoKVFa_"
      }
    },
    {
      "cell_type": "code",
      "source": [
        "loss = history.history['loss']\n",
        "val_loss = history.history['val_loss']\n",
        "epochs = range(len(loss))\n",
        "\n",
        "plt.plot(epochs, loss, 'r', label='Training loss')\n",
        "plt.plot(epochs, val_loss, 'b', label='Validation loss')\n",
        "plt.title('Training and validation loss')\n",
        "plt.legend(loc=0)\n",
        "plt.figure()\n",
        "\n",
        "\n",
        "plt.show()"
      ],
      "metadata": {
        "id": "x0Cumz7bHhzt",
        "colab": {
          "base_uri": "https://localhost:8080/",
          "height": 469
        },
        "outputId": "bdf25198-57fa-40f1-9e05-560b048a8f7d"
      },
      "execution_count": 43,
      "outputs": [
        {
          "output_type": "display_data",
          "data": {
            "text/plain": [
              "<Figure size 640x480 with 1 Axes>"
            ],
            "image/png": "[encoded data removed]"
          },
          "metadata": {}
        },
        {
          "output_type": "display_data",
          "data": {
            "text/plain": [
              "<Figure size 640x480 with 0 Axes>"
            ]
          },
          "metadata": {}
        }
      ]
    },
    {
      "cell_type": "code",
      "source": [
        "\n",
        "plt.figure(figsize=(16,7))\n",
        "\n",
        "plt.plot(test_predict, 'r', marker='.', label='Predicted Test', linewidth=0)\n",
        "\n",
        "plt.plot(test_actual, marker='.', label='Actual Test',linewidth=0)\n",
        "\n",
        "plt.legend()\n",
        "plt.show()"
      ],
      "metadata": {
        "id": "WZuC2Z_2X84J",
        "colab": {
          "base_uri": "https://localhost:8080/",
          "height": 603
        },
        "outputId": "873acc19-66c0-4628-8b45-c0bd03c6c9eb"
      },
      "execution_count": 48,
      "outputs": [
        {
          "output_type": "display_data",
          "data": {
            "text/plain": [
              "<Figure size 1600x700 with 1 Axes>"
            ],
            "image/png": "[encoded data removed]"
          },
          "metadata": {}
        }
      ]
    },
    {
      "cell_type": "markdown",
      "source": [
        "Plotar o Gráfico"
      ],
      "metadata": {
        "id": "BlOdoJmVYwYB"
      }
    }
  ]
}